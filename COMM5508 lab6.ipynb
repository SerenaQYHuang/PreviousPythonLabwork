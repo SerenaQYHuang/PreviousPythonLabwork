{
 "cells": [
  {
   "cell_type": "code",
   "execution_count": 1,
   "metadata": {
    "collapsed": true
   },
   "outputs": [],
   "source": [
    "import pandas as pd"
   ]
  },
  {
   "cell_type": "code",
   "execution_count": 2,
   "metadata": {
    "collapsed": true
   },
   "outputs": [],
   "source": [
    "data=pd.read_csv('http://www-bcf.usc.edu/~gareth/ISL/Advertising.csv',index_col=0)"
   ]
  },
  {
   "cell_type": "code",
   "execution_count": 3,
   "metadata": {
    "collapsed": true
   },
   "outputs": [],
   "source": [
    "data.to_csv('Advertising.csv')"
   ]
  },
  {
   "cell_type": "code",
   "execution_count": 4,
   "metadata": {
    "scrolled": true
   },
   "outputs": [
    {
     "data": {
      "text/html": [
       "<div>\n",
       "<style>\n",
       "    .dataframe thead tr:only-child th {\n",
       "        text-align: right;\n",
       "    }\n",
       "\n",
       "    .dataframe thead th {\n",
       "        text-align: left;\n",
       "    }\n",
       "\n",
       "    .dataframe tbody tr th {\n",
       "        vertical-align: top;\n",
       "    }\n",
       "</style>\n",
       "<table border=\"1\" class=\"dataframe\">\n",
       "  <thead>\n",
       "    <tr style=\"text-align: right;\">\n",
       "      <th></th>\n",
       "      <th>TV</th>\n",
       "      <th>radio</th>\n",
       "      <th>newspaper</th>\n",
       "      <th>sales</th>\n",
       "    </tr>\n",
       "  </thead>\n",
       "  <tbody>\n",
       "    <tr>\n",
       "      <th>1</th>\n",
       "      <td>230.1</td>\n",
       "      <td>37.8</td>\n",
       "      <td>69.2</td>\n",
       "      <td>22.1</td>\n",
       "    </tr>\n",
       "    <tr>\n",
       "      <th>2</th>\n",
       "      <td>44.5</td>\n",
       "      <td>39.3</td>\n",
       "      <td>45.1</td>\n",
       "      <td>10.4</td>\n",
       "    </tr>\n",
       "    <tr>\n",
       "      <th>3</th>\n",
       "      <td>17.2</td>\n",
       "      <td>45.9</td>\n",
       "      <td>69.3</td>\n",
       "      <td>9.3</td>\n",
       "    </tr>\n",
       "    <tr>\n",
       "      <th>4</th>\n",
       "      <td>151.5</td>\n",
       "      <td>41.3</td>\n",
       "      <td>58.5</td>\n",
       "      <td>18.5</td>\n",
       "    </tr>\n",
       "    <tr>\n",
       "      <th>5</th>\n",
       "      <td>180.8</td>\n",
       "      <td>10.8</td>\n",
       "      <td>58.4</td>\n",
       "      <td>12.9</td>\n",
       "    </tr>\n",
       "  </tbody>\n",
       "</table>\n",
       "</div>"
      ],
      "text/plain": [
       "      TV  radio  newspaper  sales\n",
       "1  230.1   37.8       69.2   22.1\n",
       "2   44.5   39.3       45.1   10.4\n",
       "3   17.2   45.9       69.3    9.3\n",
       "4  151.5   41.3       58.5   18.5\n",
       "5  180.8   10.8       58.4   12.9"
      ]
     },
     "execution_count": 4,
     "metadata": {},
     "output_type": "execute_result"
    }
   ],
   "source": [
    "data.head()"
   ]
  },
  {
   "cell_type": "code",
   "execution_count": 5,
   "metadata": {},
   "outputs": [
    {
     "data": {
      "text/plain": [
       "(200, 4)"
      ]
     },
     "execution_count": 5,
     "metadata": {},
     "output_type": "execute_result"
    }
   ],
   "source": [
    "data.shape"
   ]
  },
  {
   "cell_type": "code",
   "execution_count": 6,
   "metadata": {
    "collapsed": true
   },
   "outputs": [],
   "source": [
    "# get a visual understanding of it\n",
    "# visualization package called seaborn\n",
    "import seaborn as sns\n",
    "%matplotlib inline"
   ]
  },
  {
   "cell_type": "code",
   "execution_count": 7,
   "metadata": {},
   "outputs": [
    {
     "data": {
      "text/plain": [
       "<seaborn.axisgrid.PairGrid at 0x1bf337ccb00>"
      ]
     },
     "execution_count": 7,
     "metadata": {},
     "output_type": "execute_result"
    },
    {
     "data": {
      "image/png": "[encoded data removed]",
      "text/plain": [
       "<matplotlib.figure.Figure at 0x1bf337ccb38>"
      ]
     },
     "metadata": {},
     "output_type": "display_data"
    }
   ],
   "source": [
    "sns.pairplot(data,x_vars=['TV','radio','newspaper'],y_vars='sales')"
   ]
  },
  {
   "cell_type": "code",
   "execution_count": 8,
   "metadata": {},
   "outputs": [
    {
     "data": {
      "text/html": [
       "<div>\n",
       "<style>\n",
       "    .dataframe thead tr:only-child th {\n",
       "        text-align: right;\n",
       "    }\n",
       "\n",
       "    .dataframe thead th {\n",
       "        text-align: left;\n",
       "    }\n",
       "\n",
       "    .dataframe tbody tr th {\n",
       "        vertical-align: top;\n",
       "    }\n",
       "</style>\n",
       "<table border=\"1\" class=\"dataframe\">\n",
       "  <thead>\n",
       "    <tr style=\"text-align: right;\">\n",
       "      <th></th>\n",
       "      <th>TV</th>\n",
       "      <th>radio</th>\n",
       "      <th>newspaper</th>\n",
       "    </tr>\n",
       "  </thead>\n",
       "  <tbody>\n",
       "    <tr>\n",
       "      <th>1</th>\n",
       "      <td>230.1</td>\n",
       "      <td>37.8</td>\n",
       "      <td>69.2</td>\n",
       "    </tr>\n",
       "    <tr>\n",
       "      <th>2</th>\n",
       "      <td>44.5</td>\n",
       "      <td>39.3</td>\n",
       "      <td>45.1</td>\n",
       "    </tr>\n",
       "    <tr>\n",
       "      <th>3</th>\n",
       "      <td>17.2</td>\n",
       "      <td>45.9</td>\n",
       "      <td>69.3</td>\n",
       "    </tr>\n",
       "    <tr>\n",
       "      <th>4</th>\n",
       "      <td>151.5</td>\n",
       "      <td>41.3</td>\n",
       "      <td>58.5</td>\n",
       "    </tr>\n",
       "    <tr>\n",
       "      <th>5</th>\n",
       "      <td>180.8</td>\n",
       "      <td>10.8</td>\n",
       "      <td>58.4</td>\n",
       "    </tr>\n",
       "  </tbody>\n",
       "</table>\n",
       "</div>"
      ],
      "text/plain": [
       "      TV  radio  newspaper\n",
       "1  230.1   37.8       69.2\n",
       "2   44.5   39.3       45.1\n",
       "3   17.2   45.9       69.3\n",
       "4  151.5   41.3       58.5\n",
       "5  180.8   10.8       58.4"
      ]
     },
     "execution_count": 8,
     "metadata": {},
     "output_type": "execute_result"
    }
   ],
   "source": [
    "#create a python list of feature names\n",
    "feature_cols=['TV','radio','newspaper']\n",
    "x=data[feature_cols]\n",
    "x.head()"
   ]
  },
  {
   "cell_type": "code",
   "execution_count": 9,
   "metadata": {},
   "outputs": [
    {
     "data": {
      "text/plain": [
       "1    22.1\n",
       "2    10.4\n",
       "3     9.3\n",
       "4    18.5\n",
       "5    12.9\n",
       "Name: sales, dtype: float64"
      ]
     },
     "execution_count": 9,
     "metadata": {},
     "output_type": "execute_result"
    }
   ],
   "source": [
    "y=data['sales']\n",
    "y.head()"
   ]
  },
  {
   "cell_type": "code",
   "execution_count": 10,
   "metadata": {},
   "outputs": [
    {
     "data": {
      "text/plain": [
       "LinearRegression(copy_X=True, fit_intercept=True, n_jobs=1, normalize=False)"
      ]
     },
     "execution_count": 10,
     "metadata": {},
     "output_type": "execute_result"
    }
   ],
   "source": [
    "# import model from library\n",
    "from sklearn.linear_model import LinearRegression\n",
    "# instantiate the model\n",
    "linreg=LinearRegression()\n",
    "\n",
    "#fit the model to the training data\n",
    "linreg.fit(x,y)"
   ]
  },
  {
   "cell_type": "code",
   "execution_count": 11,
   "metadata": {},
   "outputs": [
    {
     "name": "stdout",
     "output_type": "stream",
     "text": [
      "2.93888936946\n",
      "[ 0.04576465  0.18853002 -0.00103749]\n"
     ]
    }
   ],
   "source": [
    "print(linreg.intercept_)\n",
    "print(linreg.coef_)"
   ]
  },
  {
   "cell_type": "code",
   "execution_count": 12,
   "metadata": {
    "collapsed": true
   },
   "outputs": [],
   "source": [
    "# transpose np.matrix.transpose(sth)\n",
    "# inverse of matrix np.linolg.inv(sth)"
   ]
  },
  {
   "cell_type": "code",
   "execution_count": 13,
   "metadata": {
    "collapsed": true
   },
   "outputs": [],
   "source": [
    "import numpy as np"
   ]
  },
  {
   "cell_type": "code",
   "execution_count": 14,
   "metadata": {
    "collapsed": true
   },
   "outputs": [],
   "source": [
    "xm=np.matrix(x)\n",
    "ym=np.matrix(y)"
   ]
  },
  {
   "cell_type": "code",
   "execution_count": 15,
   "metadata": {},
   "outputs": [
    {
     "data": {
      "text/plain": [
       "(200, 3)"
      ]
     },
     "execution_count": 15,
     "metadata": {},
     "output_type": "execute_result"
    }
   ],
   "source": [
    "xm.shape"
   ]
  },
  {
   "cell_type": "code",
   "execution_count": 16,
   "metadata": {
    "collapsed": true
   },
   "outputs": [],
   "source": [
    "cons=np.ones((200,1))"
   ]
  },
  {
   "cell_type": "code",
   "execution_count": 17,
   "metadata": {
    "collapsed": true
   },
   "outputs": [],
   "source": [
    "xm=np.concatenate((cons,xm),axis=1)"
   ]
  },
  {
   "cell_type": "code",
   "execution_count": 18,
   "metadata": {},
   "outputs": [
    {
     "data": {
      "text/plain": [
       "matrix([[   1. ,  230.1,   37.8,   69.2],\n",
       "        [   1. ,   44.5,   39.3,   45.1],\n",
       "        [   1. ,   17.2,   45.9,   69.3],\n",
       "        [   1. ,  151.5,   41.3,   58.5],\n",
       "        [   1. ,  180.8,   10.8,   58.4],\n",
       "        [   1. ,    8.7,   48.9,   75. ],\n",
       "        [   1. ,   57.5,   32.8,   23.5],\n",
       "        [   1. ,  120.2,   19.6,   11.6],\n",
       "        [   1. ,    8.6,    2.1,    1. ],\n",
       "        [   1. ,  199.8,    2.6,   21.2],\n",
       "        [   1. ,   66.1,    5.8,   24.2],\n",
       "        [   1. ,  214.7,   24. ,    4. ],\n",
       "        [   1. ,   23.8,   35.1,   65.9],\n",
       "        [   1. ,   97.5,    7.6,    7.2],\n",
       "        [   1. ,  204.1,   32.9,   46. ],\n",
       "        [   1. ,  195.4,   47.7,   52.9],\n",
       "        [   1. ,   67.8,   36.6,  114. ],\n",
       "        [   1. ,  281.4,   39.6,   55.8],\n",
       "        [   1. ,   69.2,   20.5,   18.3],\n",
       "        [   1. ,  147.3,   23.9,   19.1],\n",
       "        [   1. ,  218.4,   27.7,   53.4],\n",
       "        [   1. ,  237.4,    5.1,   23.5],\n",
       "        [   1. ,   13.2,   15.9,   49.6],\n",
       "        [   1. ,  228.3,   16.9,   26.2],\n",
       "        [   1. ,   62.3,   12.6,   18.3],\n",
       "        [   1. ,  262.9,    3.5,   19.5],\n",
       "        [   1. ,  142.9,   29.3,   12.6],\n",
       "        [   1. ,  240.1,   16.7,   22.9],\n",
       "        [   1. ,  248.8,   27.1,   22.9],\n",
       "        [   1. ,   70.6,   16. ,   40.8],\n",
       "        [   1. ,  292.9,   28.3,   43.2],\n",
       "        [   1. ,  112.9,   17.4,   38.6],\n",
       "        [   1. ,   97.2,    1.5,   30. ],\n",
       "        [   1. ,  265.6,   20. ,    0.3],\n",
       "        [   1. ,   95.7,    1.4,    7.4],\n",
       "        [   1. ,  290.7,    4.1,    8.5],\n",
       "        [   1. ,  266.9,   43.8,    5. ],\n",
       "        [   1. ,   74.7,   49.4,   45.7],\n",
       "        [   1. ,   43.1,   26.7,   35.1],\n",
       "        [   1. ,  228. ,   37.7,   32. ],\n",
       "        [   1. ,  202.5,   22.3,   31.6],\n",
       "        [   1. ,  177. ,   33.4,   38.7],\n",
       "        [   1. ,  293.6,   27.7,    1.8],\n",
       "        [   1. ,  206.9,    8.4,   26.4],\n",
       "        [   1. ,   25.1,   25.7,   43.3],\n",
       "        [   1. ,  175.1,   22.5,   31.5],\n",
       "        [   1. ,   89.7,    9.9,   35.7],\n",
       "        [   1. ,  239.9,   41.5,   18.5],\n",
       "        [   1. ,  227.2,   15.8,   49.9],\n",
       "        [   1. ,   66.9,   11.7,   36.8],\n",
       "        [   1. ,  199.8,    3.1,   34.6],\n",
       "        [   1. ,  100.4,    9.6,    3.6],\n",
       "        [   1. ,  216.4,   41.7,   39.6],\n",
       "        [   1. ,  182.6,   46.2,   58.7],\n",
       "        [   1. ,  262.7,   28.8,   15.9],\n",
       "        [   1. ,  198.9,   49.4,   60. ],\n",
       "        [   1. ,    7.3,   28.1,   41.4],\n",
       "        [   1. ,  136.2,   19.2,   16.6],\n",
       "        [   1. ,  210.8,   49.6,   37.7],\n",
       "        [   1. ,  210.7,   29.5,    9.3],\n",
       "        [   1. ,   53.5,    2. ,   21.4],\n",
       "        [   1. ,  261.3,   42.7,   54.7],\n",
       "        [   1. ,  239.3,   15.5,   27.3],\n",
       "        [   1. ,  102.7,   29.6,    8.4],\n",
       "        [   1. ,  131.1,   42.8,   28.9],\n",
       "        [   1. ,   69. ,    9.3,    0.9],\n",
       "        [   1. ,   31.5,   24.6,    2.2],\n",
       "        [   1. ,  139.3,   14.5,   10.2],\n",
       "        [   1. ,  237.4,   27.5,   11. ],\n",
       "        [   1. ,  216.8,   43.9,   27.2],\n",
       "        [   1. ,  199.1,   30.6,   38.7],\n",
       "        [   1. ,  109.8,   14.3,   31.7],\n",
       "        [   1. ,   26.8,   33. ,   19.3],\n",
       "        [   1. ,  129.4,    5.7,   31.3],\n",
       "        [   1. ,  213.4,   24.6,   13.1],\n",
       "        [   1. ,   16.9,   43.7,   89.4],\n",
       "        [   1. ,   27.5,    1.6,   20.7],\n",
       "        [   1. ,  120.5,   28.5,   14.2],\n",
       "        [   1. ,    5.4,   29.9,    9.4],\n",
       "        [   1. ,  116. ,    7.7,   23.1],\n",
       "        [   1. ,   76.4,   26.7,   22.3],\n",
       "        [   1. ,  239.8,    4.1,   36.9],\n",
       "        [   1. ,   75.3,   20.3,   32.5],\n",
       "        [   1. ,   68.4,   44.5,   35.6],\n",
       "        [   1. ,  213.5,   43. ,   33.8],\n",
       "        [   1. ,  193.2,   18.4,   65.7],\n",
       "        [   1. ,   76.3,   27.5,   16. ],\n",
       "        [   1. ,  110.7,   40.6,   63.2],\n",
       "        [   1. ,   88.3,   25.5,   73.4],\n",
       "        [   1. ,  109.8,   47.8,   51.4],\n",
       "        [   1. ,  134.3,    4.9,    9.3],\n",
       "        [   1. ,   28.6,    1.5,   33. ],\n",
       "        [   1. ,  217.7,   33.5,   59. ],\n",
       "        [   1. ,  250.9,   36.5,   72.3],\n",
       "        [   1. ,  107.4,   14. ,   10.9],\n",
       "        [   1. ,  163.3,   31.6,   52.9],\n",
       "        [   1. ,  197.6,    3.5,    5.9],\n",
       "        [   1. ,  184.9,   21. ,   22. ],\n",
       "        [   1. ,  289.7,   42.3,   51.2],\n",
       "        [   1. ,  135.2,   41.7,   45.9],\n",
       "        [   1. ,  222.4,    4.3,   49.8],\n",
       "        [   1. ,  296.4,   36.3,  100.9],\n",
       "        [   1. ,  280.2,   10.1,   21.4],\n",
       "        [   1. ,  187.9,   17.2,   17.9],\n",
       "        [   1. ,  238.2,   34.3,    5.3],\n",
       "        [   1. ,  137.9,   46.4,   59. ],\n",
       "        [   1. ,   25. ,   11. ,   29.7],\n",
       "        [   1. ,   90.4,    0.3,   23.2],\n",
       "        [   1. ,   13.1,    0.4,   25.6],\n",
       "        [   1. ,  255.4,   26.9,    5.5],\n",
       "        [   1. ,  225.8,    8.2,   56.5],\n",
       "        [   1. ,  241.7,   38. ,   23.2],\n",
       "        [   1. ,  175.7,   15.4,    2.4],\n",
       "        [   1. ,  209.6,   20.6,   10.7],\n",
       "        [   1. ,   78.2,   46.8,   34.5],\n",
       "        [   1. ,   75.1,   35. ,   52.7],\n",
       "        [   1. ,  139.2,   14.3,   25.6],\n",
       "        [   1. ,   76.4,    0.8,   14.8],\n",
       "        [   1. ,  125.7,   36.9,   79.2],\n",
       "        [   1. ,   19.4,   16. ,   22.3],\n",
       "        [   1. ,  141.3,   26.8,   46.2],\n",
       "        [   1. ,   18.8,   21.7,   50.4],\n",
       "        [   1. ,  224. ,    2.4,   15.6],\n",
       "        [   1. ,  123.1,   34.6,   12.4],\n",
       "        [   1. ,  229.5,   32.3,   74.2],\n",
       "        [   1. ,   87.2,   11.8,   25.9],\n",
       "        [   1. ,    7.8,   38.9,   50.6],\n",
       "        [   1. ,   80.2,    0. ,    9.2],\n",
       "        [   1. ,  220.3,   49. ,    3.2],\n",
       "        [   1. ,   59.6,   12. ,   43.1],\n",
       "        [   1. ,    0.7,   39.6,    8.7],\n",
       "        [   1. ,  265.2,    2.9,   43. ],\n",
       "        [   1. ,    8.4,   27.2,    2.1],\n",
       "        [   1. ,  219.8,   33.5,   45.1],\n",
       "        [   1. ,   36.9,   38.6,   65.6],\n",
       "        [   1. ,   48.3,   47. ,    8.5],\n",
       "        [   1. ,   25.6,   39. ,    9.3],\n",
       "        [   1. ,  273.7,   28.9,   59.7],\n",
       "        [   1. ,   43. ,   25.9,   20.5],\n",
       "        [   1. ,  184.9,   43.9,    1.7],\n",
       "        [   1. ,   73.4,   17. ,   12.9],\n",
       "        [   1. ,  193.7,   35.4,   75.6],\n",
       "        [   1. ,  220.5,   33.2,   37.9],\n",
       "        [   1. ,  104.6,    5.7,   34.4],\n",
       "        [   1. ,   96.2,   14.8,   38.9],\n",
       "        [   1. ,  140.3,    1.9,    9. ],\n",
       "        [   1. ,  240.1,    7.3,    8.7],\n",
       "        [   1. ,  243.2,   49. ,   44.3],\n",
       "        [   1. ,   38. ,   40.3,   11.9],\n",
       "        [   1. ,   44.7,   25.8,   20.6],\n",
       "        [   1. ,  280.7,   13.9,   37. ],\n",
       "        [   1. ,  121. ,    8.4,   48.7],\n",
       "        [   1. ,  197.6,   23.3,   14.2],\n",
       "        [   1. ,  171.3,   39.7,   37.7],\n",
       "        [   1. ,  187.8,   21.1,    9.5],\n",
       "        [   1. ,    4.1,   11.6,    5.7],\n",
       "        [   1. ,   93.9,   43.5,   50.5],\n",
       "        [   1. ,  149.8,    1.3,   24.3],\n",
       "        [   1. ,   11.7,   36.9,   45.2],\n",
       "        [   1. ,  131.7,   18.4,   34.6],\n",
       "        [   1. ,  172.5,   18.1,   30.7],\n",
       "        [   1. ,   85.7,   35.8,   49.3],\n",
       "        [   1. ,  188.4,   18.1,   25.6],\n",
       "        [   1. ,  163.5,   36.8,    7.4],\n",
       "        [   1. ,  117.2,   14.7,    5.4],\n",
       "        [   1. ,  234.5,    3.4,   84.8],\n",
       "        [   1. ,   17.9,   37.6,   21.6],\n",
       "        [   1. ,  206.8,    5.2,   19.4],\n",
       "        [   1. ,  215.4,   23.6,   57.6],\n",
       "        [   1. ,  284.3,   10.6,    6.4],\n",
       "        [   1. ,   50. ,   11.6,   18.4],\n",
       "        [   1. ,  164.5,   20.9,   47.4],\n",
       "        [   1. ,   19.6,   20.1,   17. ],\n",
       "        [   1. ,  168.4,    7.1,   12.8],\n",
       "        [   1. ,  222.4,    3.4,   13.1],\n",
       "        [   1. ,  276.9,   48.9,   41.8],\n",
       "        [   1. ,  248.4,   30.2,   20.3],\n",
       "        [   1. ,  170.2,    7.8,   35.2],\n",
       "        [   1. ,  276.7,    2.3,   23.7],\n",
       "        [   1. ,  165.6,   10. ,   17.6],\n",
       "        [   1. ,  156.6,    2.6,    8.3],\n",
       "        [   1. ,  218.5,    5.4,   27.4],\n",
       "        [   1. ,   56.2,    5.7,   29.7],\n",
       "        [   1. ,  287.6,   43. ,   71.8],\n",
       "        [   1. ,  253.8,   21.3,   30. ],\n",
       "        [   1. ,  205. ,   45.1,   19.6],\n",
       "        [   1. ,  139.5,    2.1,   26.6],\n",
       "        [   1. ,  191.1,   28.7,   18.2],\n",
       "        [   1. ,  286. ,   13.9,    3.7],\n",
       "        [   1. ,   18.7,   12.1,   23.4],\n",
       "        [   1. ,   39.5,   41.1,    5.8],\n",
       "        [   1. ,   75.5,   10.8,    6. ],\n",
       "        [   1. ,   17.2,    4.1,   31.6],\n",
       "        [   1. ,  166.8,   42. ,    3.6],\n",
       "        [   1. ,  149.7,   35.6,    6. ],\n",
       "        [   1. ,   38.2,    3.7,   13.8],\n",
       "        [   1. ,   94.2,    4.9,    8.1],\n",
       "        [   1. ,  177. ,    9.3,    6.4],\n",
       "        [   1. ,  283.6,   42. ,   66.2],\n",
       "        [   1. ,  232.1,    8.6,    8.7]])"
      ]
     },
     "execution_count": 18,
     "metadata": {},
     "output_type": "execute_result"
    }
   ],
   "source": [
    "xm"
   ]
  },
  {
   "cell_type": "code",
   "execution_count": 19,
   "metadata": {
    "collapsed": true
   },
   "outputs": [],
   "source": [
    "xmtrans=np.matrix.transpose(xm)"
   ]
  },
  {
   "cell_type": "code",
   "execution_count": 20,
   "metadata": {},
   "outputs": [
    {
     "data": {
      "text/plain": [
       "(1, 200)"
      ]
     },
     "execution_count": 20,
     "metadata": {},
     "output_type": "execute_result"
    }
   ],
   "source": [
    "ym.shape"
   ]
  },
  {
   "cell_type": "code",
   "execution_count": 21,
   "metadata": {
    "collapsed": true
   },
   "outputs": [],
   "source": [
    "ym=np.matrix.transpose(ym)"
   ]
  },
  {
   "cell_type": "code",
   "execution_count": 22,
   "metadata": {},
   "outputs": [
    {
     "data": {
      "text/plain": [
       "(200, 4)"
      ]
     },
     "execution_count": 22,
     "metadata": {},
     "output_type": "execute_result"
    }
   ],
   "source": [
    "xm.shape"
   ]
  },
  {
   "cell_type": "code",
   "execution_count": 23,
   "metadata": {},
   "outputs": [
    {
     "data": {
      "text/plain": [
       "(200, 1)"
      ]
     },
     "execution_count": 23,
     "metadata": {},
     "output_type": "execute_result"
    }
   ],
   "source": [
    "ym.shape"
   ]
  },
  {
   "cell_type": "code",
   "execution_count": 24,
   "metadata": {},
   "outputs": [
    {
     "name": "stdout",
     "output_type": "stream",
     "text": [
      "[[  2.93888937e+00]\n",
      " [  4.57646455e-02]\n",
      " [  1.88530017e-01]\n",
      " [ -1.03749304e-03]]\n"
     ]
    }
   ],
   "source": [
    "A=np.linalg.inv(xmtrans*xm)*xmtrans*ym\n",
    "print(A)"
   ]
  },
  {
   "cell_type": "code",
   "execution_count": 25,
   "metadata": {},
   "outputs": [
    {
     "name": "stderr",
     "output_type": "stream",
     "text": [
      "C:\\Users\\Administrator\\Anaconda3\\lib\\site-packages\\sklearn\\cross_validation.py:41: DeprecationWarning: This module was deprecated in version 0.18 in favor of the model_selection module into which all the refactored classes and functions are moved. Also note that the interface of the new CV iterators are different from that of this module. This module will be removed in 0.20.\n",
      "  \"This module will be removed in 0.20.\", DeprecationWarning)\n"
     ]
    }
   ],
   "source": [
    "# splitting our data\n",
    "\n",
    "from sklearn.cross_validation import train_test_split"
   ]
  },
  {
   "cell_type": "code",
   "execution_count": 29,
   "metadata": {
    "collapsed": true
   },
   "outputs": [],
   "source": [
    "xtrain,xtest,ytrain,ytest=train_test_split(x,y,random_state=1)"
   ]
  },
  {
   "cell_type": "code",
   "execution_count": 30,
   "metadata": {},
   "outputs": [
    {
     "data": {
      "text/plain": [
       "LinearRegression(copy_X=True, fit_intercept=True, n_jobs=1, normalize=False)"
      ]
     },
     "execution_count": 30,
     "metadata": {},
     "output_type": "execute_result"
    }
   ],
   "source": [
    "# import the model\n",
    "from sklearn.linear_model import LinearRegression\n",
    "\n",
    "#instantiate your model\n",
    "linreg=LinearRegression()\n",
    "\n",
    "#fit the training data to your model\n",
    "linreg.fit(xtrain,ytrain)"
   ]
  },
  {
   "cell_type": "code",
   "execution_count": 31,
   "metadata": {},
   "outputs": [
    {
     "name": "stdout",
     "output_type": "stream",
     "text": [
      "2.87696662232\n",
      "[ 0.04656457  0.17915812  0.00345046]\n"
     ]
    }
   ],
   "source": [
    "print(linreg.intercept_)\n",
    "print(linreg.coef_)"
   ]
  },
  {
   "cell_type": "code",
   "execution_count": 33,
   "metadata": {},
   "outputs": [
    {
     "data": {
      "text/plain": [
       "array([ 21.70910292,  16.41055243,   7.60955058,  17.80769552,\n",
       "        18.6146359 ,  23.83573998,  16.32488681,  13.43225536,\n",
       "         9.17173403,  17.333853  ,  14.44479482,   9.83511973,\n",
       "        17.18797614,  16.73086831,  15.05529391,  15.61434433,\n",
       "        12.42541574,  17.17716376,  11.08827566,  18.00537501,\n",
       "         9.28438889,  12.98458458,   8.79950614,  10.42382499,\n",
       "        11.3846456 ,  14.98082512,   9.78853268,  19.39643187,\n",
       "        18.18099936,  17.12807566,  21.54670213,  14.69809481,\n",
       "        16.24641438,  12.32114579,  19.92422501,  15.32498602,\n",
       "        13.88726522,  10.03162255,  20.93105915,   7.44936831,\n",
       "         3.64695761,   7.22020178,   5.9962782 ,  18.43381853,\n",
       "         8.39408045,  14.08371047,  15.02195699,  20.35836418,\n",
       "        20.57036347,  19.60636679])"
      ]
     },
     "execution_count": 33,
     "metadata": {},
     "output_type": "execute_result"
    }
   ],
   "source": [
    "# make predictions for xtest based on the coefficients we got from training data\n",
    "\n",
    "ypred=linreg.predict(xtest)\n",
    "ypred"
   ]
  },
  {
   "cell_type": "code",
   "execution_count": 34,
   "metadata": {},
   "outputs": [
    {
     "data": {
      "text/plain": [
       "1.9730456202283384"
      ]
     },
     "execution_count": 34,
     "metadata": {},
     "output_type": "execute_result"
    }
   ],
   "source": [
    "# calculate the mean square error\n",
    "from sklearn import metrics\n",
    "import numpy as np\n",
    "metrics.mean_squared_error(ytest,ypred)"
   ]
  },
  {
   "cell_type": "code",
   "execution_count": 35,
   "metadata": {},
   "outputs": [
    {
     "data": {
      "text/plain": [
       "1.4046514230328955"
      ]
     },
     "execution_count": 35,
     "metadata": {},
     "output_type": "execute_result"
    }
   ],
   "source": [
    "np.sqrt(metrics.mean_squared_error(ytest,ypred))"
   ]
  },
  {
   "cell_type": "code",
   "execution_count": 36,
   "metadata": {},
   "outputs": [
    {
     "data": {
      "text/plain": [
       "1.3879034699382888"
      ]
     },
     "execution_count": 36,
     "metadata": {},
     "output_type": "execute_result"
    }
   ],
   "source": [
    "# feature selection or variable selection\n",
    "# let's drop the newspaper variable\n",
    "\n",
    "feature_cols=['TV','radio']\n",
    "x=data[feature_cols]\n",
    "y=data.sales\n",
    "xtrain,xtest,ytrain,ytest=train_test_split(x,y,random_state=1)\n",
    "linreg.fit(xtrain,ytrain)\n",
    "ypred=linreg.predict(xtest)\n",
    "np.sqrt(metrics.mean_squared_error(ytest,ypred))"
   ]
  },
  {
   "cell_type": "code",
   "execution_count": 37,
   "metadata": {
    "collapsed": true
   },
   "outputs": [],
   "source": [
    "# what if you have a lot of predictors? How can you select the predictors?"
   ]
  }
 ],
 "metadata": {
  "kernelspec": {
   "display_name": "Python 3",
   "language": "python",
   "name": "python3"
  },
  "language_info": {
   "codemirror_mode": {
    "name": "ipython",
    "version": 3
   },
   "file_extension": ".py",
   "mimetype": "text/x-python",
   "name": "python",
   "nbconvert_exporter": "python",
   "pygments_lexer": "ipython3",
   "version": "3.6.3"
  }
 },
 "nbformat": 4,
 "nbformat_minor": 2
}
