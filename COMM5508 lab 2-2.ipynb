{
 "cells": [
  {
   "cell_type": "code",
   "execution_count": 2,
   "metadata": {
    "collapsed": true
   },
   "outputs": [],
   "source": [
    "import pandas as pd"
   ]
  },
  {
   "cell_type": "code",
   "execution_count": 3,
   "metadata": {
    "collapsed": true
   },
   "outputs": [],
   "source": [
    "import numpy as np"
   ]
  },
  {
   "cell_type": "code",
   "execution_count": 4,
   "metadata": {
    "collapsed": true
   },
   "outputs": [],
   "source": [
    "from pandas import Series, DataFrame"
   ]
  },
  {
   "cell_type": "code",
   "execution_count": 5,
   "metadata": {},
   "outputs": [
    {
     "data": {
      "text/plain": [
       "array([ 0.16772391,  0.75362464,  0.4760574 ,  0.29868622,  0.12605819])"
      ]
     },
     "execution_count": 5,
     "metadata": {},
     "output_type": "execute_result"
    }
   ],
   "source": [
    "# create a series\n",
    "a=np.random.rand(5)\n",
    "a"
   ]
  },
  {
   "cell_type": "code",
   "execution_count": 7,
   "metadata": {},
   "outputs": [
    {
     "data": {
      "text/plain": [
       "0    0.167724\n",
       "1    0.753625\n",
       "2    0.476057\n",
       "3    0.298686\n",
       "4    0.126058\n",
       "dtype: float64"
      ]
     },
     "execution_count": 7,
     "metadata": {},
     "output_type": "execute_result"
    }
   ],
   "source": [
    "s=Series(a)\n",
    "s"
   ]
  },
  {
   "cell_type": "code",
   "execution_count": 8,
   "metadata": {},
   "outputs": [
    {
     "data": {
      "text/plain": [
       "a    0.098277\n",
       "b    0.590685\n",
       "c    0.033057\n",
       "d    0.732887\n",
       "e    0.510111\n",
       "dtype: float64"
      ]
     },
     "execution_count": 8,
     "metadata": {},
     "output_type": "execute_result"
    }
   ],
   "source": [
    "# you can customize the index\n",
    "s=Series(np.random.rand(5),index=['a','b','c','d','e'])\n",
    "s"
   ]
  },
  {
   "cell_type": "code",
   "execution_count": 9,
   "metadata": {},
   "outputs": [
    {
     "data": {
      "text/plain": [
       "Index(['a', 'b', 'c', 'd', 'e'], dtype='object')"
      ]
     },
     "execution_count": 9,
     "metadata": {},
     "output_type": "execute_result"
    }
   ],
   "source": [
    "s.index"
   ]
  },
  {
   "cell_type": "code",
   "execution_count": 10,
   "metadata": {},
   "outputs": [
    {
     "data": {
      "text/plain": [
       "array([ 0.09827742,  0.59068542,  0.03305727,  0.73288658,  0.51011072])"
      ]
     },
     "execution_count": 10,
     "metadata": {},
     "output_type": "execute_result"
    }
   ],
   "source": [
    "s.values"
   ]
  },
  {
   "cell_type": "code",
   "execution_count": 11,
   "metadata": {},
   "outputs": [
    {
     "data": {
      "text/plain": [
       "'my_series'"
      ]
     },
     "execution_count": 11,
     "metadata": {},
     "output_type": "execute_result"
    }
   ],
   "source": [
    "s=Series(np.random.rand(5),index=['a','b','c','d','e'],name='my_series')\n",
    "s.name"
   ]
  },
  {
   "cell_type": "code",
   "execution_count": 14,
   "metadata": {},
   "outputs": [
    {
     "name": "stdout",
     "output_type": "stream",
     "text": [
      "{'a': 0, 'b': 1, 'c': 2}\n"
     ]
    }
   ],
   "source": [
    "d={'a':0,'b':1,'c':2}# dictionary\n",
    "print(d)"
   ]
  },
  {
   "cell_type": "code",
   "execution_count": 15,
   "metadata": {},
   "outputs": [
    {
     "data": {
      "text/plain": [
       "b    1.0\n",
       "c    2.0\n",
       "d    NaN\n",
       "a    0.0\n",
       "dtype: float64"
      ]
     },
     "execution_count": 15,
     "metadata": {},
     "output_type": "execute_result"
    }
   ],
   "source": [
    "s=Series(d,index=['b','c','d','a'])\n",
    "s\n",
    "# python will automatically match key-value, missing value will be filled\n",
    "# automatically if it does not exist in the dictionary"
   ]
  },
  {
   "cell_type": "code",
   "execution_count": 16,
   "metadata": {},
   "outputs": [
    {
     "data": {
      "text/plain": [
       "a    100\n",
       "b    100\n",
       "c    100\n",
       "dtype: int64"
      ]
     },
     "execution_count": 16,
     "metadata": {},
     "output_type": "execute_result"
    }
   ],
   "source": [
    "s=Series(100,index=['a','b','c'])\n",
    "s\n",
    "# creating a list(Series) of constant"
   ]
  },
  {
   "cell_type": "code",
   "execution_count": 17,
   "metadata": {},
   "outputs": [
    {
     "data": {
      "text/plain": [
       "a    0.569822\n",
       "b    0.636568\n",
       "c    0.719444\n",
       "d    0.595709\n",
       "e    0.423155\n",
       "dtype: float64"
      ]
     },
     "execution_count": 17,
     "metadata": {},
     "output_type": "execute_result"
    }
   ],
   "source": [
    "# accessing series data\n",
    "s=Series(np.random.rand(5),index=['a','b','c','d','e'])\n",
    "s"
   ]
  },
  {
   "cell_type": "code",
   "execution_count": 18,
   "metadata": {},
   "outputs": [
    {
     "data": {
      "text/plain": [
       "0.56982164494152754"
      ]
     },
     "execution_count": 18,
     "metadata": {},
     "output_type": "execute_result"
    }
   ],
   "source": [
    "s[0]"
   ]
  },
  {
   "cell_type": "code",
   "execution_count": 19,
   "metadata": {},
   "outputs": [
    {
     "data": {
      "text/plain": [
       "a    0.569822\n",
       "b    0.636568\n",
       "dtype: float64"
      ]
     },
     "execution_count": 19,
     "metadata": {},
     "output_type": "execute_result"
    }
   ],
   "source": [
    "s[:2]"
   ]
  },
  {
   "cell_type": "code",
   "execution_count": 20,
   "metadata": {},
   "outputs": [
    {
     "data": {
      "text/plain": [
       "a    0.569822\n",
       "dtype: float64"
      ]
     },
     "execution_count": 20,
     "metadata": {},
     "output_type": "execute_result"
    }
   ],
   "source": [
    "s[:1]"
   ]
  },
  {
   "cell_type": "code",
   "execution_count": 23,
   "metadata": {},
   "outputs": [
    {
     "data": {
      "text/plain": [
       "a    0.569822\n",
       "dtype: float64"
      ]
     },
     "execution_count": 23,
     "metadata": {},
     "output_type": "execute_result"
    }
   ],
   "source": [
    "s[[0]]"
   ]
  },
  {
   "cell_type": "code",
   "execution_count": 24,
   "metadata": {},
   "outputs": [
    {
     "data": {
      "text/plain": [
       "a    0.569822\n",
       "c    0.719444\n",
       "e    0.423155\n",
       "dtype: float64"
      ]
     },
     "execution_count": 24,
     "metadata": {},
     "output_type": "execute_result"
    }
   ],
   "source": [
    "s[[0,2,4]]"
   ]
  },
  {
   "cell_type": "code",
   "execution_count": 25,
   "metadata": {},
   "outputs": [
    {
     "data": {
      "text/plain": [
       "e    0.423155\n",
       "a    0.569822\n",
       "dtype: float64"
      ]
     },
     "execution_count": 25,
     "metadata": {},
     "output_type": "execute_result"
    }
   ],
   "source": [
    "s[['e','a']]"
   ]
  },
  {
   "cell_type": "code",
   "execution_count": 27,
   "metadata": {},
   "outputs": [
    {
     "data": {
      "text/plain": [
       "0.42315500819991081"
      ]
     },
     "execution_count": 27,
     "metadata": {},
     "output_type": "execute_result"
    }
   ],
   "source": [
    "s['e']"
   ]
  },
  {
   "cell_type": "code",
   "execution_count": 28,
   "metadata": {},
   "outputs": [
    {
     "data": {
      "text/plain": [
       "a    0.569822\n",
       "b    0.636568\n",
       "c    0.719444\n",
       "d    0.595709\n",
       "dtype: float64"
      ]
     },
     "execution_count": 28,
     "metadata": {},
     "output_type": "execute_result"
    }
   ],
   "source": [
    "s[s>0.5]"
   ]
  },
  {
   "cell_type": "code",
   "execution_count": 29,
   "metadata": {},
   "outputs": [
    {
     "data": {
      "text/plain": [
       "True"
      ]
     },
     "execution_count": 29,
     "metadata": {},
     "output_type": "execute_result"
    }
   ],
   "source": [
    "'e'in s"
   ]
  },
  {
   "cell_type": "code",
   "execution_count": 31,
   "metadata": {},
   "outputs": [
    {
     "data": {
      "text/plain": [
       "False"
      ]
     },
     "execution_count": 31,
     "metadata": {},
     "output_type": "execute_result"
    }
   ],
   "source": [
    "'0.42315500819991081'in s"
   ]
  },
  {
   "cell_type": "code",
   "execution_count": 37,
   "metadata": {},
   "outputs": [
    {
     "data": {
      "text/html": [
       "<div>\n",
       "<style>\n",
       "    .dataframe thead tr:only-child th {\n",
       "        text-align: right;\n",
       "    }\n",
       "\n",
       "    .dataframe thead th {\n",
       "        text-align: left;\n",
       "    }\n",
       "\n",
       "    .dataframe tbody tr th {\n",
       "        vertical-align: top;\n",
       "    }\n",
       "</style>\n",
       "<table border=\"1\" class=\"dataframe\">\n",
       "  <thead>\n",
       "    <tr style=\"text-align: right;\">\n",
       "      <th></th>\n",
       "      <th>one</th>\n",
       "      <th>two</th>\n",
       "    </tr>\n",
       "  </thead>\n",
       "  <tbody>\n",
       "    <tr>\n",
       "      <th>a</th>\n",
       "      <td>1.0</td>\n",
       "      <td>1</td>\n",
       "    </tr>\n",
       "    <tr>\n",
       "      <th>b</th>\n",
       "      <td>2.0</td>\n",
       "      <td>2</td>\n",
       "    </tr>\n",
       "    <tr>\n",
       "      <th>c</th>\n",
       "      <td>3.0</td>\n",
       "      <td>3</td>\n",
       "    </tr>\n",
       "    <tr>\n",
       "      <th>d</th>\n",
       "      <td>NaN</td>\n",
       "      <td>4</td>\n",
       "    </tr>\n",
       "  </tbody>\n",
       "</table>\n",
       "</div>"
      ],
      "text/plain": [
       "   one  two\n",
       "a  1.0    1\n",
       "b  2.0    2\n",
       "c  3.0    3\n",
       "d  NaN    4"
      ]
     },
     "execution_count": 37,
     "metadata": {},
     "output_type": "execute_result"
    }
   ],
   "source": [
    "# dataframe - multiple series\n",
    "# built df from series\n",
    "d={'one':Series([1,2,3],index=['a','b','c']),'two':Series([1,2,3,4],index=['a','b','c','d'])}\n",
    "df=DataFrame(d)\n",
    "df"
   ]
  },
  {
   "cell_type": "code",
   "execution_count": 38,
   "metadata": {},
   "outputs": [
    {
     "data": {
      "text/html": [
       "<div>\n",
       "<style>\n",
       "    .dataframe thead tr:only-child th {\n",
       "        text-align: right;\n",
       "    }\n",
       "\n",
       "    .dataframe thead th {\n",
       "        text-align: left;\n",
       "    }\n",
       "\n",
       "    .dataframe tbody tr th {\n",
       "        vertical-align: top;\n",
       "    }\n",
       "</style>\n",
       "<table border=\"1\" class=\"dataframe\">\n",
       "  <thead>\n",
       "    <tr style=\"text-align: right;\">\n",
       "      <th></th>\n",
       "      <th>two</th>\n",
       "      <th>three</th>\n",
       "    </tr>\n",
       "  </thead>\n",
       "  <tbody>\n",
       "    <tr>\n",
       "      <th>r</th>\n",
       "      <td>NaN</td>\n",
       "      <td>NaN</td>\n",
       "    </tr>\n",
       "    <tr>\n",
       "      <th>d</th>\n",
       "      <td>4.0</td>\n",
       "      <td>NaN</td>\n",
       "    </tr>\n",
       "    <tr>\n",
       "      <th>a</th>\n",
       "      <td>1.0</td>\n",
       "      <td>NaN</td>\n",
       "    </tr>\n",
       "  </tbody>\n",
       "</table>\n",
       "</div>"
      ],
      "text/plain": [
       "   two  three\n",
       "r  NaN    NaN\n",
       "d  4.0    NaN\n",
       "a  1.0    NaN"
      ]
     },
     "execution_count": 38,
     "metadata": {},
     "output_type": "execute_result"
    }
   ],
   "source": [
    "# create a dataframe from a dataframe\n",
    "df2=DataFrame(df,index=['r','d','a'],columns=['two','three'])\n",
    "df2"
   ]
  },
  {
   "cell_type": "code",
   "execution_count": 39,
   "metadata": {},
   "outputs": [
    {
     "data": {
      "text/plain": [
       "Index(['a', 'b', 'c', 'd'], dtype='object')"
      ]
     },
     "execution_count": 39,
     "metadata": {},
     "output_type": "execute_result"
    }
   ],
   "source": [
    "# a dataframe is composed of 3 parts\n",
    "df.index"
   ]
  },
  {
   "cell_type": "code",
   "execution_count": 41,
   "metadata": {},
   "outputs": [
    {
     "data": {
      "text/plain": [
       "Index(['one', 'two'], dtype='object')"
      ]
     },
     "execution_count": 41,
     "metadata": {},
     "output_type": "execute_result"
    }
   ],
   "source": [
    "df.columns"
   ]
  },
  {
   "cell_type": "code",
   "execution_count": 42,
   "metadata": {},
   "outputs": [
    {
     "data": {
      "text/plain": [
       "array([[  1.,   1.],\n",
       "       [  2.,   2.],\n",
       "       [  3.,   3.],\n",
       "       [ nan,   4.]])"
      ]
     },
     "execution_count": 42,
     "metadata": {},
     "output_type": "execute_result"
    }
   ],
   "source": [
    "df.values"
   ]
  },
  {
   "cell_type": "code",
   "execution_count": 44,
   "metadata": {},
   "outputs": [
    {
     "name": "stdout",
     "output_type": "stream",
     "text": [
      "Empty DataFrame\n",
      "Columns: []\n",
      "Index: []\n"
     ]
    }
   ],
   "source": [
    "# if you want an empty dataframe\n",
    "df=DataFrame()\n",
    "print(df)"
   ]
  },
  {
   "cell_type": "code",
   "execution_count": 45,
   "metadata": {},
   "outputs": [
    {
     "data": {
      "text/html": [
       "<div>\n",
       "<style>\n",
       "    .dataframe thead tr:only-child th {\n",
       "        text-align: right;\n",
       "    }\n",
       "\n",
       "    .dataframe thead th {\n",
       "        text-align: left;\n",
       "    }\n",
       "\n",
       "    .dataframe tbody tr th {\n",
       "        vertical-align: top;\n",
       "    }\n",
       "</style>\n",
       "<table border=\"1\" class=\"dataframe\">\n",
       "  <thead>\n",
       "    <tr style=\"text-align: right;\">\n",
       "      <th></th>\n",
       "      <th>0</th>\n",
       "      <th>1</th>\n",
       "    </tr>\n",
       "  </thead>\n",
       "  <tbody>\n",
       "    <tr>\n",
       "      <th>0</th>\n",
       "      <td>0</td>\n",
       "      <td>4.0</td>\n",
       "    </tr>\n",
       "    <tr>\n",
       "      <th>1</th>\n",
       "      <td>1</td>\n",
       "      <td>8.0</td>\n",
       "    </tr>\n",
       "    <tr>\n",
       "      <th>2</th>\n",
       "      <td>2</td>\n",
       "      <td>12.0</td>\n",
       "    </tr>\n",
       "    <tr>\n",
       "      <th>3</th>\n",
       "      <td>3</td>\n",
       "      <td>16.0</td>\n",
       "    </tr>\n",
       "    <tr>\n",
       "      <th>4</th>\n",
       "      <td>4</td>\n",
       "      <td>20.0</td>\n",
       "    </tr>\n",
       "  </tbody>\n",
       "</table>\n",
       "</div>"
      ],
      "text/plain": [
       "   0     1\n",
       "0  0   4.0\n",
       "1  1   8.0\n",
       "2  2  12.0\n",
       "3  3  16.0\n",
       "4  4  20.0"
      ]
     },
     "execution_count": 45,
     "metadata": {},
     "output_type": "execute_result"
    }
   ],
   "source": [
    "a=Series(range(5))\n",
    "b=Series(np.linspace(4,20,5))\n",
    "df=pd.concat([a,b],axis=1)\n",
    "df"
   ]
  },
  {
   "cell_type": "code",
   "execution_count": 49,
   "metadata": {},
   "outputs": [
    {
     "data": {
      "text/html": [
       "<div>\n",
       "<style>\n",
       "    .dataframe thead tr:only-child th {\n",
       "        text-align: right;\n",
       "    }\n",
       "\n",
       "    .dataframe thead th {\n",
       "        text-align: left;\n",
       "    }\n",
       "\n",
       "    .dataframe tbody tr th {\n",
       "        vertical-align: top;\n",
       "    }\n",
       "</style>\n",
       "<table border=\"1\" class=\"dataframe\">\n",
       "  <thead>\n",
       "    <tr style=\"text-align: right;\">\n",
       "      <th></th>\n",
       "      <th>0</th>\n",
       "      <th>1</th>\n",
       "      <th>2</th>\n",
       "      <th>3</th>\n",
       "      <th>4</th>\n",
       "    </tr>\n",
       "  </thead>\n",
       "  <tbody>\n",
       "    <tr>\n",
       "      <th>alpha</th>\n",
       "      <td>0.0</td>\n",
       "      <td>0.0</td>\n",
       "      <td>0.0</td>\n",
       "      <td>0.0</td>\n",
       "      <td>0.0</td>\n",
       "    </tr>\n",
       "    <tr>\n",
       "      <th>beta</th>\n",
       "      <td>1.0</td>\n",
       "      <td>2.0</td>\n",
       "      <td>3.0</td>\n",
       "      <td>4.0</td>\n",
       "      <td>5.0</td>\n",
       "    </tr>\n",
       "    <tr>\n",
       "      <th>gamma</th>\n",
       "      <td>2.0</td>\n",
       "      <td>4.0</td>\n",
       "      <td>6.0</td>\n",
       "      <td>8.0</td>\n",
       "      <td>10.0</td>\n",
       "    </tr>\n",
       "    <tr>\n",
       "      <th>delta</th>\n",
       "      <td>3.0</td>\n",
       "      <td>6.0</td>\n",
       "      <td>9.0</td>\n",
       "      <td>12.0</td>\n",
       "      <td>15.0</td>\n",
       "    </tr>\n",
       "    <tr>\n",
       "      <th>eta</th>\n",
       "      <td>4.0</td>\n",
       "      <td>8.0</td>\n",
       "      <td>12.0</td>\n",
       "      <td>16.0</td>\n",
       "      <td>20.0</td>\n",
       "    </tr>\n",
       "  </tbody>\n",
       "</table>\n",
       "</div>"
      ],
      "text/plain": [
       "         0    1     2     3     4\n",
       "alpha  0.0  0.0   0.0   0.0   0.0\n",
       "beta   1.0  2.0   3.0   4.0   5.0\n",
       "gamma  2.0  4.0   6.0   8.0  10.0\n",
       "delta  3.0  6.0   9.0  12.0  15.0\n",
       "eta    4.0  8.0  12.0  16.0  20.0"
      ]
     },
     "execution_count": 49,
     "metadata": {},
     "output_type": "execute_result"
    }
   ],
   "source": [
    "# create a big data spreadsheet\n",
    "df=DataFrame()\n",
    "index=['alpha','beta','gamma','delta','eta']\n",
    "for i in range(5):\n",
    "    a=DataFrame([np.linspace(i,5*i,5)],index=[index[i]])\n",
    "    df=pd.concat([df,a],axis=0)\n",
    "df"
   ]
  },
  {
   "cell_type": "code",
   "execution_count": 50,
   "metadata": {},
   "outputs": [
    {
     "data": {
      "text/plain": [
       "alpha    0.0\n",
       "beta     2.0\n",
       "gamma    4.0\n",
       "delta    6.0\n",
       "eta      8.0\n",
       "Name: 1, dtype: float64"
      ]
     },
     "execution_count": 50,
     "metadata": {},
     "output_type": "execute_result"
    }
   ],
   "source": [
    "df[1]"
   ]
  },
  {
   "cell_type": "code",
   "execution_count": 51,
   "metadata": {},
   "outputs": [
    {
     "data": {
      "text/plain": [
       "RangeIndex(start=0, stop=5, step=1)"
      ]
     },
     "execution_count": 51,
     "metadata": {},
     "output_type": "execute_result"
    }
   ],
   "source": [
    "# giving column names\n",
    "df.columns"
   ]
  },
  {
   "cell_type": "code",
   "execution_count": 52,
   "metadata": {},
   "outputs": [
    {
     "data": {
      "text/html": [
       "<div>\n",
       "<style>\n",
       "    .dataframe thead tr:only-child th {\n",
       "        text-align: right;\n",
       "    }\n",
       "\n",
       "    .dataframe thead th {\n",
       "        text-align: left;\n",
       "    }\n",
       "\n",
       "    .dataframe tbody tr th {\n",
       "        vertical-align: top;\n",
       "    }\n",
       "</style>\n",
       "<table border=\"1\" class=\"dataframe\">\n",
       "  <thead>\n",
       "    <tr style=\"text-align: right;\">\n",
       "      <th></th>\n",
       "      <th>a</th>\n",
       "      <th>b</th>\n",
       "      <th>c</th>\n",
       "      <th>d</th>\n",
       "      <th>e</th>\n",
       "    </tr>\n",
       "  </thead>\n",
       "  <tbody>\n",
       "    <tr>\n",
       "      <th>alpha</th>\n",
       "      <td>0.0</td>\n",
       "      <td>0.0</td>\n",
       "      <td>0.0</td>\n",
       "      <td>0.0</td>\n",
       "      <td>0.0</td>\n",
       "    </tr>\n",
       "    <tr>\n",
       "      <th>beta</th>\n",
       "      <td>1.0</td>\n",
       "      <td>2.0</td>\n",
       "      <td>3.0</td>\n",
       "      <td>4.0</td>\n",
       "      <td>5.0</td>\n",
       "    </tr>\n",
       "    <tr>\n",
       "      <th>gamma</th>\n",
       "      <td>2.0</td>\n",
       "      <td>4.0</td>\n",
       "      <td>6.0</td>\n",
       "      <td>8.0</td>\n",
       "      <td>10.0</td>\n",
       "    </tr>\n",
       "    <tr>\n",
       "      <th>delta</th>\n",
       "      <td>3.0</td>\n",
       "      <td>6.0</td>\n",
       "      <td>9.0</td>\n",
       "      <td>12.0</td>\n",
       "      <td>15.0</td>\n",
       "    </tr>\n",
       "    <tr>\n",
       "      <th>eta</th>\n",
       "      <td>4.0</td>\n",
       "      <td>8.0</td>\n",
       "      <td>12.0</td>\n",
       "      <td>16.0</td>\n",
       "      <td>20.0</td>\n",
       "    </tr>\n",
       "  </tbody>\n",
       "</table>\n",
       "</div>"
      ],
      "text/plain": [
       "         a    b     c     d     e\n",
       "alpha  0.0  0.0   0.0   0.0   0.0\n",
       "beta   1.0  2.0   3.0   4.0   5.0\n",
       "gamma  2.0  4.0   6.0   8.0  10.0\n",
       "delta  3.0  6.0   9.0  12.0  15.0\n",
       "eta    4.0  8.0  12.0  16.0  20.0"
      ]
     },
     "execution_count": 52,
     "metadata": {},
     "output_type": "execute_result"
    }
   ],
   "source": [
    "df.columns=['a','b','c','d','e']\n",
    "df"
   ]
  },
  {
   "cell_type": "code",
   "execution_count": 57,
   "metadata": {},
   "outputs": [
    {
     "data": {
      "text/html": [
       "<div>\n",
       "<style>\n",
       "    .dataframe thead tr:only-child th {\n",
       "        text-align: right;\n",
       "    }\n",
       "\n",
       "    .dataframe thead th {\n",
       "        text-align: left;\n",
       "    }\n",
       "\n",
       "    .dataframe tbody tr th {\n",
       "        vertical-align: top;\n",
       "    }\n",
       "</style>\n",
       "<table border=\"1\" class=\"dataframe\">\n",
       "  <thead>\n",
       "    <tr style=\"text-align: right;\">\n",
       "      <th></th>\n",
       "      <th>b</th>\n",
       "      <th>d</th>\n",
       "    </tr>\n",
       "  </thead>\n",
       "  <tbody>\n",
       "    <tr>\n",
       "      <th>alpha</th>\n",
       "      <td>0.0</td>\n",
       "      <td>0.0</td>\n",
       "    </tr>\n",
       "    <tr>\n",
       "      <th>beta</th>\n",
       "      <td>2.0</td>\n",
       "      <td>4.0</td>\n",
       "    </tr>\n",
       "    <tr>\n",
       "      <th>gamma</th>\n",
       "      <td>4.0</td>\n",
       "      <td>8.0</td>\n",
       "    </tr>\n",
       "    <tr>\n",
       "      <th>delta</th>\n",
       "      <td>6.0</td>\n",
       "      <td>12.0</td>\n",
       "    </tr>\n",
       "    <tr>\n",
       "      <th>eta</th>\n",
       "      <td>8.0</td>\n",
       "      <td>16.0</td>\n",
       "    </tr>\n",
       "  </tbody>\n",
       "</table>\n",
       "</div>"
      ],
      "text/plain": [
       "         b     d\n",
       "alpha  0.0   0.0\n",
       "beta   2.0   4.0\n",
       "gamma  4.0   8.0\n",
       "delta  6.0  12.0\n",
       "eta    8.0  16.0"
      ]
     },
     "execution_count": 57,
     "metadata": {},
     "output_type": "execute_result"
    }
   ],
   "source": [
    "df[['b','d']]\n",
    "# first way of accessing a column from dataframe"
   ]
  },
  {
   "cell_type": "code",
   "execution_count": 55,
   "metadata": {},
   "outputs": [
    {
     "data": {
      "text/plain": [
       "alpha    0.0\n",
       "beta     2.0\n",
       "gamma    4.0\n",
       "delta    6.0\n",
       "eta      8.0\n",
       "Name: b, dtype: float64"
      ]
     },
     "execution_count": 55,
     "metadata": {},
     "output_type": "execute_result"
    }
   ],
   "source": [
    "df.b # only works for calling one column"
   ]
  },
  {
   "cell_type": "code",
   "execution_count": 59,
   "metadata": {},
   "outputs": [
    {
     "data": {
      "text/plain": [
       "1.0"
      ]
     },
     "execution_count": 59,
     "metadata": {},
     "output_type": "execute_result"
    }
   ],
   "source": [
    "df['a'][1]"
   ]
  },
  {
   "cell_type": "code",
   "execution_count": 60,
   "metadata": {},
   "outputs": [
    {
     "data": {
      "text/plain": [
       "1.0"
      ]
     },
     "execution_count": 60,
     "metadata": {},
     "output_type": "execute_result"
    }
   ],
   "source": [
    "df['a']['beta']"
   ]
  },
  {
   "cell_type": "code",
   "execution_count": 61,
   "metadata": {},
   "outputs": [
    {
     "data": {
      "text/plain": [
       "a    1.0\n",
       "b    2.0\n",
       "c    3.0\n",
       "d    4.0\n",
       "e    5.0\n",
       "Name: beta, dtype: float64"
      ]
     },
     "execution_count": 61,
     "metadata": {},
     "output_type": "execute_result"
    }
   ],
   "source": [
    "df.iloc[1]\n",
    "# iloc"
   ]
  },
  {
   "cell_type": "code",
   "execution_count": 62,
   "metadata": {},
   "outputs": [
    {
     "data": {
      "text/plain": [
       "a    1.0\n",
       "b    2.0\n",
       "c    3.0\n",
       "d    4.0\n",
       "e    5.0\n",
       "Name: beta, dtype: float64"
      ]
     },
     "execution_count": 62,
     "metadata": {},
     "output_type": "execute_result"
    }
   ],
   "source": [
    "df.loc['beta']\n",
    "# iloc - use numerical index to access a row\n",
    "# loc - use label index to access a row"
   ]
  },
  {
   "cell_type": "code",
   "execution_count": 63,
   "metadata": {},
   "outputs": [
    {
     "data": {
      "text/html": [
       "<div>\n",
       "<style>\n",
       "    .dataframe thead tr:only-child th {\n",
       "        text-align: right;\n",
       "    }\n",
       "\n",
       "    .dataframe thead th {\n",
       "        text-align: left;\n",
       "    }\n",
       "\n",
       "    .dataframe tbody tr th {\n",
       "        vertical-align: top;\n",
       "    }\n",
       "</style>\n",
       "<table border=\"1\" class=\"dataframe\">\n",
       "  <thead>\n",
       "    <tr style=\"text-align: right;\">\n",
       "      <th></th>\n",
       "      <th>a</th>\n",
       "      <th>b</th>\n",
       "      <th>c</th>\n",
       "      <th>d</th>\n",
       "      <th>e</th>\n",
       "    </tr>\n",
       "  </thead>\n",
       "  <tbody>\n",
       "    <tr>\n",
       "      <th>beta</th>\n",
       "      <td>1.0</td>\n",
       "      <td>2.0</td>\n",
       "      <td>3.0</td>\n",
       "      <td>4.0</td>\n",
       "      <td>5.0</td>\n",
       "    </tr>\n",
       "    <tr>\n",
       "      <th>gamma</th>\n",
       "      <td>2.0</td>\n",
       "      <td>4.0</td>\n",
       "      <td>6.0</td>\n",
       "      <td>8.0</td>\n",
       "      <td>10.0</td>\n",
       "    </tr>\n",
       "  </tbody>\n",
       "</table>\n",
       "</div>"
      ],
      "text/plain": [
       "         a    b    c    d     e\n",
       "beta   1.0  2.0  3.0  4.0   5.0\n",
       "gamma  2.0  4.0  6.0  8.0  10.0"
      ]
     },
     "execution_count": 63,
     "metadata": {},
     "output_type": "execute_result"
    }
   ],
   "source": [
    "# slice a df\n",
    "df[1:3]"
   ]
  },
  {
   "cell_type": "code",
   "execution_count": 64,
   "metadata": {},
   "outputs": [
    {
     "data": {
      "text/html": [
       "<div>\n",
       "<style>\n",
       "    .dataframe thead tr:only-child th {\n",
       "        text-align: right;\n",
       "    }\n",
       "\n",
       "    .dataframe thead th {\n",
       "        text-align: left;\n",
       "    }\n",
       "\n",
       "    .dataframe tbody tr th {\n",
       "        vertical-align: top;\n",
       "    }\n",
       "</style>\n",
       "<table border=\"1\" class=\"dataframe\">\n",
       "  <thead>\n",
       "    <tr style=\"text-align: right;\">\n",
       "      <th></th>\n",
       "      <th>a</th>\n",
       "      <th>b</th>\n",
       "      <th>c</th>\n",
       "      <th>d</th>\n",
       "      <th>e</th>\n",
       "    </tr>\n",
       "  </thead>\n",
       "  <tbody>\n",
       "    <tr>\n",
       "      <th>alpha</th>\n",
       "      <td>0.0</td>\n",
       "      <td>0.0</td>\n",
       "      <td>0.0</td>\n",
       "      <td>0.0</td>\n",
       "      <td>0.0</td>\n",
       "    </tr>\n",
       "    <tr>\n",
       "      <th>gamma</th>\n",
       "      <td>2.0</td>\n",
       "      <td>4.0</td>\n",
       "      <td>6.0</td>\n",
       "      <td>8.0</td>\n",
       "      <td>10.0</td>\n",
       "    </tr>\n",
       "    <tr>\n",
       "      <th>delta</th>\n",
       "      <td>3.0</td>\n",
       "      <td>6.0</td>\n",
       "      <td>9.0</td>\n",
       "      <td>12.0</td>\n",
       "      <td>15.0</td>\n",
       "    </tr>\n",
       "  </tbody>\n",
       "</table>\n",
       "</div>"
      ],
      "text/plain": [
       "         a    b    c     d     e\n",
       "alpha  0.0  0.0  0.0   0.0   0.0\n",
       "gamma  2.0  4.0  6.0   8.0  10.0\n",
       "delta  3.0  6.0  9.0  12.0  15.0"
      ]
     },
     "execution_count": 64,
     "metadata": {},
     "output_type": "execute_result"
    }
   ],
   "source": [
    "bv=[True, False, True, True, False]\n",
    "df[bv]"
   ]
  },
  {
   "cell_type": "code",
   "execution_count": 66,
   "metadata": {},
   "outputs": [
    {
     "data": {
      "text/html": [
       "<div>\n",
       "<style>\n",
       "    .dataframe thead tr:only-child th {\n",
       "        text-align: right;\n",
       "    }\n",
       "\n",
       "    .dataframe thead th {\n",
       "        text-align: left;\n",
       "    }\n",
       "\n",
       "    .dataframe tbody tr th {\n",
       "        vertical-align: top;\n",
       "    }\n",
       "</style>\n",
       "<table border=\"1\" class=\"dataframe\">\n",
       "  <thead>\n",
       "    <tr style=\"text-align: right;\">\n",
       "      <th></th>\n",
       "      <th>b</th>\n",
       "      <th>d</th>\n",
       "    </tr>\n",
       "  </thead>\n",
       "  <tbody>\n",
       "    <tr>\n",
       "      <th>beta</th>\n",
       "      <td>2.0</td>\n",
       "      <td>4.0</td>\n",
       "    </tr>\n",
       "    <tr>\n",
       "      <th>delta</th>\n",
       "      <td>6.0</td>\n",
       "      <td>12.0</td>\n",
       "    </tr>\n",
       "  </tbody>\n",
       "</table>\n",
       "</div>"
      ],
      "text/plain": [
       "         b     d\n",
       "beta   2.0   4.0\n",
       "delta  6.0  12.0"
      ]
     },
     "execution_count": 66,
     "metadata": {},
     "output_type": "execute_result"
    }
   ],
   "source": [
    "# slicing combinations of rows and columns\n",
    "\n",
    "df[['b','d']].iloc[[1,3]]"
   ]
  },
  {
   "cell_type": "code",
   "execution_count": 67,
   "metadata": {},
   "outputs": [
    {
     "data": {
      "text/html": [
       "<div>\n",
       "<style>\n",
       "    .dataframe thead tr:only-child th {\n",
       "        text-align: right;\n",
       "    }\n",
       "\n",
       "    .dataframe thead th {\n",
       "        text-align: left;\n",
       "    }\n",
       "\n",
       "    .dataframe tbody tr th {\n",
       "        vertical-align: top;\n",
       "    }\n",
       "</style>\n",
       "<table border=\"1\" class=\"dataframe\">\n",
       "  <thead>\n",
       "    <tr style=\"text-align: right;\">\n",
       "      <th></th>\n",
       "      <th>b</th>\n",
       "      <th>d</th>\n",
       "    </tr>\n",
       "  </thead>\n",
       "  <tbody>\n",
       "    <tr>\n",
       "      <th>beta</th>\n",
       "      <td>2.0</td>\n",
       "      <td>4.0</td>\n",
       "    </tr>\n",
       "    <tr>\n",
       "      <th>delta</th>\n",
       "      <td>6.0</td>\n",
       "      <td>12.0</td>\n",
       "    </tr>\n",
       "  </tbody>\n",
       "</table>\n",
       "</div>"
      ],
      "text/plain": [
       "         b     d\n",
       "beta   2.0   4.0\n",
       "delta  6.0  12.0"
      ]
     },
     "execution_count": 67,
     "metadata": {},
     "output_type": "execute_result"
    }
   ],
   "source": [
    "df.iloc[[1,3]][['b','d']]"
   ]
  },
  {
   "cell_type": "code",
   "execution_count": 69,
   "metadata": {},
   "outputs": [
    {
     "name": "stdout",
     "output_type": "stream",
     "text": [
      "         a    b     c     d     e\n",
      "alpha  0.0  0.0   0.0   0.0   0.0\n",
      "beta   1.0  2.0   3.0   4.0   5.0\n",
      "gamma  2.0  4.0   6.0   8.0  10.0\n",
      "delta  3.0  6.0   9.0  12.0  15.0\n",
      "eta    4.0  8.0  12.0  16.0  20.0\n"
     ]
    },
    {
     "data": {
      "text/plain": [
       "8.0"
      ]
     },
     "execution_count": 69,
     "metadata": {},
     "output_type": "execute_result"
    }
   ],
   "source": [
    "# getting particular element from your dataset\n",
    "print(df)\n",
    "df.iat[2,3]"
   ]
  },
  {
   "cell_type": "code",
   "execution_count": 70,
   "metadata": {},
   "outputs": [
    {
     "data": {
      "text/plain": [
       "8.0"
      ]
     },
     "execution_count": 70,
     "metadata": {},
     "output_type": "execute_result"
    }
   ],
   "source": [
    "df.at['gamma','d']"
   ]
  },
  {
   "cell_type": "code",
   "execution_count": 71,
   "metadata": {},
   "outputs": [
    {
     "name": "stderr",
     "output_type": "stream",
     "text": [
      "C:\\Users\\Administrator\\Anaconda3\\lib\\site-packages\\ipykernel_launcher.py:1: DeprecationWarning: \n",
      ".ix is deprecated. Please use\n",
      ".loc for label based indexing or\n",
      ".iloc for positional indexing\n",
      "\n",
      "See the documentation here:\n",
      "http://pandas.pydata.org/pandas-docs/stable/indexing.html#ix-indexer-is-deprecated\n",
      "  \"\"\"Entry point for launching an IPython kernel.\n"
     ]
    },
    {
     "data": {
      "text/plain": [
       "10.0"
      ]
     },
     "execution_count": 71,
     "metadata": {},
     "output_type": "execute_result"
    }
   ],
   "source": [
    "df.ix['gamma',4]"
   ]
  },
  {
   "cell_type": "code",
   "execution_count": 76,
   "metadata": {},
   "outputs": [
    {
     "data": {
      "text/html": [
       "<div>\n",
       "<style>\n",
       "    .dataframe thead tr:only-child th {\n",
       "        text-align: right;\n",
       "    }\n",
       "\n",
       "    .dataframe thead th {\n",
       "        text-align: left;\n",
       "    }\n",
       "\n",
       "    .dataframe tbody tr th {\n",
       "        vertical-align: top;\n",
       "    }\n",
       "</style>\n",
       "<table border=\"1\" class=\"dataframe\">\n",
       "  <thead>\n",
       "    <tr style=\"text-align: right;\">\n",
       "      <th></th>\n",
       "      <th>b</th>\n",
       "      <th>e</th>\n",
       "    </tr>\n",
       "  </thead>\n",
       "  <tbody>\n",
       "    <tr>\n",
       "      <th>delta</th>\n",
       "      <td>6.0</td>\n",
       "      <td>15.0</td>\n",
       "    </tr>\n",
       "    <tr>\n",
       "      <th>gamma</th>\n",
       "      <td>4.0</td>\n",
       "      <td>10.0</td>\n",
       "    </tr>\n",
       "  </tbody>\n",
       "</table>\n",
       "</div>"
      ],
      "text/plain": [
       "         b     e\n",
       "delta  6.0  15.0\n",
       "gamma  4.0  10.0"
      ]
     },
     "execution_count": 76,
     "metadata": {},
     "output_type": "execute_result"
    }
   ],
   "source": [
    "df.ix[['delta','gamma',],[1,4]]"
   ]
  },
  {
   "cell_type": "code",
   "execution_count": 77,
   "metadata": {},
   "outputs": [
    {
     "data": {
      "text/html": [
       "<div>\n",
       "<style>\n",
       "    .dataframe thead tr:only-child th {\n",
       "        text-align: right;\n",
       "    }\n",
       "\n",
       "    .dataframe thead th {\n",
       "        text-align: left;\n",
       "    }\n",
       "\n",
       "    .dataframe tbody tr th {\n",
       "        vertical-align: top;\n",
       "    }\n",
       "</style>\n",
       "<table border=\"1\" class=\"dataframe\">\n",
       "  <thead>\n",
       "    <tr style=\"text-align: right;\">\n",
       "      <th></th>\n",
       "      <th>b</th>\n",
       "      <th>e</th>\n",
       "    </tr>\n",
       "  </thead>\n",
       "  <tbody>\n",
       "    <tr>\n",
       "      <th>beta</th>\n",
       "      <td>2.0</td>\n",
       "      <td>5.0</td>\n",
       "    </tr>\n",
       "    <tr>\n",
       "      <th>2</th>\n",
       "      <td>NaN</td>\n",
       "      <td>NaN</td>\n",
       "    </tr>\n",
       "  </tbody>\n",
       "</table>\n",
       "</div>"
      ],
      "text/plain": [
       "        b    e\n",
       "beta  2.0  5.0\n",
       "2     NaN  NaN"
      ]
     },
     "execution_count": 77,
     "metadata": {},
     "output_type": "execute_result"
    }
   ],
   "source": [
    "df.ix[['beta',2],['b','e']]"
   ]
  },
  {
   "cell_type": "code",
   "execution_count": 79,
   "metadata": {},
   "outputs": [
    {
     "data": {
      "text/plain": [
       "DatetimeIndex(['2015-01-01', '2015-01-02', '2015-01-03', '2015-01-04',\n",
       "               '2015-01-05'],\n",
       "              dtype='datetime64[ns]', freq='D')"
      ]
     },
     "execution_count": 79,
     "metadata": {},
     "output_type": "execute_result"
    }
   ],
   "source": [
    "# time functions from pandas\n",
    "\n",
    "dates=pd.date_range('20150101',periods=5)\n",
    "dates"
   ]
  },
  {
   "cell_type": "code",
   "execution_count": 82,
   "metadata": {},
   "outputs": [
    {
     "data": {
      "text/plain": [
       "DatetimeIndex(['2015-01-31', '2015-02-28', '2015-03-31', '2015-04-30',\n",
       "               '2015-05-31'],\n",
       "              dtype='datetime64[ns]', freq='M')"
      ]
     },
     "execution_count": 82,
     "metadata": {},
     "output_type": "execute_result"
    }
   ],
   "source": [
    "dates=pd.date_range('20150101',freq='M',periods=5)\n",
    "dates"
   ]
  },
  {
   "cell_type": "code",
   "execution_count": 83,
   "metadata": {},
   "outputs": [
    {
     "data": {
      "text/plain": [
       "DatetimeIndex(['2015-12-31', '2016-12-31', '2017-12-31', '2018-12-31',\n",
       "               '2019-12-31'],\n",
       "              dtype='datetime64[ns]', freq='A-DEC')"
      ]
     },
     "execution_count": 83,
     "metadata": {},
     "output_type": "execute_result"
    }
   ],
   "source": [
    "dates=pd.date_range('20150101',freq='A',periods=5)\n",
    "dates"
   ]
  },
  {
   "cell_type": "code",
   "execution_count": 84,
   "metadata": {},
   "outputs": [
    {
     "data": {
      "text/plain": [
       "DatetimeIndex(['2015-01-01', '2015-01-02', '2015-01-03', '2015-01-04',\n",
       "               '2015-01-05', '2015-01-06', '2015-01-07', '2015-01-08',\n",
       "               '2015-01-09', '2015-01-10', '2015-01-11', '2015-01-12',\n",
       "               '2015-01-13', '2015-01-14', '2015-01-15', '2015-01-16',\n",
       "               '2015-01-17', '2015-01-18', '2015-01-19', '2015-01-20',\n",
       "               '2015-01-21', '2015-01-22', '2015-01-23', '2015-01-24',\n",
       "               '2015-01-25', '2015-01-26', '2015-01-27', '2015-01-28',\n",
       "               '2015-01-29', '2015-01-30', '2015-01-31'],\n",
       "              dtype='datetime64[ns]', freq='D')"
      ]
     },
     "execution_count": 84,
     "metadata": {},
     "output_type": "execute_result"
    }
   ],
   "source": [
    "dates=pd.date_range(start='20150101',end='20150131')\n",
    "dates"
   ]
  },
  {
   "cell_type": "code",
   "execution_count": 86,
   "metadata": {
    "scrolled": true
   },
   "outputs": [
    {
     "data": {
      "text/html": [
       "<div>\n",
       "<style>\n",
       "    .dataframe thead tr:only-child th {\n",
       "        text-align: right;\n",
       "    }\n",
       "\n",
       "    .dataframe thead th {\n",
       "        text-align: left;\n",
       "    }\n",
       "\n",
       "    .dataframe tbody tr th {\n",
       "        vertical-align: top;\n",
       "    }\n",
       "</style>\n",
       "<table border=\"1\" class=\"dataframe\">\n",
       "  <thead>\n",
       "    <tr style=\"text-align: right;\">\n",
       "      <th></th>\n",
       "      <th>A</th>\n",
       "      <th>B</th>\n",
       "      <th>C</th>\n",
       "      <th>D</th>\n",
       "    </tr>\n",
       "  </thead>\n",
       "  <tbody>\n",
       "    <tr>\n",
       "      <th>2015-01-01</th>\n",
       "      <td>0.286678</td>\n",
       "      <td>0.170510</td>\n",
       "      <td>0.759521</td>\n",
       "      <td>0.785469</td>\n",
       "    </tr>\n",
       "    <tr>\n",
       "      <th>2015-01-02</th>\n",
       "      <td>0.884836</td>\n",
       "      <td>0.563992</td>\n",
       "      <td>0.855181</td>\n",
       "      <td>0.092237</td>\n",
       "    </tr>\n",
       "    <tr>\n",
       "      <th>2015-01-03</th>\n",
       "      <td>0.722066</td>\n",
       "      <td>0.699598</td>\n",
       "      <td>0.173805</td>\n",
       "      <td>0.115958</td>\n",
       "    </tr>\n",
       "    <tr>\n",
       "      <th>2015-01-04</th>\n",
       "      <td>0.763549</td>\n",
       "      <td>0.427169</td>\n",
       "      <td>0.247436</td>\n",
       "      <td>0.711062</td>\n",
       "    </tr>\n",
       "    <tr>\n",
       "      <th>2015-01-05</th>\n",
       "      <td>0.142046</td>\n",
       "      <td>0.498509</td>\n",
       "      <td>0.843238</td>\n",
       "      <td>0.208342</td>\n",
       "    </tr>\n",
       "    <tr>\n",
       "      <th>2015-01-06</th>\n",
       "      <td>0.935957</td>\n",
       "      <td>0.227527</td>\n",
       "      <td>0.222800</td>\n",
       "      <td>0.358612</td>\n",
       "    </tr>\n",
       "    <tr>\n",
       "      <th>2015-01-07</th>\n",
       "      <td>0.092762</td>\n",
       "      <td>0.991638</td>\n",
       "      <td>0.380018</td>\n",
       "      <td>0.608891</td>\n",
       "    </tr>\n",
       "    <tr>\n",
       "      <th>2015-01-08</th>\n",
       "      <td>0.096022</td>\n",
       "      <td>0.955306</td>\n",
       "      <td>0.167764</td>\n",
       "      <td>0.607891</td>\n",
       "    </tr>\n",
       "    <tr>\n",
       "      <th>2015-01-09</th>\n",
       "      <td>0.897359</td>\n",
       "      <td>0.261463</td>\n",
       "      <td>0.811029</td>\n",
       "      <td>0.987177</td>\n",
       "    </tr>\n",
       "    <tr>\n",
       "      <th>2015-01-10</th>\n",
       "      <td>0.809743</td>\n",
       "      <td>0.467676</td>\n",
       "      <td>0.342828</td>\n",
       "      <td>0.459419</td>\n",
       "    </tr>\n",
       "    <tr>\n",
       "      <th>2015-01-11</th>\n",
       "      <td>0.333112</td>\n",
       "      <td>0.963467</td>\n",
       "      <td>0.813403</td>\n",
       "      <td>0.437215</td>\n",
       "    </tr>\n",
       "    <tr>\n",
       "      <th>2015-01-12</th>\n",
       "      <td>0.903239</td>\n",
       "      <td>0.557271</td>\n",
       "      <td>0.055731</td>\n",
       "      <td>0.647871</td>\n",
       "    </tr>\n",
       "    <tr>\n",
       "      <th>2015-01-13</th>\n",
       "      <td>0.891254</td>\n",
       "      <td>0.943568</td>\n",
       "      <td>0.859936</td>\n",
       "      <td>0.496755</td>\n",
       "    </tr>\n",
       "    <tr>\n",
       "      <th>2015-01-14</th>\n",
       "      <td>0.998441</td>\n",
       "      <td>0.924136</td>\n",
       "      <td>0.468214</td>\n",
       "      <td>0.761336</td>\n",
       "    </tr>\n",
       "    <tr>\n",
       "      <th>2015-01-15</th>\n",
       "      <td>0.420501</td>\n",
       "      <td>0.076706</td>\n",
       "      <td>0.663242</td>\n",
       "      <td>0.490953</td>\n",
       "    </tr>\n",
       "    <tr>\n",
       "      <th>2015-01-16</th>\n",
       "      <td>0.769102</td>\n",
       "      <td>0.636650</td>\n",
       "      <td>0.521581</td>\n",
       "      <td>0.726752</td>\n",
       "    </tr>\n",
       "    <tr>\n",
       "      <th>2015-01-17</th>\n",
       "      <td>0.228152</td>\n",
       "      <td>0.830230</td>\n",
       "      <td>0.488169</td>\n",
       "      <td>0.264201</td>\n",
       "    </tr>\n",
       "    <tr>\n",
       "      <th>2015-01-18</th>\n",
       "      <td>0.506731</td>\n",
       "      <td>0.736582</td>\n",
       "      <td>0.543750</td>\n",
       "      <td>0.805054</td>\n",
       "    </tr>\n",
       "    <tr>\n",
       "      <th>2015-01-19</th>\n",
       "      <td>0.021969</td>\n",
       "      <td>0.101195</td>\n",
       "      <td>0.504604</td>\n",
       "      <td>0.030984</td>\n",
       "    </tr>\n",
       "    <tr>\n",
       "      <th>2015-01-20</th>\n",
       "      <td>0.840991</td>\n",
       "      <td>0.388687</td>\n",
       "      <td>0.316351</td>\n",
       "      <td>0.142905</td>\n",
       "    </tr>\n",
       "    <tr>\n",
       "      <th>2015-01-21</th>\n",
       "      <td>0.517430</td>\n",
       "      <td>0.907259</td>\n",
       "      <td>0.953229</td>\n",
       "      <td>0.211181</td>\n",
       "    </tr>\n",
       "    <tr>\n",
       "      <th>2015-01-22</th>\n",
       "      <td>0.613076</td>\n",
       "      <td>0.133100</td>\n",
       "      <td>0.204272</td>\n",
       "      <td>0.996904</td>\n",
       "    </tr>\n",
       "    <tr>\n",
       "      <th>2015-01-23</th>\n",
       "      <td>0.116077</td>\n",
       "      <td>0.516090</td>\n",
       "      <td>0.815801</td>\n",
       "      <td>0.103941</td>\n",
       "    </tr>\n",
       "    <tr>\n",
       "      <th>2015-01-24</th>\n",
       "      <td>0.134174</td>\n",
       "      <td>0.803883</td>\n",
       "      <td>0.684734</td>\n",
       "      <td>0.304163</td>\n",
       "    </tr>\n",
       "    <tr>\n",
       "      <th>2015-01-25</th>\n",
       "      <td>0.379264</td>\n",
       "      <td>0.617681</td>\n",
       "      <td>0.325719</td>\n",
       "      <td>0.523956</td>\n",
       "    </tr>\n",
       "    <tr>\n",
       "      <th>2015-01-26</th>\n",
       "      <td>0.829262</td>\n",
       "      <td>0.942974</td>\n",
       "      <td>0.170930</td>\n",
       "      <td>0.111762</td>\n",
       "    </tr>\n",
       "    <tr>\n",
       "      <th>2015-01-27</th>\n",
       "      <td>0.876866</td>\n",
       "      <td>0.382549</td>\n",
       "      <td>0.433601</td>\n",
       "      <td>0.974742</td>\n",
       "    </tr>\n",
       "    <tr>\n",
       "      <th>2015-01-28</th>\n",
       "      <td>0.842071</td>\n",
       "      <td>0.645971</td>\n",
       "      <td>0.673601</td>\n",
       "      <td>0.404623</td>\n",
       "    </tr>\n",
       "    <tr>\n",
       "      <th>2015-01-29</th>\n",
       "      <td>0.735742</td>\n",
       "      <td>0.966476</td>\n",
       "      <td>0.842929</td>\n",
       "      <td>0.473916</td>\n",
       "    </tr>\n",
       "    <tr>\n",
       "      <th>2015-01-30</th>\n",
       "      <td>0.227942</td>\n",
       "      <td>0.187237</td>\n",
       "      <td>0.076745</td>\n",
       "      <td>0.214156</td>\n",
       "    </tr>\n",
       "    <tr>\n",
       "      <th>2015-01-31</th>\n",
       "      <td>0.559797</td>\n",
       "      <td>0.873220</td>\n",
       "      <td>0.405933</td>\n",
       "      <td>0.427262</td>\n",
       "    </tr>\n",
       "  </tbody>\n",
       "</table>\n",
       "</div>"
      ],
      "text/plain": [
       "                   A         B         C         D\n",
       "2015-01-01  0.286678  0.170510  0.759521  0.785469\n",
       "2015-01-02  0.884836  0.563992  0.855181  0.092237\n",
       "2015-01-03  0.722066  0.699598  0.173805  0.115958\n",
       "2015-01-04  0.763549  0.427169  0.247436  0.711062\n",
       "2015-01-05  0.142046  0.498509  0.843238  0.208342\n",
       "2015-01-06  0.935957  0.227527  0.222800  0.358612\n",
       "2015-01-07  0.092762  0.991638  0.380018  0.608891\n",
       "2015-01-08  0.096022  0.955306  0.167764  0.607891\n",
       "2015-01-09  0.897359  0.261463  0.811029  0.987177\n",
       "2015-01-10  0.809743  0.467676  0.342828  0.459419\n",
       "2015-01-11  0.333112  0.963467  0.813403  0.437215\n",
       "2015-01-12  0.903239  0.557271  0.055731  0.647871\n",
       "2015-01-13  0.891254  0.943568  0.859936  0.496755\n",
       "2015-01-14  0.998441  0.924136  0.468214  0.761336\n",
       "2015-01-15  0.420501  0.076706  0.663242  0.490953\n",
       "2015-01-16  0.769102  0.636650  0.521581  0.726752\n",
       "2015-01-17  0.228152  0.830230  0.488169  0.264201\n",
       "2015-01-18  0.506731  0.736582  0.543750  0.805054\n",
       "2015-01-19  0.021969  0.101195  0.504604  0.030984\n",
       "2015-01-20  0.840991  0.388687  0.316351  0.142905\n",
       "2015-01-21  0.517430  0.907259  0.953229  0.211181\n",
       "2015-01-22  0.613076  0.133100  0.204272  0.996904\n",
       "2015-01-23  0.116077  0.516090  0.815801  0.103941\n",
       "2015-01-24  0.134174  0.803883  0.684734  0.304163\n",
       "2015-01-25  0.379264  0.617681  0.325719  0.523956\n",
       "2015-01-26  0.829262  0.942974  0.170930  0.111762\n",
       "2015-01-27  0.876866  0.382549  0.433601  0.974742\n",
       "2015-01-28  0.842071  0.645971  0.673601  0.404623\n",
       "2015-01-29  0.735742  0.966476  0.842929  0.473916\n",
       "2015-01-30  0.227942  0.187237  0.076745  0.214156\n",
       "2015-01-31  0.559797  0.873220  0.405933  0.427262"
      ]
     },
     "execution_count": 86,
     "metadata": {},
     "output_type": "execute_result"
    }
   ],
   "source": [
    "# we can transfer the dates to a df's index\n",
    "\n",
    "df=pd.DataFrame(np.random.rand(31,4),index=dates,columns=list('ABCD'))\n",
    "df"
   ]
  },
  {
   "cell_type": "code",
   "execution_count": 89,
   "metadata": {},
   "outputs": [
    {
     "name": "stdout",
     "output_type": "stream",
     "text": [
      "Requirement already satisfied: pandas-datareader in c:\\users\\administrator\\anaconda3\\lib\\site-packages\n",
      "Requirement already satisfied: requests-file in c:\\users\\administrator\\anaconda3\\lib\\site-packages (from pandas-datareader)\n",
      "Requirement already satisfied: lxml in c:\\users\\administrator\\anaconda3\\lib\\site-packages (from pandas-datareader)\n",
      "Requirement already satisfied: wrapt in c:\\users\\administrator\\anaconda3\\lib\\site-packages (from pandas-datareader)\n",
      "Requirement already satisfied: pandas>=0.19.2 in c:\\users\\administrator\\anaconda3\\lib\\site-packages (from pandas-datareader)\n",
      "Requirement already satisfied: requests>=2.3.0 in c:\\users\\administrator\\anaconda3\\lib\\site-packages (from pandas-datareader)\n",
      "Requirement already satisfied: requests-ftp in c:\\users\\administrator\\anaconda3\\lib\\site-packages (from pandas-datareader)\n",
      "Requirement already satisfied: six in c:\\users\\administrator\\anaconda3\\lib\\site-packages (from requests-file->pandas-datareader)\n",
      "Requirement already satisfied: python-dateutil>=2 in c:\\users\\administrator\\anaconda3\\lib\\site-packages (from pandas>=0.19.2->pandas-datareader)\n",
      "Requirement already satisfied: pytz>=2011k in c:\\users\\administrator\\anaconda3\\lib\\site-packages (from pandas>=0.19.2->pandas-datareader)\n",
      "Requirement already satisfied: numpy>=1.7.0 in c:\\users\\administrator\\anaconda3\\lib\\site-packages (from pandas>=0.19.2->pandas-datareader)\n",
      "Requirement already satisfied: chardet<3.1.0,>=3.0.2 in c:\\users\\administrator\\anaconda3\\lib\\site-packages (from requests>=2.3.0->pandas-datareader)\n",
      "Requirement already satisfied: idna<2.7,>=2.5 in c:\\users\\administrator\\anaconda3\\lib\\site-packages (from requests>=2.3.0->pandas-datareader)\n",
      "Requirement already satisfied: urllib3<1.23,>=1.21.1 in c:\\users\\administrator\\anaconda3\\lib\\site-packages (from requests>=2.3.0->pandas-datareader)\n",
      "Requirement already satisfied: certifi>=2017.4.17 in c:\\users\\administrator\\anaconda3\\lib\\site-packages (from requests>=2.3.0->pandas-datareader)\n"
     ]
    }
   ],
   "source": [
    "! pip install pandas-datareader"
   ]
  },
  {
   "cell_type": "code",
   "execution_count": 90,
   "metadata": {
    "collapsed": true
   },
   "outputs": [],
   "source": [
    "from pandas_datareader import data"
   ]
  },
  {
   "cell_type": "code",
   "execution_count": 91,
   "metadata": {
    "collapsed": true
   },
   "outputs": [],
   "source": [
    "import datetime"
   ]
  },
  {
   "cell_type": "code",
   "execution_count": 92,
   "metadata": {
    "collapsed": true
   },
   "outputs": [],
   "source": [
    "start=datetime.datetime(2017,1,1)\n",
    "end=datetime.datetime(2017,1,27)"
   ]
  },
  {
   "cell_type": "code",
   "execution_count": 94,
   "metadata": {
    "collapsed": true
   },
   "outputs": [],
   "source": [
    "df=data.DataReader('AAPL','quandl',start,end)"
   ]
  },
  {
   "cell_type": "code",
   "execution_count": 96,
   "metadata": {},
   "outputs": [
    {
     "data": {
      "text/html": [
       "<div>\n",
       "<style>\n",
       "    .dataframe thead tr:only-child th {\n",
       "        text-align: right;\n",
       "    }\n",
       "\n",
       "    .dataframe thead th {\n",
       "        text-align: left;\n",
       "    }\n",
       "\n",
       "    .dataframe tbody tr th {\n",
       "        vertical-align: top;\n",
       "    }\n",
       "</style>\n",
       "<table border=\"1\" class=\"dataframe\">\n",
       "  <thead>\n",
       "    <tr style=\"text-align: right;\">\n",
       "      <th></th>\n",
       "      <th>Open</th>\n",
       "      <th>High</th>\n",
       "      <th>Low</th>\n",
       "      <th>Close</th>\n",
       "      <th>Volume</th>\n",
       "      <th>ExDividend</th>\n",
       "      <th>SplitRatio</th>\n",
       "      <th>AdjOpen</th>\n",
       "      <th>AdjHigh</th>\n",
       "      <th>AdjLow</th>\n",
       "      <th>AdjClose</th>\n",
       "      <th>AdjVolume</th>\n",
       "    </tr>\n",
       "    <tr>\n",
       "      <th>Date</th>\n",
       "      <th></th>\n",
       "      <th></th>\n",
       "      <th></th>\n",
       "      <th></th>\n",
       "      <th></th>\n",
       "      <th></th>\n",
       "      <th></th>\n",
       "      <th></th>\n",
       "      <th></th>\n",
       "      <th></th>\n",
       "      <th></th>\n",
       "      <th></th>\n",
       "    </tr>\n",
       "  </thead>\n",
       "  <tbody>\n",
       "    <tr>\n",
       "      <th>2017-01-27</th>\n",
       "      <td>122.140</td>\n",
       "      <td>122.3500</td>\n",
       "      <td>121.6000</td>\n",
       "      <td>121.95</td>\n",
       "      <td>20562944.0</td>\n",
       "      <td>0.0</td>\n",
       "      <td>1.0</td>\n",
       "      <td>120.631393</td>\n",
       "      <td>120.838799</td>\n",
       "      <td>120.098062</td>\n",
       "      <td>120.443739</td>\n",
       "      <td>20562944.0</td>\n",
       "    </tr>\n",
       "    <tr>\n",
       "      <th>2017-01-26</th>\n",
       "      <td>121.670</td>\n",
       "      <td>122.4400</td>\n",
       "      <td>121.6000</td>\n",
       "      <td>121.94</td>\n",
       "      <td>26337576.0</td>\n",
       "      <td>0.0</td>\n",
       "      <td>1.0</td>\n",
       "      <td>120.167198</td>\n",
       "      <td>120.927687</td>\n",
       "      <td>120.098062</td>\n",
       "      <td>120.433863</td>\n",
       "      <td>26337576.0</td>\n",
       "    </tr>\n",
       "    <tr>\n",
       "      <th>2017-01-25</th>\n",
       "      <td>120.420</td>\n",
       "      <td>122.1000</td>\n",
       "      <td>120.2800</td>\n",
       "      <td>121.88</td>\n",
       "      <td>32586673.0</td>\n",
       "      <td>0.0</td>\n",
       "      <td>1.0</td>\n",
       "      <td>118.932637</td>\n",
       "      <td>120.591887</td>\n",
       "      <td>118.794366</td>\n",
       "      <td>120.374604</td>\n",
       "      <td>32586673.0</td>\n",
       "    </tr>\n",
       "    <tr>\n",
       "      <th>2017-01-24</th>\n",
       "      <td>119.550</td>\n",
       "      <td>120.1000</td>\n",
       "      <td>119.5000</td>\n",
       "      <td>119.97</td>\n",
       "      <td>23211038.0</td>\n",
       "      <td>0.0</td>\n",
       "      <td>1.0</td>\n",
       "      <td>118.073383</td>\n",
       "      <td>118.616590</td>\n",
       "      <td>118.024000</td>\n",
       "      <td>118.488195</td>\n",
       "      <td>23211038.0</td>\n",
       "    </tr>\n",
       "    <tr>\n",
       "      <th>2017-01-23</th>\n",
       "      <td>120.000</td>\n",
       "      <td>120.8100</td>\n",
       "      <td>119.7700</td>\n",
       "      <td>120.08</td>\n",
       "      <td>22050218.0</td>\n",
       "      <td>0.0</td>\n",
       "      <td>1.0</td>\n",
       "      <td>118.517825</td>\n",
       "      <td>119.317820</td>\n",
       "      <td>118.290666</td>\n",
       "      <td>118.596837</td>\n",
       "      <td>22050218.0</td>\n",
       "    </tr>\n",
       "    <tr>\n",
       "      <th>2017-01-20</th>\n",
       "      <td>120.450</td>\n",
       "      <td>120.4500</td>\n",
       "      <td>119.7346</td>\n",
       "      <td>120.00</td>\n",
       "      <td>32597892.0</td>\n",
       "      <td>0.0</td>\n",
       "      <td>1.0</td>\n",
       "      <td>118.962267</td>\n",
       "      <td>118.962267</td>\n",
       "      <td>118.255703</td>\n",
       "      <td>118.517825</td>\n",
       "      <td>32597892.0</td>\n",
       "    </tr>\n",
       "    <tr>\n",
       "      <th>2017-01-19</th>\n",
       "      <td>119.400</td>\n",
       "      <td>120.0900</td>\n",
       "      <td>119.3700</td>\n",
       "      <td>119.78</td>\n",
       "      <td>25597291.0</td>\n",
       "      <td>0.0</td>\n",
       "      <td>1.0</td>\n",
       "      <td>117.925236</td>\n",
       "      <td>118.606713</td>\n",
       "      <td>117.895606</td>\n",
       "      <td>118.300542</td>\n",
       "      <td>25597291.0</td>\n",
       "    </tr>\n",
       "    <tr>\n",
       "      <th>2017-01-18</th>\n",
       "      <td>120.000</td>\n",
       "      <td>120.5000</td>\n",
       "      <td>119.7100</td>\n",
       "      <td>119.99</td>\n",
       "      <td>23712961.0</td>\n",
       "      <td>0.0</td>\n",
       "      <td>1.0</td>\n",
       "      <td>118.517825</td>\n",
       "      <td>119.011649</td>\n",
       "      <td>118.231407</td>\n",
       "      <td>118.507948</td>\n",
       "      <td>23712961.0</td>\n",
       "    </tr>\n",
       "    <tr>\n",
       "      <th>2017-01-17</th>\n",
       "      <td>118.340</td>\n",
       "      <td>120.2400</td>\n",
       "      <td>118.2200</td>\n",
       "      <td>120.00</td>\n",
       "      <td>34439843.0</td>\n",
       "      <td>0.0</td>\n",
       "      <td>1.0</td>\n",
       "      <td>116.878328</td>\n",
       "      <td>118.754860</td>\n",
       "      <td>116.759810</td>\n",
       "      <td>118.517825</td>\n",
       "      <td>34439843.0</td>\n",
       "    </tr>\n",
       "    <tr>\n",
       "      <th>2017-01-13</th>\n",
       "      <td>119.110</td>\n",
       "      <td>119.6200</td>\n",
       "      <td>118.8100</td>\n",
       "      <td>119.04</td>\n",
       "      <td>26111948.0</td>\n",
       "      <td>0.0</td>\n",
       "      <td>1.0</td>\n",
       "      <td>117.638817</td>\n",
       "      <td>118.142518</td>\n",
       "      <td>117.342523</td>\n",
       "      <td>117.569682</td>\n",
       "      <td>26111948.0</td>\n",
       "    </tr>\n",
       "    <tr>\n",
       "      <th>2017-01-12</th>\n",
       "      <td>118.895</td>\n",
       "      <td>119.3000</td>\n",
       "      <td>118.2100</td>\n",
       "      <td>119.25</td>\n",
       "      <td>27086220.0</td>\n",
       "      <td>0.0</td>\n",
       "      <td>1.0</td>\n",
       "      <td>117.426473</td>\n",
       "      <td>117.826471</td>\n",
       "      <td>116.749934</td>\n",
       "      <td>117.777088</td>\n",
       "      <td>27086220.0</td>\n",
       "    </tr>\n",
       "    <tr>\n",
       "      <th>2017-01-11</th>\n",
       "      <td>118.740</td>\n",
       "      <td>119.9300</td>\n",
       "      <td>118.6000</td>\n",
       "      <td>119.75</td>\n",
       "      <td>27588593.0</td>\n",
       "      <td>0.0</td>\n",
       "      <td>1.0</td>\n",
       "      <td>117.273388</td>\n",
       "      <td>118.448689</td>\n",
       "      <td>117.135117</td>\n",
       "      <td>118.270913</td>\n",
       "      <td>27588593.0</td>\n",
       "    </tr>\n",
       "    <tr>\n",
       "      <th>2017-01-10</th>\n",
       "      <td>118.770</td>\n",
       "      <td>119.3800</td>\n",
       "      <td>118.3000</td>\n",
       "      <td>119.11</td>\n",
       "      <td>24462051.0</td>\n",
       "      <td>0.0</td>\n",
       "      <td>1.0</td>\n",
       "      <td>117.303017</td>\n",
       "      <td>117.905483</td>\n",
       "      <td>116.838822</td>\n",
       "      <td>117.638817</td>\n",
       "      <td>24462051.0</td>\n",
       "    </tr>\n",
       "    <tr>\n",
       "      <th>2017-01-09</th>\n",
       "      <td>117.950</td>\n",
       "      <td>119.4300</td>\n",
       "      <td>117.9400</td>\n",
       "      <td>118.99</td>\n",
       "      <td>33561948.0</td>\n",
       "      <td>0.0</td>\n",
       "      <td>1.0</td>\n",
       "      <td>116.493145</td>\n",
       "      <td>117.954865</td>\n",
       "      <td>116.483269</td>\n",
       "      <td>117.520300</td>\n",
       "      <td>33561948.0</td>\n",
       "    </tr>\n",
       "    <tr>\n",
       "      <th>2017-01-06</th>\n",
       "      <td>116.780</td>\n",
       "      <td>118.1600</td>\n",
       "      <td>116.4700</td>\n",
       "      <td>117.91</td>\n",
       "      <td>31751900.0</td>\n",
       "      <td>0.0</td>\n",
       "      <td>1.0</td>\n",
       "      <td>115.337596</td>\n",
       "      <td>116.700551</td>\n",
       "      <td>115.031425</td>\n",
       "      <td>116.453639</td>\n",
       "      <td>31751900.0</td>\n",
       "    </tr>\n",
       "    <tr>\n",
       "      <th>2017-01-05</th>\n",
       "      <td>115.920</td>\n",
       "      <td>116.8642</td>\n",
       "      <td>115.8100</td>\n",
       "      <td>116.61</td>\n",
       "      <td>22193587.0</td>\n",
       "      <td>0.0</td>\n",
       "      <td>1.0</td>\n",
       "      <td>114.488219</td>\n",
       "      <td>115.420756</td>\n",
       "      <td>114.379577</td>\n",
       "      <td>115.169696</td>\n",
       "      <td>22193587.0</td>\n",
       "    </tr>\n",
       "    <tr>\n",
       "      <th>2017-01-04</th>\n",
       "      <td>115.850</td>\n",
       "      <td>116.5100</td>\n",
       "      <td>115.7500</td>\n",
       "      <td>116.02</td>\n",
       "      <td>21118116.0</td>\n",
       "      <td>0.0</td>\n",
       "      <td>1.0</td>\n",
       "      <td>114.419083</td>\n",
       "      <td>115.070931</td>\n",
       "      <td>114.320318</td>\n",
       "      <td>114.586983</td>\n",
       "      <td>21118116.0</td>\n",
       "    </tr>\n",
       "    <tr>\n",
       "      <th>2017-01-03</th>\n",
       "      <td>115.800</td>\n",
       "      <td>116.3300</td>\n",
       "      <td>114.7600</td>\n",
       "      <td>116.15</td>\n",
       "      <td>28781865.0</td>\n",
       "      <td>0.0</td>\n",
       "      <td>1.0</td>\n",
       "      <td>114.369701</td>\n",
       "      <td>114.893155</td>\n",
       "      <td>113.342546</td>\n",
       "      <td>114.715378</td>\n",
       "      <td>28781865.0</td>\n",
       "    </tr>\n",
       "  </tbody>\n",
       "</table>\n",
       "</div>"
      ],
      "text/plain": [
       "               Open      High       Low   Close      Volume  ExDividend  \\\n",
       "Date                                                                      \n",
       "2017-01-27  122.140  122.3500  121.6000  121.95  20562944.0         0.0   \n",
       "2017-01-26  121.670  122.4400  121.6000  121.94  26337576.0         0.0   \n",
       "2017-01-25  120.420  122.1000  120.2800  121.88  32586673.0         0.0   \n",
       "2017-01-24  119.550  120.1000  119.5000  119.97  23211038.0         0.0   \n",
       "2017-01-23  120.000  120.8100  119.7700  120.08  22050218.0         0.0   \n",
       "2017-01-20  120.450  120.4500  119.7346  120.00  32597892.0         0.0   \n",
       "2017-01-19  119.400  120.0900  119.3700  119.78  25597291.0         0.0   \n",
       "2017-01-18  120.000  120.5000  119.7100  119.99  23712961.0         0.0   \n",
       "2017-01-17  118.340  120.2400  118.2200  120.00  34439843.0         0.0   \n",
       "2017-01-13  119.110  119.6200  118.8100  119.04  26111948.0         0.0   \n",
       "2017-01-12  118.895  119.3000  118.2100  119.25  27086220.0         0.0   \n",
       "2017-01-11  118.740  119.9300  118.6000  119.75  27588593.0         0.0   \n",
       "2017-01-10  118.770  119.3800  118.3000  119.11  24462051.0         0.0   \n",
       "2017-01-09  117.950  119.4300  117.9400  118.99  33561948.0         0.0   \n",
       "2017-01-06  116.780  118.1600  116.4700  117.91  31751900.0         0.0   \n",
       "2017-01-05  115.920  116.8642  115.8100  116.61  22193587.0         0.0   \n",
       "2017-01-04  115.850  116.5100  115.7500  116.02  21118116.0         0.0   \n",
       "2017-01-03  115.800  116.3300  114.7600  116.15  28781865.0         0.0   \n",
       "\n",
       "            SplitRatio     AdjOpen     AdjHigh      AdjLow    AdjClose  \\\n",
       "Date                                                                     \n",
       "2017-01-27         1.0  120.631393  120.838799  120.098062  120.443739   \n",
       "2017-01-26         1.0  120.167198  120.927687  120.098062  120.433863   \n",
       "2017-01-25         1.0  118.932637  120.591887  118.794366  120.374604   \n",
       "2017-01-24         1.0  118.073383  118.616590  118.024000  118.488195   \n",
       "2017-01-23         1.0  118.517825  119.317820  118.290666  118.596837   \n",
       "2017-01-20         1.0  118.962267  118.962267  118.255703  118.517825   \n",
       "2017-01-19         1.0  117.925236  118.606713  117.895606  118.300542   \n",
       "2017-01-18         1.0  118.517825  119.011649  118.231407  118.507948   \n",
       "2017-01-17         1.0  116.878328  118.754860  116.759810  118.517825   \n",
       "2017-01-13         1.0  117.638817  118.142518  117.342523  117.569682   \n",
       "2017-01-12         1.0  117.426473  117.826471  116.749934  117.777088   \n",
       "2017-01-11         1.0  117.273388  118.448689  117.135117  118.270913   \n",
       "2017-01-10         1.0  117.303017  117.905483  116.838822  117.638817   \n",
       "2017-01-09         1.0  116.493145  117.954865  116.483269  117.520300   \n",
       "2017-01-06         1.0  115.337596  116.700551  115.031425  116.453639   \n",
       "2017-01-05         1.0  114.488219  115.420756  114.379577  115.169696   \n",
       "2017-01-04         1.0  114.419083  115.070931  114.320318  114.586983   \n",
       "2017-01-03         1.0  114.369701  114.893155  113.342546  114.715378   \n",
       "\n",
       "             AdjVolume  \n",
       "Date                    \n",
       "2017-01-27  20562944.0  \n",
       "2017-01-26  26337576.0  \n",
       "2017-01-25  32586673.0  \n",
       "2017-01-24  23211038.0  \n",
       "2017-01-23  22050218.0  \n",
       "2017-01-20  32597892.0  \n",
       "2017-01-19  25597291.0  \n",
       "2017-01-18  23712961.0  \n",
       "2017-01-17  34439843.0  \n",
       "2017-01-13  26111948.0  \n",
       "2017-01-12  27086220.0  \n",
       "2017-01-11  27588593.0  \n",
       "2017-01-10  24462051.0  \n",
       "2017-01-09  33561948.0  \n",
       "2017-01-06  31751900.0  \n",
       "2017-01-05  22193587.0  \n",
       "2017-01-04  21118116.0  \n",
       "2017-01-03  28781865.0  "
      ]
     },
     "execution_count": 96,
     "metadata": {},
     "output_type": "execute_result"
    }
   ],
   "source": [
    "df"
   ]
  },
  {
   "cell_type": "code",
   "execution_count": 97,
   "metadata": {},
   "outputs": [
    {
     "data": {
      "text/plain": [
       "pandas.core.frame.DataFrame"
      ]
     },
     "execution_count": 97,
     "metadata": {},
     "output_type": "execute_result"
    }
   ],
   "source": [
    "type(df)"
   ]
  },
  {
   "cell_type": "code",
   "execution_count": 98,
   "metadata": {},
   "outputs": [
    {
     "data": {
      "text/plain": [
       "(18, 12)"
      ]
     },
     "execution_count": 98,
     "metadata": {},
     "output_type": "execute_result"
    }
   ],
   "source": [
    "df.shape"
   ]
  },
  {
   "cell_type": "code",
   "execution_count": 100,
   "metadata": {},
   "outputs": [
    {
     "data": {
      "text/html": [
       "<div>\n",
       "<style>\n",
       "    .dataframe thead tr:only-child th {\n",
       "        text-align: right;\n",
       "    }\n",
       "\n",
       "    .dataframe thead th {\n",
       "        text-align: left;\n",
       "    }\n",
       "\n",
       "    .dataframe tbody tr th {\n",
       "        vertical-align: top;\n",
       "    }\n",
       "</style>\n",
       "<table border=\"1\" class=\"dataframe\">\n",
       "  <thead>\n",
       "    <tr style=\"text-align: right;\">\n",
       "      <th></th>\n",
       "      <th>Open</th>\n",
       "      <th>High</th>\n",
       "      <th>Low</th>\n",
       "      <th>Close</th>\n",
       "      <th>Volume</th>\n",
       "      <th>ExDividend</th>\n",
       "      <th>SplitRatio</th>\n",
       "      <th>AdjOpen</th>\n",
       "      <th>AdjHigh</th>\n",
       "      <th>AdjLow</th>\n",
       "      <th>AdjClose</th>\n",
       "      <th>AdjVolume</th>\n",
       "    </tr>\n",
       "    <tr>\n",
       "      <th>Date</th>\n",
       "      <th></th>\n",
       "      <th></th>\n",
       "      <th></th>\n",
       "      <th></th>\n",
       "      <th></th>\n",
       "      <th></th>\n",
       "      <th></th>\n",
       "      <th></th>\n",
       "      <th></th>\n",
       "      <th></th>\n",
       "      <th></th>\n",
       "      <th></th>\n",
       "    </tr>\n",
       "  </thead>\n",
       "  <tbody>\n",
       "    <tr>\n",
       "      <th>2017-01-27</th>\n",
       "      <td>122.14</td>\n",
       "      <td>122.35</td>\n",
       "      <td>121.60</td>\n",
       "      <td>121.95</td>\n",
       "      <td>20562944.0</td>\n",
       "      <td>0.0</td>\n",
       "      <td>1.0</td>\n",
       "      <td>120.631393</td>\n",
       "      <td>120.838799</td>\n",
       "      <td>120.098062</td>\n",
       "      <td>120.443739</td>\n",
       "      <td>20562944.0</td>\n",
       "    </tr>\n",
       "    <tr>\n",
       "      <th>2017-01-26</th>\n",
       "      <td>121.67</td>\n",
       "      <td>122.44</td>\n",
       "      <td>121.60</td>\n",
       "      <td>121.94</td>\n",
       "      <td>26337576.0</td>\n",
       "      <td>0.0</td>\n",
       "      <td>1.0</td>\n",
       "      <td>120.167198</td>\n",
       "      <td>120.927687</td>\n",
       "      <td>120.098062</td>\n",
       "      <td>120.433863</td>\n",
       "      <td>26337576.0</td>\n",
       "    </tr>\n",
       "    <tr>\n",
       "      <th>2017-01-25</th>\n",
       "      <td>120.42</td>\n",
       "      <td>122.10</td>\n",
       "      <td>120.28</td>\n",
       "      <td>121.88</td>\n",
       "      <td>32586673.0</td>\n",
       "      <td>0.0</td>\n",
       "      <td>1.0</td>\n",
       "      <td>118.932637</td>\n",
       "      <td>120.591887</td>\n",
       "      <td>118.794366</td>\n",
       "      <td>120.374604</td>\n",
       "      <td>32586673.0</td>\n",
       "    </tr>\n",
       "  </tbody>\n",
       "</table>\n",
       "</div>"
      ],
      "text/plain": [
       "              Open    High     Low   Close      Volume  ExDividend  \\\n",
       "Date                                                                 \n",
       "2017-01-27  122.14  122.35  121.60  121.95  20562944.0         0.0   \n",
       "2017-01-26  121.67  122.44  121.60  121.94  26337576.0         0.0   \n",
       "2017-01-25  120.42  122.10  120.28  121.88  32586673.0         0.0   \n",
       "\n",
       "            SplitRatio     AdjOpen     AdjHigh      AdjLow    AdjClose  \\\n",
       "Date                                                                     \n",
       "2017-01-27         1.0  120.631393  120.838799  120.098062  120.443739   \n",
       "2017-01-26         1.0  120.167198  120.927687  120.098062  120.433863   \n",
       "2017-01-25         1.0  118.932637  120.591887  118.794366  120.374604   \n",
       "\n",
       "             AdjVolume  \n",
       "Date                    \n",
       "2017-01-27  20562944.0  \n",
       "2017-01-26  26337576.0  \n",
       "2017-01-25  32586673.0  "
      ]
     },
     "execution_count": 100,
     "metadata": {},
     "output_type": "execute_result"
    }
   ],
   "source": [
    "df.head(3)"
   ]
  },
  {
   "cell_type": "code",
   "execution_count": 101,
   "metadata": {},
   "outputs": [
    {
     "data": {
      "text/html": [
       "<div>\n",
       "<style>\n",
       "    .dataframe thead tr:only-child th {\n",
       "        text-align: right;\n",
       "    }\n",
       "\n",
       "    .dataframe thead th {\n",
       "        text-align: left;\n",
       "    }\n",
       "\n",
       "    .dataframe tbody tr th {\n",
       "        vertical-align: top;\n",
       "    }\n",
       "</style>\n",
       "<table border=\"1\" class=\"dataframe\">\n",
       "  <thead>\n",
       "    <tr style=\"text-align: right;\">\n",
       "      <th></th>\n",
       "      <th>Open</th>\n",
       "      <th>High</th>\n",
       "      <th>Low</th>\n",
       "      <th>Close</th>\n",
       "      <th>Volume</th>\n",
       "      <th>ExDividend</th>\n",
       "      <th>SplitRatio</th>\n",
       "      <th>AdjOpen</th>\n",
       "      <th>AdjHigh</th>\n",
       "      <th>AdjLow</th>\n",
       "      <th>AdjClose</th>\n",
       "      <th>AdjVolume</th>\n",
       "    </tr>\n",
       "    <tr>\n",
       "      <th>Date</th>\n",
       "      <th></th>\n",
       "      <th></th>\n",
       "      <th></th>\n",
       "      <th></th>\n",
       "      <th></th>\n",
       "      <th></th>\n",
       "      <th></th>\n",
       "      <th></th>\n",
       "      <th></th>\n",
       "      <th></th>\n",
       "      <th></th>\n",
       "      <th></th>\n",
       "    </tr>\n",
       "  </thead>\n",
       "  <tbody>\n",
       "    <tr>\n",
       "      <th>2017-01-05</th>\n",
       "      <td>115.92</td>\n",
       "      <td>116.8642</td>\n",
       "      <td>115.81</td>\n",
       "      <td>116.61</td>\n",
       "      <td>22193587.0</td>\n",
       "      <td>0.0</td>\n",
       "      <td>1.0</td>\n",
       "      <td>114.488219</td>\n",
       "      <td>115.420756</td>\n",
       "      <td>114.379577</td>\n",
       "      <td>115.169696</td>\n",
       "      <td>22193587.0</td>\n",
       "    </tr>\n",
       "    <tr>\n",
       "      <th>2017-01-04</th>\n",
       "      <td>115.85</td>\n",
       "      <td>116.5100</td>\n",
       "      <td>115.75</td>\n",
       "      <td>116.02</td>\n",
       "      <td>21118116.0</td>\n",
       "      <td>0.0</td>\n",
       "      <td>1.0</td>\n",
       "      <td>114.419083</td>\n",
       "      <td>115.070931</td>\n",
       "      <td>114.320318</td>\n",
       "      <td>114.586983</td>\n",
       "      <td>21118116.0</td>\n",
       "    </tr>\n",
       "    <tr>\n",
       "      <th>2017-01-03</th>\n",
       "      <td>115.80</td>\n",
       "      <td>116.3300</td>\n",
       "      <td>114.76</td>\n",
       "      <td>116.15</td>\n",
       "      <td>28781865.0</td>\n",
       "      <td>0.0</td>\n",
       "      <td>1.0</td>\n",
       "      <td>114.369701</td>\n",
       "      <td>114.893155</td>\n",
       "      <td>113.342546</td>\n",
       "      <td>114.715378</td>\n",
       "      <td>28781865.0</td>\n",
       "    </tr>\n",
       "  </tbody>\n",
       "</table>\n",
       "</div>"
      ],
      "text/plain": [
       "              Open      High     Low   Close      Volume  ExDividend  \\\n",
       "Date                                                                   \n",
       "2017-01-05  115.92  116.8642  115.81  116.61  22193587.0         0.0   \n",
       "2017-01-04  115.85  116.5100  115.75  116.02  21118116.0         0.0   \n",
       "2017-01-03  115.80  116.3300  114.76  116.15  28781865.0         0.0   \n",
       "\n",
       "            SplitRatio     AdjOpen     AdjHigh      AdjLow    AdjClose  \\\n",
       "Date                                                                     \n",
       "2017-01-05         1.0  114.488219  115.420756  114.379577  115.169696   \n",
       "2017-01-04         1.0  114.419083  115.070931  114.320318  114.586983   \n",
       "2017-01-03         1.0  114.369701  114.893155  113.342546  114.715378   \n",
       "\n",
       "             AdjVolume  \n",
       "Date                    \n",
       "2017-01-05  22193587.0  \n",
       "2017-01-04  21118116.0  \n",
       "2017-01-03  28781865.0  "
      ]
     },
     "execution_count": 101,
     "metadata": {},
     "output_type": "execute_result"
    }
   ],
   "source": [
    "df.tail(3)"
   ]
  },
  {
   "cell_type": "code",
   "execution_count": 102,
   "metadata": {
    "scrolled": true
   },
   "outputs": [
    {
     "data": {
      "text/html": [
       "<div>\n",
       "<style>\n",
       "    .dataframe thead tr:only-child th {\n",
       "        text-align: right;\n",
       "    }\n",
       "\n",
       "    .dataframe thead th {\n",
       "        text-align: left;\n",
       "    }\n",
       "\n",
       "    .dataframe tbody tr th {\n",
       "        vertical-align: top;\n",
       "    }\n",
       "</style>\n",
       "<table border=\"1\" class=\"dataframe\">\n",
       "  <thead>\n",
       "    <tr style=\"text-align: right;\">\n",
       "      <th></th>\n",
       "      <th>Open</th>\n",
       "      <th>High</th>\n",
       "      <th>Low</th>\n",
       "      <th>Close</th>\n",
       "      <th>Volume</th>\n",
       "      <th>ExDividend</th>\n",
       "      <th>SplitRatio</th>\n",
       "      <th>AdjOpen</th>\n",
       "      <th>AdjHigh</th>\n",
       "      <th>AdjLow</th>\n",
       "      <th>AdjClose</th>\n",
       "      <th>AdjVolume</th>\n",
       "    </tr>\n",
       "  </thead>\n",
       "  <tbody>\n",
       "    <tr>\n",
       "      <th>count</th>\n",
       "      <td>18.000000</td>\n",
       "      <td>18.000000</td>\n",
       "      <td>18.000000</td>\n",
       "      <td>18.000000</td>\n",
       "      <td>1.800000e+01</td>\n",
       "      <td>18.0</td>\n",
       "      <td>18.0</td>\n",
       "      <td>18.000000</td>\n",
       "      <td>18.000000</td>\n",
       "      <td>18.000000</td>\n",
       "      <td>18.000000</td>\n",
       "      <td>1.800000e+01</td>\n",
       "    </tr>\n",
       "    <tr>\n",
       "      <th>mean</th>\n",
       "      <td>118.876944</td>\n",
       "      <td>119.700233</td>\n",
       "      <td>118.579700</td>\n",
       "      <td>119.356667</td>\n",
       "      <td>2.687515e+07</td>\n",
       "      <td>0.0</td>\n",
       "      <td>1.0</td>\n",
       "      <td>117.408640</td>\n",
       "      <td>118.221761</td>\n",
       "      <td>117.115067</td>\n",
       "      <td>117.882437</td>\n",
       "      <td>2.687515e+07</td>\n",
       "    </tr>\n",
       "    <tr>\n",
       "      <th>std</th>\n",
       "      <td>1.871714</td>\n",
       "      <td>1.809604</td>\n",
       "      <td>1.912213</td>\n",
       "      <td>1.775460</td>\n",
       "      <td>4.506322e+06</td>\n",
       "      <td>0.0</td>\n",
       "      <td>0.0</td>\n",
       "      <td>1.848596</td>\n",
       "      <td>1.787253</td>\n",
       "      <td>1.888594</td>\n",
       "      <td>1.753531</td>\n",
       "      <td>4.506322e+06</td>\n",
       "    </tr>\n",
       "    <tr>\n",
       "      <th>min</th>\n",
       "      <td>115.800000</td>\n",
       "      <td>116.330000</td>\n",
       "      <td>114.760000</td>\n",
       "      <td>116.020000</td>\n",
       "      <td>2.056294e+07</td>\n",
       "      <td>0.0</td>\n",
       "      <td>1.0</td>\n",
       "      <td>114.369701</td>\n",
       "      <td>114.893155</td>\n",
       "      <td>113.342546</td>\n",
       "      <td>114.586983</td>\n",
       "      <td>2.056294e+07</td>\n",
       "    </tr>\n",
       "    <tr>\n",
       "      <th>25%</th>\n",
       "      <td>118.047500</td>\n",
       "      <td>119.320000</td>\n",
       "      <td>118.007500</td>\n",
       "      <td>119.002500</td>\n",
       "      <td>2.333652e+07</td>\n",
       "      <td>0.0</td>\n",
       "      <td>1.0</td>\n",
       "      <td>116.589441</td>\n",
       "      <td>117.846224</td>\n",
       "      <td>116.549935</td>\n",
       "      <td>117.532645</td>\n",
       "      <td>2.333652e+07</td>\n",
       "    </tr>\n",
       "    <tr>\n",
       "      <th>50%</th>\n",
       "      <td>119.002500</td>\n",
       "      <td>120.010000</td>\n",
       "      <td>118.705000</td>\n",
       "      <td>119.765000</td>\n",
       "      <td>2.622476e+07</td>\n",
       "      <td>0.0</td>\n",
       "      <td>1.0</td>\n",
       "      <td>117.532645</td>\n",
       "      <td>118.527701</td>\n",
       "      <td>117.238820</td>\n",
       "      <td>118.285727</td>\n",
       "      <td>2.622476e+07</td>\n",
       "    </tr>\n",
       "    <tr>\n",
       "      <th>75%</th>\n",
       "      <td>120.000000</td>\n",
       "      <td>120.487500</td>\n",
       "      <td>119.728450</td>\n",
       "      <td>120.000000</td>\n",
       "      <td>3.100939e+07</td>\n",
       "      <td>0.0</td>\n",
       "      <td>1.0</td>\n",
       "      <td>118.517825</td>\n",
       "      <td>118.999303</td>\n",
       "      <td>118.249629</td>\n",
       "      <td>118.517825</td>\n",
       "      <td>3.100939e+07</td>\n",
       "    </tr>\n",
       "    <tr>\n",
       "      <th>max</th>\n",
       "      <td>122.140000</td>\n",
       "      <td>122.440000</td>\n",
       "      <td>121.600000</td>\n",
       "      <td>121.950000</td>\n",
       "      <td>3.443984e+07</td>\n",
       "      <td>0.0</td>\n",
       "      <td>1.0</td>\n",
       "      <td>120.631393</td>\n",
       "      <td>120.927687</td>\n",
       "      <td>120.098062</td>\n",
       "      <td>120.443739</td>\n",
       "      <td>3.443984e+07</td>\n",
       "    </tr>\n",
       "  </tbody>\n",
       "</table>\n",
       "</div>"
      ],
      "text/plain": [
       "             Open        High         Low       Close        Volume  \\\n",
       "count   18.000000   18.000000   18.000000   18.000000  1.800000e+01   \n",
       "mean   118.876944  119.700233  118.579700  119.356667  2.687515e+07   \n",
       "std      1.871714    1.809604    1.912213    1.775460  4.506322e+06   \n",
       "min    115.800000  116.330000  114.760000  116.020000  2.056294e+07   \n",
       "25%    118.047500  119.320000  118.007500  119.002500  2.333652e+07   \n",
       "50%    119.002500  120.010000  118.705000  119.765000  2.622476e+07   \n",
       "75%    120.000000  120.487500  119.728450  120.000000  3.100939e+07   \n",
       "max    122.140000  122.440000  121.600000  121.950000  3.443984e+07   \n",
       "\n",
       "       ExDividend  SplitRatio     AdjOpen     AdjHigh      AdjLow    AdjClose  \\\n",
       "count        18.0        18.0   18.000000   18.000000   18.000000   18.000000   \n",
       "mean          0.0         1.0  117.408640  118.221761  117.115067  117.882437   \n",
       "std           0.0         0.0    1.848596    1.787253    1.888594    1.753531   \n",
       "min           0.0         1.0  114.369701  114.893155  113.342546  114.586983   \n",
       "25%           0.0         1.0  116.589441  117.846224  116.549935  117.532645   \n",
       "50%           0.0         1.0  117.532645  118.527701  117.238820  118.285727   \n",
       "75%           0.0         1.0  118.517825  118.999303  118.249629  118.517825   \n",
       "max           0.0         1.0  120.631393  120.927687  120.098062  120.443739   \n",
       "\n",
       "          AdjVolume  \n",
       "count  1.800000e+01  \n",
       "mean   2.687515e+07  \n",
       "std    4.506322e+06  \n",
       "min    2.056294e+07  \n",
       "25%    2.333652e+07  \n",
       "50%    2.622476e+07  \n",
       "75%    3.100939e+07  \n",
       "max    3.443984e+07  "
      ]
     },
     "execution_count": 102,
     "metadata": {},
     "output_type": "execute_result"
    }
   ],
   "source": [
    "df.describe()"
   ]
  },
  {
   "cell_type": "code",
   "execution_count": 104,
   "metadata": {},
   "outputs": [
    {
     "data": {
      "text/html": [
       "<div>\n",
       "<style>\n",
       "    .dataframe thead tr:only-child th {\n",
       "        text-align: right;\n",
       "    }\n",
       "\n",
       "    .dataframe thead th {\n",
       "        text-align: left;\n",
       "    }\n",
       "\n",
       "    .dataframe tbody tr th {\n",
       "        vertical-align: top;\n",
       "    }\n",
       "</style>\n",
       "<table border=\"1\" class=\"dataframe\">\n",
       "  <thead>\n",
       "    <tr style=\"text-align: right;\">\n",
       "      <th></th>\n",
       "      <th>Open</th>\n",
       "      <th>High</th>\n",
       "      <th>Low</th>\n",
       "      <th>Close</th>\n",
       "      <th>Volume</th>\n",
       "      <th>ExDividend</th>\n",
       "      <th>SplitRatio</th>\n",
       "      <th>AdjOpen</th>\n",
       "      <th>AdjHigh</th>\n",
       "      <th>AdjLow</th>\n",
       "      <th>AdjClose</th>\n",
       "      <th>AdjVolume</th>\n",
       "    </tr>\n",
       "    <tr>\n",
       "      <th>Date</th>\n",
       "      <th></th>\n",
       "      <th></th>\n",
       "      <th></th>\n",
       "      <th></th>\n",
       "      <th></th>\n",
       "      <th></th>\n",
       "      <th></th>\n",
       "      <th></th>\n",
       "      <th></th>\n",
       "      <th></th>\n",
       "      <th></th>\n",
       "      <th></th>\n",
       "    </tr>\n",
       "  </thead>\n",
       "  <tbody>\n",
       "    <tr>\n",
       "      <th>2017-01-27</th>\n",
       "      <td>122.140</td>\n",
       "      <td>122.3500</td>\n",
       "      <td>121.6000</td>\n",
       "      <td>121.95</td>\n",
       "      <td>20562944.0</td>\n",
       "      <td>0.0</td>\n",
       "      <td>1.0</td>\n",
       "      <td>120.631393</td>\n",
       "      <td>120.838799</td>\n",
       "      <td>120.098062</td>\n",
       "      <td>120.443739</td>\n",
       "      <td>20562944.0</td>\n",
       "    </tr>\n",
       "    <tr>\n",
       "      <th>2017-01-26</th>\n",
       "      <td>121.670</td>\n",
       "      <td>122.4400</td>\n",
       "      <td>121.6000</td>\n",
       "      <td>121.94</td>\n",
       "      <td>26337576.0</td>\n",
       "      <td>0.0</td>\n",
       "      <td>1.0</td>\n",
       "      <td>120.167198</td>\n",
       "      <td>120.927687</td>\n",
       "      <td>120.098062</td>\n",
       "      <td>120.433863</td>\n",
       "      <td>26337576.0</td>\n",
       "    </tr>\n",
       "    <tr>\n",
       "      <th>2017-01-25</th>\n",
       "      <td>120.420</td>\n",
       "      <td>122.1000</td>\n",
       "      <td>120.2800</td>\n",
       "      <td>121.88</td>\n",
       "      <td>32586673.0</td>\n",
       "      <td>0.0</td>\n",
       "      <td>1.0</td>\n",
       "      <td>118.932637</td>\n",
       "      <td>120.591887</td>\n",
       "      <td>118.794366</td>\n",
       "      <td>120.374604</td>\n",
       "      <td>32586673.0</td>\n",
       "    </tr>\n",
       "    <tr>\n",
       "      <th>2017-01-24</th>\n",
       "      <td>119.550</td>\n",
       "      <td>120.1000</td>\n",
       "      <td>119.5000</td>\n",
       "      <td>119.97</td>\n",
       "      <td>23211038.0</td>\n",
       "      <td>0.0</td>\n",
       "      <td>1.0</td>\n",
       "      <td>118.073383</td>\n",
       "      <td>118.616590</td>\n",
       "      <td>118.024000</td>\n",
       "      <td>118.488195</td>\n",
       "      <td>23211038.0</td>\n",
       "    </tr>\n",
       "    <tr>\n",
       "      <th>2017-01-23</th>\n",
       "      <td>120.000</td>\n",
       "      <td>120.8100</td>\n",
       "      <td>119.7700</td>\n",
       "      <td>120.08</td>\n",
       "      <td>22050218.0</td>\n",
       "      <td>0.0</td>\n",
       "      <td>1.0</td>\n",
       "      <td>118.517825</td>\n",
       "      <td>119.317820</td>\n",
       "      <td>118.290666</td>\n",
       "      <td>118.596837</td>\n",
       "      <td>22050218.0</td>\n",
       "    </tr>\n",
       "    <tr>\n",
       "      <th>2017-01-20</th>\n",
       "      <td>120.450</td>\n",
       "      <td>120.4500</td>\n",
       "      <td>119.7346</td>\n",
       "      <td>120.00</td>\n",
       "      <td>32597892.0</td>\n",
       "      <td>0.0</td>\n",
       "      <td>1.0</td>\n",
       "      <td>118.962267</td>\n",
       "      <td>118.962267</td>\n",
       "      <td>118.255703</td>\n",
       "      <td>118.517825</td>\n",
       "      <td>32597892.0</td>\n",
       "    </tr>\n",
       "    <tr>\n",
       "      <th>2017-01-19</th>\n",
       "      <td>119.400</td>\n",
       "      <td>120.0900</td>\n",
       "      <td>119.3700</td>\n",
       "      <td>119.78</td>\n",
       "      <td>25597291.0</td>\n",
       "      <td>0.0</td>\n",
       "      <td>1.0</td>\n",
       "      <td>117.925236</td>\n",
       "      <td>118.606713</td>\n",
       "      <td>117.895606</td>\n",
       "      <td>118.300542</td>\n",
       "      <td>25597291.0</td>\n",
       "    </tr>\n",
       "    <tr>\n",
       "      <th>2017-01-18</th>\n",
       "      <td>120.000</td>\n",
       "      <td>120.5000</td>\n",
       "      <td>119.7100</td>\n",
       "      <td>119.99</td>\n",
       "      <td>23712961.0</td>\n",
       "      <td>0.0</td>\n",
       "      <td>1.0</td>\n",
       "      <td>118.517825</td>\n",
       "      <td>119.011649</td>\n",
       "      <td>118.231407</td>\n",
       "      <td>118.507948</td>\n",
       "      <td>23712961.0</td>\n",
       "    </tr>\n",
       "    <tr>\n",
       "      <th>2017-01-17</th>\n",
       "      <td>118.340</td>\n",
       "      <td>120.2400</td>\n",
       "      <td>118.2200</td>\n",
       "      <td>120.00</td>\n",
       "      <td>34439843.0</td>\n",
       "      <td>0.0</td>\n",
       "      <td>1.0</td>\n",
       "      <td>116.878328</td>\n",
       "      <td>118.754860</td>\n",
       "      <td>116.759810</td>\n",
       "      <td>118.517825</td>\n",
       "      <td>34439843.0</td>\n",
       "    </tr>\n",
       "    <tr>\n",
       "      <th>2017-01-13</th>\n",
       "      <td>119.110</td>\n",
       "      <td>119.6200</td>\n",
       "      <td>118.8100</td>\n",
       "      <td>119.04</td>\n",
       "      <td>26111948.0</td>\n",
       "      <td>0.0</td>\n",
       "      <td>1.0</td>\n",
       "      <td>117.638817</td>\n",
       "      <td>118.142518</td>\n",
       "      <td>117.342523</td>\n",
       "      <td>117.569682</td>\n",
       "      <td>26111948.0</td>\n",
       "    </tr>\n",
       "    <tr>\n",
       "      <th>2017-01-12</th>\n",
       "      <td>118.895</td>\n",
       "      <td>119.3000</td>\n",
       "      <td>118.2100</td>\n",
       "      <td>119.25</td>\n",
       "      <td>27086220.0</td>\n",
       "      <td>0.0</td>\n",
       "      <td>1.0</td>\n",
       "      <td>117.426473</td>\n",
       "      <td>117.826471</td>\n",
       "      <td>116.749934</td>\n",
       "      <td>117.777088</td>\n",
       "      <td>27086220.0</td>\n",
       "    </tr>\n",
       "    <tr>\n",
       "      <th>2017-01-11</th>\n",
       "      <td>118.740</td>\n",
       "      <td>119.9300</td>\n",
       "      <td>118.6000</td>\n",
       "      <td>119.75</td>\n",
       "      <td>27588593.0</td>\n",
       "      <td>0.0</td>\n",
       "      <td>1.0</td>\n",
       "      <td>117.273388</td>\n",
       "      <td>118.448689</td>\n",
       "      <td>117.135117</td>\n",
       "      <td>118.270913</td>\n",
       "      <td>27588593.0</td>\n",
       "    </tr>\n",
       "    <tr>\n",
       "      <th>2017-01-10</th>\n",
       "      <td>118.770</td>\n",
       "      <td>119.3800</td>\n",
       "      <td>118.3000</td>\n",
       "      <td>119.11</td>\n",
       "      <td>24462051.0</td>\n",
       "      <td>0.0</td>\n",
       "      <td>1.0</td>\n",
       "      <td>117.303017</td>\n",
       "      <td>117.905483</td>\n",
       "      <td>116.838822</td>\n",
       "      <td>117.638817</td>\n",
       "      <td>24462051.0</td>\n",
       "    </tr>\n",
       "    <tr>\n",
       "      <th>2017-01-09</th>\n",
       "      <td>117.950</td>\n",
       "      <td>119.4300</td>\n",
       "      <td>117.9400</td>\n",
       "      <td>118.99</td>\n",
       "      <td>33561948.0</td>\n",
       "      <td>0.0</td>\n",
       "      <td>1.0</td>\n",
       "      <td>116.493145</td>\n",
       "      <td>117.954865</td>\n",
       "      <td>116.483269</td>\n",
       "      <td>117.520300</td>\n",
       "      <td>33561948.0</td>\n",
       "    </tr>\n",
       "    <tr>\n",
       "      <th>2017-01-06</th>\n",
       "      <td>116.780</td>\n",
       "      <td>118.1600</td>\n",
       "      <td>116.4700</td>\n",
       "      <td>117.91</td>\n",
       "      <td>31751900.0</td>\n",
       "      <td>0.0</td>\n",
       "      <td>1.0</td>\n",
       "      <td>115.337596</td>\n",
       "      <td>116.700551</td>\n",
       "      <td>115.031425</td>\n",
       "      <td>116.453639</td>\n",
       "      <td>31751900.0</td>\n",
       "    </tr>\n",
       "    <tr>\n",
       "      <th>2017-01-05</th>\n",
       "      <td>115.920</td>\n",
       "      <td>116.8642</td>\n",
       "      <td>115.8100</td>\n",
       "      <td>116.61</td>\n",
       "      <td>22193587.0</td>\n",
       "      <td>0.0</td>\n",
       "      <td>1.0</td>\n",
       "      <td>114.488219</td>\n",
       "      <td>115.420756</td>\n",
       "      <td>114.379577</td>\n",
       "      <td>115.169696</td>\n",
       "      <td>22193587.0</td>\n",
       "    </tr>\n",
       "    <tr>\n",
       "      <th>2017-01-04</th>\n",
       "      <td>115.850</td>\n",
       "      <td>116.5100</td>\n",
       "      <td>115.7500</td>\n",
       "      <td>116.02</td>\n",
       "      <td>21118116.0</td>\n",
       "      <td>0.0</td>\n",
       "      <td>1.0</td>\n",
       "      <td>114.419083</td>\n",
       "      <td>115.070931</td>\n",
       "      <td>114.320318</td>\n",
       "      <td>114.586983</td>\n",
       "      <td>21118116.0</td>\n",
       "    </tr>\n",
       "    <tr>\n",
       "      <th>2017-01-03</th>\n",
       "      <td>115.800</td>\n",
       "      <td>116.3300</td>\n",
       "      <td>114.7600</td>\n",
       "      <td>116.15</td>\n",
       "      <td>28781865.0</td>\n",
       "      <td>0.0</td>\n",
       "      <td>1.0</td>\n",
       "      <td>114.369701</td>\n",
       "      <td>114.893155</td>\n",
       "      <td>113.342546</td>\n",
       "      <td>114.715378</td>\n",
       "      <td>28781865.0</td>\n",
       "    </tr>\n",
       "  </tbody>\n",
       "</table>\n",
       "</div>"
      ],
      "text/plain": [
       "               Open      High       Low   Close      Volume  ExDividend  \\\n",
       "Date                                                                      \n",
       "2017-01-27  122.140  122.3500  121.6000  121.95  20562944.0         0.0   \n",
       "2017-01-26  121.670  122.4400  121.6000  121.94  26337576.0         0.0   \n",
       "2017-01-25  120.420  122.1000  120.2800  121.88  32586673.0         0.0   \n",
       "2017-01-24  119.550  120.1000  119.5000  119.97  23211038.0         0.0   \n",
       "2017-01-23  120.000  120.8100  119.7700  120.08  22050218.0         0.0   \n",
       "2017-01-20  120.450  120.4500  119.7346  120.00  32597892.0         0.0   \n",
       "2017-01-19  119.400  120.0900  119.3700  119.78  25597291.0         0.0   \n",
       "2017-01-18  120.000  120.5000  119.7100  119.99  23712961.0         0.0   \n",
       "2017-01-17  118.340  120.2400  118.2200  120.00  34439843.0         0.0   \n",
       "2017-01-13  119.110  119.6200  118.8100  119.04  26111948.0         0.0   \n",
       "2017-01-12  118.895  119.3000  118.2100  119.25  27086220.0         0.0   \n",
       "2017-01-11  118.740  119.9300  118.6000  119.75  27588593.0         0.0   \n",
       "2017-01-10  118.770  119.3800  118.3000  119.11  24462051.0         0.0   \n",
       "2017-01-09  117.950  119.4300  117.9400  118.99  33561948.0         0.0   \n",
       "2017-01-06  116.780  118.1600  116.4700  117.91  31751900.0         0.0   \n",
       "2017-01-05  115.920  116.8642  115.8100  116.61  22193587.0         0.0   \n",
       "2017-01-04  115.850  116.5100  115.7500  116.02  21118116.0         0.0   \n",
       "2017-01-03  115.800  116.3300  114.7600  116.15  28781865.0         0.0   \n",
       "\n",
       "            SplitRatio     AdjOpen     AdjHigh      AdjLow    AdjClose  \\\n",
       "Date                                                                     \n",
       "2017-01-27         1.0  120.631393  120.838799  120.098062  120.443739   \n",
       "2017-01-26         1.0  120.167198  120.927687  120.098062  120.433863   \n",
       "2017-01-25         1.0  118.932637  120.591887  118.794366  120.374604   \n",
       "2017-01-24         1.0  118.073383  118.616590  118.024000  118.488195   \n",
       "2017-01-23         1.0  118.517825  119.317820  118.290666  118.596837   \n",
       "2017-01-20         1.0  118.962267  118.962267  118.255703  118.517825   \n",
       "2017-01-19         1.0  117.925236  118.606713  117.895606  118.300542   \n",
       "2017-01-18         1.0  118.517825  119.011649  118.231407  118.507948   \n",
       "2017-01-17         1.0  116.878328  118.754860  116.759810  118.517825   \n",
       "2017-01-13         1.0  117.638817  118.142518  117.342523  117.569682   \n",
       "2017-01-12         1.0  117.426473  117.826471  116.749934  117.777088   \n",
       "2017-01-11         1.0  117.273388  118.448689  117.135117  118.270913   \n",
       "2017-01-10         1.0  117.303017  117.905483  116.838822  117.638817   \n",
       "2017-01-09         1.0  116.493145  117.954865  116.483269  117.520300   \n",
       "2017-01-06         1.0  115.337596  116.700551  115.031425  116.453639   \n",
       "2017-01-05         1.0  114.488219  115.420756  114.379577  115.169696   \n",
       "2017-01-04         1.0  114.419083  115.070931  114.320318  114.586983   \n",
       "2017-01-03         1.0  114.369701  114.893155  113.342546  114.715378   \n",
       "\n",
       "             AdjVolume  \n",
       "Date                    \n",
       "2017-01-27  20562944.0  \n",
       "2017-01-26  26337576.0  \n",
       "2017-01-25  32586673.0  \n",
       "2017-01-24  23211038.0  \n",
       "2017-01-23  22050218.0  \n",
       "2017-01-20  32597892.0  \n",
       "2017-01-19  25597291.0  \n",
       "2017-01-18  23712961.0  \n",
       "2017-01-17  34439843.0  \n",
       "2017-01-13  26111948.0  \n",
       "2017-01-12  27086220.0  \n",
       "2017-01-11  27588593.0  \n",
       "2017-01-10  24462051.0  \n",
       "2017-01-09  33561948.0  \n",
       "2017-01-06  31751900.0  \n",
       "2017-01-05  22193587.0  \n",
       "2017-01-04  21118116.0  \n",
       "2017-01-03  28781865.0  "
      ]
     },
     "execution_count": 104,
     "metadata": {},
     "output_type": "execute_result"
    }
   ],
   "source": [
    "# sorting\n",
    "df.sort_index(axis=0,ascending=False)\n",
    "# means both index or columns\n",
    "# axis=0 sort index\n",
    "# axis=1 sort column"
   ]
  },
  {
   "cell_type": "code",
   "execution_count": 105,
   "metadata": {},
   "outputs": [
    {
     "data": {
      "text/html": [
       "<div>\n",
       "<style>\n",
       "    .dataframe thead tr:only-child th {\n",
       "        text-align: right;\n",
       "    }\n",
       "\n",
       "    .dataframe thead th {\n",
       "        text-align: left;\n",
       "    }\n",
       "\n",
       "    .dataframe tbody tr th {\n",
       "        vertical-align: top;\n",
       "    }\n",
       "</style>\n",
       "<table border=\"1\" class=\"dataframe\">\n",
       "  <thead>\n",
       "    <tr style=\"text-align: right;\">\n",
       "      <th></th>\n",
       "      <th>AdjClose</th>\n",
       "      <th>AdjHigh</th>\n",
       "      <th>AdjLow</th>\n",
       "      <th>AdjOpen</th>\n",
       "      <th>AdjVolume</th>\n",
       "      <th>Close</th>\n",
       "      <th>ExDividend</th>\n",
       "      <th>High</th>\n",
       "      <th>Low</th>\n",
       "      <th>Open</th>\n",
       "      <th>SplitRatio</th>\n",
       "      <th>Volume</th>\n",
       "    </tr>\n",
       "    <tr>\n",
       "      <th>Date</th>\n",
       "      <th></th>\n",
       "      <th></th>\n",
       "      <th></th>\n",
       "      <th></th>\n",
       "      <th></th>\n",
       "      <th></th>\n",
       "      <th></th>\n",
       "      <th></th>\n",
       "      <th></th>\n",
       "      <th></th>\n",
       "      <th></th>\n",
       "      <th></th>\n",
       "    </tr>\n",
       "  </thead>\n",
       "  <tbody>\n",
       "    <tr>\n",
       "      <th>2017-01-27</th>\n",
       "      <td>120.443739</td>\n",
       "      <td>120.838799</td>\n",
       "      <td>120.098062</td>\n",
       "      <td>120.631393</td>\n",
       "      <td>20562944.0</td>\n",
       "      <td>121.95</td>\n",
       "      <td>0.0</td>\n",
       "      <td>122.35</td>\n",
       "      <td>121.60</td>\n",
       "      <td>122.14</td>\n",
       "      <td>1.0</td>\n",
       "      <td>20562944.0</td>\n",
       "    </tr>\n",
       "    <tr>\n",
       "      <th>2017-01-26</th>\n",
       "      <td>120.433863</td>\n",
       "      <td>120.927687</td>\n",
       "      <td>120.098062</td>\n",
       "      <td>120.167198</td>\n",
       "      <td>26337576.0</td>\n",
       "      <td>121.94</td>\n",
       "      <td>0.0</td>\n",
       "      <td>122.44</td>\n",
       "      <td>121.60</td>\n",
       "      <td>121.67</td>\n",
       "      <td>1.0</td>\n",
       "      <td>26337576.0</td>\n",
       "    </tr>\n",
       "    <tr>\n",
       "      <th>2017-01-25</th>\n",
       "      <td>120.374604</td>\n",
       "      <td>120.591887</td>\n",
       "      <td>118.794366</td>\n",
       "      <td>118.932637</td>\n",
       "      <td>32586673.0</td>\n",
       "      <td>121.88</td>\n",
       "      <td>0.0</td>\n",
       "      <td>122.10</td>\n",
       "      <td>120.28</td>\n",
       "      <td>120.42</td>\n",
       "      <td>1.0</td>\n",
       "      <td>32586673.0</td>\n",
       "    </tr>\n",
       "    <tr>\n",
       "      <th>2017-01-24</th>\n",
       "      <td>118.488195</td>\n",
       "      <td>118.616590</td>\n",
       "      <td>118.024000</td>\n",
       "      <td>118.073383</td>\n",
       "      <td>23211038.0</td>\n",
       "      <td>119.97</td>\n",
       "      <td>0.0</td>\n",
       "      <td>120.10</td>\n",
       "      <td>119.50</td>\n",
       "      <td>119.55</td>\n",
       "      <td>1.0</td>\n",
       "      <td>23211038.0</td>\n",
       "    </tr>\n",
       "    <tr>\n",
       "      <th>2017-01-23</th>\n",
       "      <td>118.596837</td>\n",
       "      <td>119.317820</td>\n",
       "      <td>118.290666</td>\n",
       "      <td>118.517825</td>\n",
       "      <td>22050218.0</td>\n",
       "      <td>120.08</td>\n",
       "      <td>0.0</td>\n",
       "      <td>120.81</td>\n",
       "      <td>119.77</td>\n",
       "      <td>120.00</td>\n",
       "      <td>1.0</td>\n",
       "      <td>22050218.0</td>\n",
       "    </tr>\n",
       "  </tbody>\n",
       "</table>\n",
       "</div>"
      ],
      "text/plain": [
       "              AdjClose     AdjHigh      AdjLow     AdjOpen   AdjVolume  \\\n",
       "Date                                                                     \n",
       "2017-01-27  120.443739  120.838799  120.098062  120.631393  20562944.0   \n",
       "2017-01-26  120.433863  120.927687  120.098062  120.167198  26337576.0   \n",
       "2017-01-25  120.374604  120.591887  118.794366  118.932637  32586673.0   \n",
       "2017-01-24  118.488195  118.616590  118.024000  118.073383  23211038.0   \n",
       "2017-01-23  118.596837  119.317820  118.290666  118.517825  22050218.0   \n",
       "\n",
       "             Close  ExDividend    High     Low    Open  SplitRatio      Volume  \n",
       "Date                                                                            \n",
       "2017-01-27  121.95         0.0  122.35  121.60  122.14         1.0  20562944.0  \n",
       "2017-01-26  121.94         0.0  122.44  121.60  121.67         1.0  26337576.0  \n",
       "2017-01-25  121.88         0.0  122.10  120.28  120.42         1.0  32586673.0  \n",
       "2017-01-24  119.97         0.0  120.10  119.50  119.55         1.0  23211038.0  \n",
       "2017-01-23  120.08         0.0  120.81  119.77  120.00         1.0  22050218.0  "
      ]
     },
     "execution_count": 105,
     "metadata": {},
     "output_type": "execute_result"
    }
   ],
   "source": [
    "df.sort_index(axis=1,ascending=True).head()"
   ]
  },
  {
   "cell_type": "code",
   "execution_count": 106,
   "metadata": {},
   "outputs": [
    {
     "data": {
      "text/html": [
       "<div>\n",
       "<style>\n",
       "    .dataframe thead tr:only-child th {\n",
       "        text-align: right;\n",
       "    }\n",
       "\n",
       "    .dataframe thead th {\n",
       "        text-align: left;\n",
       "    }\n",
       "\n",
       "    .dataframe tbody tr th {\n",
       "        vertical-align: top;\n",
       "    }\n",
       "</style>\n",
       "<table border=\"1\" class=\"dataframe\">\n",
       "  <thead>\n",
       "    <tr style=\"text-align: right;\">\n",
       "      <th></th>\n",
       "      <th>Open</th>\n",
       "      <th>High</th>\n",
       "      <th>Low</th>\n",
       "      <th>Close</th>\n",
       "      <th>Volume</th>\n",
       "      <th>ExDividend</th>\n",
       "      <th>SplitRatio</th>\n",
       "      <th>AdjOpen</th>\n",
       "      <th>AdjHigh</th>\n",
       "      <th>AdjLow</th>\n",
       "      <th>AdjClose</th>\n",
       "      <th>AdjVolume</th>\n",
       "    </tr>\n",
       "    <tr>\n",
       "      <th>Date</th>\n",
       "      <th></th>\n",
       "      <th></th>\n",
       "      <th></th>\n",
       "      <th></th>\n",
       "      <th></th>\n",
       "      <th></th>\n",
       "      <th></th>\n",
       "      <th></th>\n",
       "      <th></th>\n",
       "      <th></th>\n",
       "      <th></th>\n",
       "      <th></th>\n",
       "    </tr>\n",
       "  </thead>\n",
       "  <tbody>\n",
       "    <tr>\n",
       "      <th>2017-01-17</th>\n",
       "      <td>118.34</td>\n",
       "      <td>120.24</td>\n",
       "      <td>118.2200</td>\n",
       "      <td>120.00</td>\n",
       "      <td>34439843.0</td>\n",
       "      <td>0.0</td>\n",
       "      <td>1.0</td>\n",
       "      <td>116.878328</td>\n",
       "      <td>118.754860</td>\n",
       "      <td>116.759810</td>\n",
       "      <td>118.517825</td>\n",
       "      <td>34439843.0</td>\n",
       "    </tr>\n",
       "    <tr>\n",
       "      <th>2017-01-09</th>\n",
       "      <td>117.95</td>\n",
       "      <td>119.43</td>\n",
       "      <td>117.9400</td>\n",
       "      <td>118.99</td>\n",
       "      <td>33561948.0</td>\n",
       "      <td>0.0</td>\n",
       "      <td>1.0</td>\n",
       "      <td>116.493145</td>\n",
       "      <td>117.954865</td>\n",
       "      <td>116.483269</td>\n",
       "      <td>117.520300</td>\n",
       "      <td>33561948.0</td>\n",
       "    </tr>\n",
       "    <tr>\n",
       "      <th>2017-01-20</th>\n",
       "      <td>120.45</td>\n",
       "      <td>120.45</td>\n",
       "      <td>119.7346</td>\n",
       "      <td>120.00</td>\n",
       "      <td>32597892.0</td>\n",
       "      <td>0.0</td>\n",
       "      <td>1.0</td>\n",
       "      <td>118.962267</td>\n",
       "      <td>118.962267</td>\n",
       "      <td>118.255703</td>\n",
       "      <td>118.517825</td>\n",
       "      <td>32597892.0</td>\n",
       "    </tr>\n",
       "    <tr>\n",
       "      <th>2017-01-25</th>\n",
       "      <td>120.42</td>\n",
       "      <td>122.10</td>\n",
       "      <td>120.2800</td>\n",
       "      <td>121.88</td>\n",
       "      <td>32586673.0</td>\n",
       "      <td>0.0</td>\n",
       "      <td>1.0</td>\n",
       "      <td>118.932637</td>\n",
       "      <td>120.591887</td>\n",
       "      <td>118.794366</td>\n",
       "      <td>120.374604</td>\n",
       "      <td>32586673.0</td>\n",
       "    </tr>\n",
       "    <tr>\n",
       "      <th>2017-01-06</th>\n",
       "      <td>116.78</td>\n",
       "      <td>118.16</td>\n",
       "      <td>116.4700</td>\n",
       "      <td>117.91</td>\n",
       "      <td>31751900.0</td>\n",
       "      <td>0.0</td>\n",
       "      <td>1.0</td>\n",
       "      <td>115.337596</td>\n",
       "      <td>116.700551</td>\n",
       "      <td>115.031425</td>\n",
       "      <td>116.453639</td>\n",
       "      <td>31751900.0</td>\n",
       "    </tr>\n",
       "  </tbody>\n",
       "</table>\n",
       "</div>"
      ],
      "text/plain": [
       "              Open    High       Low   Close      Volume  ExDividend  \\\n",
       "Date                                                                   \n",
       "2017-01-17  118.34  120.24  118.2200  120.00  34439843.0         0.0   \n",
       "2017-01-09  117.95  119.43  117.9400  118.99  33561948.0         0.0   \n",
       "2017-01-20  120.45  120.45  119.7346  120.00  32597892.0         0.0   \n",
       "2017-01-25  120.42  122.10  120.2800  121.88  32586673.0         0.0   \n",
       "2017-01-06  116.78  118.16  116.4700  117.91  31751900.0         0.0   \n",
       "\n",
       "            SplitRatio     AdjOpen     AdjHigh      AdjLow    AdjClose  \\\n",
       "Date                                                                     \n",
       "2017-01-17         1.0  116.878328  118.754860  116.759810  118.517825   \n",
       "2017-01-09         1.0  116.493145  117.954865  116.483269  117.520300   \n",
       "2017-01-20         1.0  118.962267  118.962267  118.255703  118.517825   \n",
       "2017-01-25         1.0  118.932637  120.591887  118.794366  120.374604   \n",
       "2017-01-06         1.0  115.337596  116.700551  115.031425  116.453639   \n",
       "\n",
       "             AdjVolume  \n",
       "Date                    \n",
       "2017-01-17  34439843.0  \n",
       "2017-01-09  33561948.0  \n",
       "2017-01-20  32597892.0  \n",
       "2017-01-25  32586673.0  \n",
       "2017-01-06  31751900.0  "
      ]
     },
     "execution_count": 106,
     "metadata": {},
     "output_type": "execute_result"
    }
   ],
   "source": [
    "# sort by values\n",
    "df.sort_values(by='Volume',ascending=False).head()"
   ]
  },
  {
   "cell_type": "code",
   "execution_count": 107,
   "metadata": {},
   "outputs": [
    {
     "data": {
      "text/html": [
       "<div>\n",
       "<style>\n",
       "    .dataframe thead tr:only-child th {\n",
       "        text-align: right;\n",
       "    }\n",
       "\n",
       "    .dataframe thead th {\n",
       "        text-align: left;\n",
       "    }\n",
       "\n",
       "    .dataframe tbody tr th {\n",
       "        vertical-align: top;\n",
       "    }\n",
       "</style>\n",
       "<table border=\"1\" class=\"dataframe\">\n",
       "  <thead>\n",
       "    <tr style=\"text-align: right;\">\n",
       "      <th></th>\n",
       "      <th>Open</th>\n",
       "      <th>High</th>\n",
       "      <th>Low</th>\n",
       "      <th>Close</th>\n",
       "      <th>Volume</th>\n",
       "      <th>ExDividend</th>\n",
       "      <th>SplitRatio</th>\n",
       "      <th>AdjOpen</th>\n",
       "      <th>AdjHigh</th>\n",
       "      <th>AdjLow</th>\n",
       "      <th>AdjClose</th>\n",
       "      <th>AdjVolume</th>\n",
       "    </tr>\n",
       "    <tr>\n",
       "      <th>Date</th>\n",
       "      <th></th>\n",
       "      <th></th>\n",
       "      <th></th>\n",
       "      <th></th>\n",
       "      <th></th>\n",
       "      <th></th>\n",
       "      <th></th>\n",
       "      <th></th>\n",
       "      <th></th>\n",
       "      <th></th>\n",
       "      <th></th>\n",
       "      <th></th>\n",
       "    </tr>\n",
       "  </thead>\n",
       "  <tbody>\n",
       "    <tr>\n",
       "      <th>2017-01-17</th>\n",
       "      <td>118.34</td>\n",
       "      <td>120.24</td>\n",
       "      <td>118.2200</td>\n",
       "      <td>120.00</td>\n",
       "      <td>34439843.0</td>\n",
       "      <td>0.0</td>\n",
       "      <td>1.0</td>\n",
       "      <td>116.878328</td>\n",
       "      <td>118.754860</td>\n",
       "      <td>116.759810</td>\n",
       "      <td>118.517825</td>\n",
       "      <td>34439843.0</td>\n",
       "    </tr>\n",
       "    <tr>\n",
       "      <th>2017-01-09</th>\n",
       "      <td>117.95</td>\n",
       "      <td>119.43</td>\n",
       "      <td>117.9400</td>\n",
       "      <td>118.99</td>\n",
       "      <td>33561948.0</td>\n",
       "      <td>0.0</td>\n",
       "      <td>1.0</td>\n",
       "      <td>116.493145</td>\n",
       "      <td>117.954865</td>\n",
       "      <td>116.483269</td>\n",
       "      <td>117.520300</td>\n",
       "      <td>33561948.0</td>\n",
       "    </tr>\n",
       "    <tr>\n",
       "      <th>2017-01-20</th>\n",
       "      <td>120.45</td>\n",
       "      <td>120.45</td>\n",
       "      <td>119.7346</td>\n",
       "      <td>120.00</td>\n",
       "      <td>32597892.0</td>\n",
       "      <td>0.0</td>\n",
       "      <td>1.0</td>\n",
       "      <td>118.962267</td>\n",
       "      <td>118.962267</td>\n",
       "      <td>118.255703</td>\n",
       "      <td>118.517825</td>\n",
       "      <td>32597892.0</td>\n",
       "    </tr>\n",
       "    <tr>\n",
       "      <th>2017-01-25</th>\n",
       "      <td>120.42</td>\n",
       "      <td>122.10</td>\n",
       "      <td>120.2800</td>\n",
       "      <td>121.88</td>\n",
       "      <td>32586673.0</td>\n",
       "      <td>0.0</td>\n",
       "      <td>1.0</td>\n",
       "      <td>118.932637</td>\n",
       "      <td>120.591887</td>\n",
       "      <td>118.794366</td>\n",
       "      <td>120.374604</td>\n",
       "      <td>32586673.0</td>\n",
       "    </tr>\n",
       "    <tr>\n",
       "      <th>2017-01-06</th>\n",
       "      <td>116.78</td>\n",
       "      <td>118.16</td>\n",
       "      <td>116.4700</td>\n",
       "      <td>117.91</td>\n",
       "      <td>31751900.0</td>\n",
       "      <td>0.0</td>\n",
       "      <td>1.0</td>\n",
       "      <td>115.337596</td>\n",
       "      <td>116.700551</td>\n",
       "      <td>115.031425</td>\n",
       "      <td>116.453639</td>\n",
       "      <td>31751900.0</td>\n",
       "    </tr>\n",
       "  </tbody>\n",
       "</table>\n",
       "</div>"
      ],
      "text/plain": [
       "              Open    High       Low   Close      Volume  ExDividend  \\\n",
       "Date                                                                   \n",
       "2017-01-17  118.34  120.24  118.2200  120.00  34439843.0         0.0   \n",
       "2017-01-09  117.95  119.43  117.9400  118.99  33561948.0         0.0   \n",
       "2017-01-20  120.45  120.45  119.7346  120.00  32597892.0         0.0   \n",
       "2017-01-25  120.42  122.10  120.2800  121.88  32586673.0         0.0   \n",
       "2017-01-06  116.78  118.16  116.4700  117.91  31751900.0         0.0   \n",
       "\n",
       "            SplitRatio     AdjOpen     AdjHigh      AdjLow    AdjClose  \\\n",
       "Date                                                                     \n",
       "2017-01-17         1.0  116.878328  118.754860  116.759810  118.517825   \n",
       "2017-01-09         1.0  116.493145  117.954865  116.483269  117.520300   \n",
       "2017-01-20         1.0  118.962267  118.962267  118.255703  118.517825   \n",
       "2017-01-25         1.0  118.932637  120.591887  118.794366  120.374604   \n",
       "2017-01-06         1.0  115.337596  116.700551  115.031425  116.453639   \n",
       "\n",
       "             AdjVolume  \n",
       "Date                    \n",
       "2017-01-17  34439843.0  \n",
       "2017-01-09  33561948.0  \n",
       "2017-01-20  32597892.0  \n",
       "2017-01-25  32586673.0  \n",
       "2017-01-06  31751900.0  "
      ]
     },
     "execution_count": 107,
     "metadata": {},
     "output_type": "execute_result"
    }
   ],
   "source": [
    "df.sort_values(by=['Volume','Close'],ascending=[False,True]).head()"
   ]
  },
  {
   "cell_type": "code",
   "execution_count": 108,
   "metadata": {},
   "outputs": [
    {
     "data": {
      "text/html": [
       "<div>\n",
       "<style>\n",
       "    .dataframe thead tr:only-child th {\n",
       "        text-align: right;\n",
       "    }\n",
       "\n",
       "    .dataframe thead th {\n",
       "        text-align: left;\n",
       "    }\n",
       "\n",
       "    .dataframe tbody tr th {\n",
       "        vertical-align: top;\n",
       "    }\n",
       "</style>\n",
       "<table border=\"1\" class=\"dataframe\">\n",
       "  <thead>\n",
       "    <tr style=\"text-align: right;\">\n",
       "      <th></th>\n",
       "      <th>Open</th>\n",
       "      <th>High</th>\n",
       "      <th>Low</th>\n",
       "      <th>Close</th>\n",
       "      <th>Volume</th>\n",
       "      <th>ExDividend</th>\n",
       "      <th>SplitRatio</th>\n",
       "      <th>AdjOpen</th>\n",
       "      <th>AdjHigh</th>\n",
       "      <th>AdjLow</th>\n",
       "      <th>AdjClose</th>\n",
       "      <th>AdjVolume</th>\n",
       "    </tr>\n",
       "    <tr>\n",
       "      <th>Date</th>\n",
       "      <th></th>\n",
       "      <th></th>\n",
       "      <th></th>\n",
       "      <th></th>\n",
       "      <th></th>\n",
       "      <th></th>\n",
       "      <th></th>\n",
       "      <th></th>\n",
       "      <th></th>\n",
       "      <th></th>\n",
       "      <th></th>\n",
       "      <th></th>\n",
       "    </tr>\n",
       "  </thead>\n",
       "  <tbody>\n",
       "    <tr>\n",
       "      <th>2017-01-26</th>\n",
       "      <td>121.67</td>\n",
       "      <td>122.44</td>\n",
       "      <td>121.60</td>\n",
       "      <td>121.94</td>\n",
       "      <td>26337576.0</td>\n",
       "      <td>0.0</td>\n",
       "      <td>1.0</td>\n",
       "      <td>120.167198</td>\n",
       "      <td>120.927687</td>\n",
       "      <td>120.098062</td>\n",
       "      <td>120.433863</td>\n",
       "      <td>26337576.0</td>\n",
       "    </tr>\n",
       "    <tr>\n",
       "      <th>2017-01-25</th>\n",
       "      <td>120.42</td>\n",
       "      <td>122.10</td>\n",
       "      <td>120.28</td>\n",
       "      <td>121.88</td>\n",
       "      <td>32586673.0</td>\n",
       "      <td>0.0</td>\n",
       "      <td>1.0</td>\n",
       "      <td>118.932637</td>\n",
       "      <td>120.591887</td>\n",
       "      <td>118.794366</td>\n",
       "      <td>120.374604</td>\n",
       "      <td>32586673.0</td>\n",
       "    </tr>\n",
       "    <tr>\n",
       "      <th>2017-01-24</th>\n",
       "      <td>119.55</td>\n",
       "      <td>120.10</td>\n",
       "      <td>119.50</td>\n",
       "      <td>119.97</td>\n",
       "      <td>23211038.0</td>\n",
       "      <td>0.0</td>\n",
       "      <td>1.0</td>\n",
       "      <td>118.073383</td>\n",
       "      <td>118.616590</td>\n",
       "      <td>118.024000</td>\n",
       "      <td>118.488195</td>\n",
       "      <td>23211038.0</td>\n",
       "    </tr>\n",
       "  </tbody>\n",
       "</table>\n",
       "</div>"
      ],
      "text/plain": [
       "              Open    High     Low   Close      Volume  ExDividend  \\\n",
       "Date                                                                 \n",
       "2017-01-26  121.67  122.44  121.60  121.94  26337576.0         0.0   \n",
       "2017-01-25  120.42  122.10  120.28  121.88  32586673.0         0.0   \n",
       "2017-01-24  119.55  120.10  119.50  119.97  23211038.0         0.0   \n",
       "\n",
       "            SplitRatio     AdjOpen     AdjHigh      AdjLow    AdjClose  \\\n",
       "Date                                                                     \n",
       "2017-01-26         1.0  120.167198  120.927687  120.098062  120.433863   \n",
       "2017-01-25         1.0  118.932637  120.591887  118.794366  120.374604   \n",
       "2017-01-24         1.0  118.073383  118.616590  118.024000  118.488195   \n",
       "\n",
       "             AdjVolume  \n",
       "Date                    \n",
       "2017-01-26  26337576.0  \n",
       "2017-01-25  32586673.0  \n",
       "2017-01-24  23211038.0  "
      ]
     },
     "execution_count": 108,
     "metadata": {},
     "output_type": "execute_result"
    }
   ],
   "source": [
    "df.iloc[1:4][:]"
   ]
  },
  {
   "cell_type": "code",
   "execution_count": 109,
   "metadata": {},
   "outputs": [
    {
     "data": {
      "text/html": [
       "<div>\n",
       "<style>\n",
       "    .dataframe thead tr:only-child th {\n",
       "        text-align: right;\n",
       "    }\n",
       "\n",
       "    .dataframe thead th {\n",
       "        text-align: left;\n",
       "    }\n",
       "\n",
       "    .dataframe tbody tr th {\n",
       "        vertical-align: top;\n",
       "    }\n",
       "</style>\n",
       "<table border=\"1\" class=\"dataframe\">\n",
       "  <thead>\n",
       "    <tr style=\"text-align: right;\">\n",
       "      <th></th>\n",
       "      <th>Open</th>\n",
       "      <th>High</th>\n",
       "      <th>Low</th>\n",
       "      <th>Close</th>\n",
       "      <th>Volume</th>\n",
       "      <th>ExDividend</th>\n",
       "      <th>SplitRatio</th>\n",
       "      <th>AdjOpen</th>\n",
       "      <th>AdjHigh</th>\n",
       "      <th>AdjLow</th>\n",
       "      <th>AdjClose</th>\n",
       "      <th>AdjVolume</th>\n",
       "    </tr>\n",
       "    <tr>\n",
       "      <th>Date</th>\n",
       "      <th></th>\n",
       "      <th></th>\n",
       "      <th></th>\n",
       "      <th></th>\n",
       "      <th></th>\n",
       "      <th></th>\n",
       "      <th></th>\n",
       "      <th></th>\n",
       "      <th></th>\n",
       "      <th></th>\n",
       "      <th></th>\n",
       "      <th></th>\n",
       "    </tr>\n",
       "  </thead>\n",
       "  <tbody>\n",
       "    <tr>\n",
       "      <th>2017-01-27</th>\n",
       "      <td>122.14</td>\n",
       "      <td>122.35</td>\n",
       "      <td>121.60</td>\n",
       "      <td>121.95</td>\n",
       "      <td>20562944.0</td>\n",
       "      <td>0.0</td>\n",
       "      <td>1.0</td>\n",
       "      <td>120.631393</td>\n",
       "      <td>120.838799</td>\n",
       "      <td>120.098062</td>\n",
       "      <td>120.443739</td>\n",
       "      <td>20562944.0</td>\n",
       "    </tr>\n",
       "    <tr>\n",
       "      <th>2017-01-26</th>\n",
       "      <td>121.67</td>\n",
       "      <td>122.44</td>\n",
       "      <td>121.60</td>\n",
       "      <td>121.94</td>\n",
       "      <td>26337576.0</td>\n",
       "      <td>0.0</td>\n",
       "      <td>1.0</td>\n",
       "      <td>120.167198</td>\n",
       "      <td>120.927687</td>\n",
       "      <td>120.098062</td>\n",
       "      <td>120.433863</td>\n",
       "      <td>26337576.0</td>\n",
       "    </tr>\n",
       "    <tr>\n",
       "      <th>2017-01-25</th>\n",
       "      <td>120.42</td>\n",
       "      <td>122.10</td>\n",
       "      <td>120.28</td>\n",
       "      <td>121.88</td>\n",
       "      <td>32586673.0</td>\n",
       "      <td>0.0</td>\n",
       "      <td>1.0</td>\n",
       "      <td>118.932637</td>\n",
       "      <td>120.591887</td>\n",
       "      <td>118.794366</td>\n",
       "      <td>120.374604</td>\n",
       "      <td>32586673.0</td>\n",
       "    </tr>\n",
       "    <tr>\n",
       "      <th>2017-01-24</th>\n",
       "      <td>119.55</td>\n",
       "      <td>120.10</td>\n",
       "      <td>119.50</td>\n",
       "      <td>119.97</td>\n",
       "      <td>23211038.0</td>\n",
       "      <td>0.0</td>\n",
       "      <td>1.0</td>\n",
       "      <td>118.073383</td>\n",
       "      <td>118.616590</td>\n",
       "      <td>118.024000</td>\n",
       "      <td>118.488195</td>\n",
       "      <td>23211038.0</td>\n",
       "    </tr>\n",
       "    <tr>\n",
       "      <th>2017-01-23</th>\n",
       "      <td>120.00</td>\n",
       "      <td>120.81</td>\n",
       "      <td>119.77</td>\n",
       "      <td>120.08</td>\n",
       "      <td>22050218.0</td>\n",
       "      <td>0.0</td>\n",
       "      <td>1.0</td>\n",
       "      <td>118.517825</td>\n",
       "      <td>119.317820</td>\n",
       "      <td>118.290666</td>\n",
       "      <td>118.596837</td>\n",
       "      <td>22050218.0</td>\n",
       "    </tr>\n",
       "  </tbody>\n",
       "</table>\n",
       "</div>"
      ],
      "text/plain": [
       "              Open    High     Low   Close      Volume  ExDividend  \\\n",
       "Date                                                                 \n",
       "2017-01-27  122.14  122.35  121.60  121.95  20562944.0         0.0   \n",
       "2017-01-26  121.67  122.44  121.60  121.94  26337576.0         0.0   \n",
       "2017-01-25  120.42  122.10  120.28  121.88  32586673.0         0.0   \n",
       "2017-01-24  119.55  120.10  119.50  119.97  23211038.0         0.0   \n",
       "2017-01-23  120.00  120.81  119.77  120.08  22050218.0         0.0   \n",
       "\n",
       "            SplitRatio     AdjOpen     AdjHigh      AdjLow    AdjClose  \\\n",
       "Date                                                                     \n",
       "2017-01-27         1.0  120.631393  120.838799  120.098062  120.443739   \n",
       "2017-01-26         1.0  120.167198  120.927687  120.098062  120.433863   \n",
       "2017-01-25         1.0  118.932637  120.591887  118.794366  120.374604   \n",
       "2017-01-24         1.0  118.073383  118.616590  118.024000  118.488195   \n",
       "2017-01-23         1.0  118.517825  119.317820  118.290666  118.596837   \n",
       "\n",
       "             AdjVolume  \n",
       "Date                    \n",
       "2017-01-27  20562944.0  \n",
       "2017-01-26  26337576.0  \n",
       "2017-01-25  32586673.0  \n",
       "2017-01-24  23211038.0  \n",
       "2017-01-23  22050218.0  "
      ]
     },
     "execution_count": 109,
     "metadata": {},
     "output_type": "execute_result"
    }
   ],
   "source": [
    "df[df.Close>df.Close.mean()].head()"
   ]
  },
  {
   "cell_type": "code",
   "execution_count": null,
   "metadata": {
    "collapsed": true
   },
   "outputs": [],
   "source": []
  }
 ],
 "metadata": {
  "kernelspec": {
   "display_name": "Python 3",
   "language": "python",
   "name": "python3"
  },
  "language_info": {
   "codemirror_mode": {
    "name": "ipython",
    "version": 3
   },
   "file_extension": ".py",
   "mimetype": "text/x-python",
   "name": "python",
   "nbconvert_exporter": "python",
   "pygments_lexer": "ipython3",
   "version": "3.6.3"
  }
 },
 "nbformat": 4,
 "nbformat_minor": 2
}
