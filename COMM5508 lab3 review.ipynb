{
 "cells": [
  {
   "cell_type": "code",
   "execution_count": 1,
   "metadata": {
    "collapsed": true
   },
   "outputs": [],
   "source": [
    "import numpy as np"
   ]
  },
  {
   "cell_type": "code",
   "execution_count": 2,
   "metadata": {},
   "outputs": [
    {
     "data": {
      "text/plain": [
       "array([[ 0,  1,  2,  3,  4],\n",
       "       [ 5,  6,  7,  8,  9],\n",
       "       [10, 11, 12, 13, 14],\n",
       "       [15, 16, 17, 18, 19],\n",
       "       [20, 21, 22, 23, 24]])"
      ]
     },
     "execution_count": 2,
     "metadata": {},
     "output_type": "execute_result"
    }
   ],
   "source": [
    "a=np.arange(25).reshape(5,5)\n",
    "a"
   ]
  },
  {
   "cell_type": "code",
   "execution_count": 3,
   "metadata": {},
   "outputs": [
    {
     "data": {
      "text/plain": [
       "array([[ 0,  0,  0,  0,  0],\n",
       "       [ 5,  6,  0,  0,  0],\n",
       "       [10, 11, 12,  0,  0],\n",
       "       [15, 16, 17, 18,  0],\n",
       "       [20, 21, 22, 23, 24]])"
      ]
     },
     "execution_count": 3,
     "metadata": {},
     "output_type": "execute_result"
    }
   ],
   "source": [
    "np.tril(a)"
   ]
  },
  {
   "cell_type": "code",
   "execution_count": 4,
   "metadata": {},
   "outputs": [
    {
     "data": {
      "text/plain": [
       "array([[ 0,  0,  0,  0,  0],\n",
       "       [ 5,  0,  0,  0,  0],\n",
       "       [10, 11,  0,  0,  0],\n",
       "       [15, 16, 17,  0,  0],\n",
       "       [20, 21, 22, 23,  0]])"
      ]
     },
     "execution_count": 4,
     "metadata": {},
     "output_type": "execute_result"
    }
   ],
   "source": [
    "np.tril(a,-1)"
   ]
  },
  {
   "cell_type": "code",
   "execution_count": 5,
   "metadata": {},
   "outputs": [
    {
     "data": {
      "text/plain": [
       "array([[ 0,  1,  2,  3,  4],\n",
       "       [ 0,  6,  7,  8,  9],\n",
       "       [ 0,  0, 12, 13, 14],\n",
       "       [ 0,  0,  0, 18, 19],\n",
       "       [ 0,  0,  0,  0, 24]])"
      ]
     },
     "execution_count": 5,
     "metadata": {},
     "output_type": "execute_result"
    }
   ],
   "source": [
    "np.triu(a)"
   ]
  },
  {
   "cell_type": "code",
   "execution_count": 6,
   "metadata": {},
   "outputs": [
    {
     "data": {
      "text/plain": [
       "array([[ 0,  1,  2,  3,  4],\n",
       "       [ 5,  6,  7,  8,  9],\n",
       "       [ 0, 11, 12, 13, 14],\n",
       "       [ 0,  0, 17, 18, 19],\n",
       "       [ 0,  0,  0, 23, 24]])"
      ]
     },
     "execution_count": 6,
     "metadata": {},
     "output_type": "execute_result"
    }
   ],
   "source": [
    "np.triu(a,-1)"
   ]
  },
  {
   "cell_type": "code",
   "execution_count": 7,
   "metadata": {},
   "outputs": [
    {
     "data": {
      "text/plain": [
       "array([ 0,  6, 12, 18, 24])"
      ]
     },
     "execution_count": 7,
     "metadata": {},
     "output_type": "execute_result"
    }
   ],
   "source": [
    "np.diag(a)"
   ]
  },
  {
   "cell_type": "code",
   "execution_count": 9,
   "metadata": {},
   "outputs": [
    {
     "data": {
      "text/plain": [
       "array([[ 0,  0,  0,  0,  0],\n",
       "       [ 0,  6,  0,  0,  0],\n",
       "       [ 0,  0, 12,  0,  0],\n",
       "       [ 0,  0,  0, 18,  0],\n",
       "       [ 0,  0,  0,  0, 24]])"
      ]
     },
     "execution_count": 9,
     "metadata": {},
     "output_type": "execute_result"
    }
   ],
   "source": [
    "np.diag(np.diag(a))"
   ]
  },
  {
   "cell_type": "code",
   "execution_count": 10,
   "metadata": {},
   "outputs": [
    {
     "data": {
      "text/plain": [
       "(array([2], dtype=int64), array([1], dtype=int64))"
      ]
     },
     "execution_count": 10,
     "metadata": {},
     "output_type": "execute_result"
    }
   ],
   "source": [
    "np.where(a==11)"
   ]
  },
  {
   "cell_type": "code",
   "execution_count": 11,
   "metadata": {},
   "outputs": [
    {
     "name": "stdout",
     "output_type": "stream",
     "text": [
      "(array([2], dtype=int64), array([1], dtype=int64))\n"
     ]
    }
   ],
   "source": [
    "loc=np.where(a==11)\n",
    "print(loc)"
   ]
  },
  {
   "cell_type": "code",
   "execution_count": 12,
   "metadata": {},
   "outputs": [
    {
     "name": "stdout",
     "output_type": "stream",
     "text": [
      "[2] [1]\n"
     ]
    }
   ],
   "source": [
    "print(*loc)"
   ]
  },
  {
   "cell_type": "code",
   "execution_count": 14,
   "metadata": {},
   "outputs": [
    {
     "name": "stdout",
     "output_type": "stream",
     "text": [
      "[2] [2]\n"
     ]
    }
   ],
   "source": [
    "mac=np.where(a==12)\n",
    "print(*mac)"
   ]
  },
  {
   "cell_type": "code",
   "execution_count": 15,
   "metadata": {},
   "outputs": [
    {
     "data": {
      "text/plain": [
       "tuple"
      ]
     },
     "execution_count": 15,
     "metadata": {},
     "output_type": "execute_result"
    }
   ],
   "source": [
    "type(loc)"
   ]
  },
  {
   "cell_type": "code",
   "execution_count": 16,
   "metadata": {},
   "outputs": [
    {
     "data": {
      "text/plain": [
       "matrix([[ 0.63288795,  0.09241115],\n",
       "        [ 0.58062914,  0.06457545]])"
      ]
     },
     "execution_count": 16,
     "metadata": {},
     "output_type": "execute_result"
    }
   ],
   "source": [
    "a=np.random.rand(2,2)\n",
    "a=np.mat(a)\n",
    "a"
   ]
  },
  {
   "cell_type": "code",
   "execution_count": 17,
   "metadata": {},
   "outputs": [
    {
     "data": {
      "text/plain": [
       "matrix([[ -5.04985561,   7.22663138],\n",
       "        [ 45.40569871, -49.49238268]])"
      ]
     },
     "execution_count": 17,
     "metadata": {},
     "output_type": "execute_result"
    }
   ],
   "source": [
    "ia=np.linalg.inv(a)\n",
    "ia"
   ]
  },
  {
   "cell_type": "code",
   "execution_count": 20,
   "metadata": {},
   "outputs": [
    {
     "name": "stdout",
     "output_type": "stream",
     "text": [
      "[[  1.00000000e+00   0.00000000e+00]\n",
      " [ -4.44089210e-16   1.00000000e+00]]\n"
     ]
    }
   ],
   "source": [
    "print(a*ia)"
   ]
  },
  {
   "cell_type": "code",
   "execution_count": 23,
   "metadata": {},
   "outputs": [
    {
     "data": {
      "text/plain": [
       "array([[1, 4],\n",
       "       [2, 5],\n",
       "       [3, 6]])"
      ]
     },
     "execution_count": 23,
     "metadata": {},
     "output_type": "execute_result"
    }
   ],
   "source": [
    "a=np.array((1,2,3))\n",
    "b=np.array((4,5,6))\n",
    "c=np.column_stack((a,b))\n",
    "c"
   ]
  },
  {
   "cell_type": "code",
   "execution_count": 24,
   "metadata": {},
   "outputs": [
    {
     "data": {
      "text/plain": [
       "array([[1, 2, 3],\n",
       "       [4, 5, 6]])"
      ]
     },
     "execution_count": 24,
     "metadata": {},
     "output_type": "execute_result"
    }
   ],
   "source": [
    "d=np.row_stack((a,b))\n",
    "d"
   ]
  },
  {
   "cell_type": "code",
   "execution_count": 26,
   "metadata": {},
   "outputs": [
    {
     "data": {
      "text/plain": [
       "array([[ 0.21154258,  0.20514026,  0.89063771,  0.17918092],\n",
       "       [ 0.37222813,  0.0966334 ,  0.38371841,  0.6502271 ]])"
      ]
     },
     "execution_count": 26,
     "metadata": {},
     "output_type": "execute_result"
    }
   ],
   "source": [
    "a=np.random.rand(2,2)\n",
    "b=np.random.rand(2,2)\n",
    "c=np.hstack((a,b))\n",
    "c"
   ]
  },
  {
   "cell_type": "code",
   "execution_count": 27,
   "metadata": {},
   "outputs": [
    {
     "data": {
      "text/plain": [
       "array([[ 0.21154258,  0.20514026],\n",
       "       [ 0.37222813,  0.0966334 ],\n",
       "       [ 0.89063771,  0.17918092],\n",
       "       [ 0.38371841,  0.6502271 ]])"
      ]
     },
     "execution_count": 27,
     "metadata": {},
     "output_type": "execute_result"
    }
   ],
   "source": [
    "d=np.vstack((a,b))\n",
    "d"
   ]
  },
  {
   "cell_type": "code",
   "execution_count": 28,
   "metadata": {},
   "outputs": [
    {
     "data": {
      "text/plain": [
       "array([[ 0.21154258,  0.20514026],\n",
       "       [ 0.37222813,  0.0966334 ]])"
      ]
     },
     "execution_count": 28,
     "metadata": {},
     "output_type": "execute_result"
    }
   ],
   "source": [
    "a"
   ]
  },
  {
   "cell_type": "code",
   "execution_count": 29,
   "metadata": {},
   "outputs": [
    {
     "data": {
      "text/plain": [
       "array([[ 0.89063771,  0.17918092],\n",
       "       [ 0.38371841,  0.6502271 ]])"
      ]
     },
     "execution_count": 29,
     "metadata": {},
     "output_type": "execute_result"
    }
   ],
   "source": [
    "b"
   ]
  },
  {
   "cell_type": "code",
   "execution_count": 30,
   "metadata": {
    "collapsed": true
   },
   "outputs": [],
   "source": [
    "import urllib"
   ]
  },
  {
   "cell_type": "code",
   "execution_count": 31,
   "metadata": {
    "collapsed": true
   },
   "outputs": [],
   "source": [
    "import os"
   ]
  },
  {
   "cell_type": "code",
   "execution_count": 33,
   "metadata": {},
   "outputs": [],
   "source": [
    "if not os.path.exists('population.txt'):\n",
    "    urllib.request.urlretrieve(\"http://www.scipy-lectures.org/_downloads/populations.txt\"),(\"populations.txt\")"
   ]
  },
  {
   "cell_type": "code",
   "execution_count": 34,
   "metadata": {},
   "outputs": [
    {
     "name": "stdout",
     "output_type": "stream",
     "text": [
      "# year  hare    lynx    carrot\n",
      "1900    30e3    4e3     48300\n",
      "1901    47.2e3  6.1e3   48200\n",
      "1902    70.2e3  9.8e3   41500\n",
      "1903    77.4e3  35.2e3  38200\n",
      "1904    36.3e3  59.4e3  40600\n",
      "1905    20.6e3  41.7e3  39800\n",
      "1906    18.1e3  19e3    38600\n",
      "1907    21.4e3  13e3    42300\n",
      "1908    22e3    8.3e3   44500\n",
      "1909    25.4e3  9.1e3   42100\n",
      "1910    27.1e3  7.4e3   46000\n",
      "1911    40.3e3  8e3     46800\n",
      "1912    57e3    12.3e3  43800\n",
      "1913    76.6e3  19.5e3  40900\n",
      "1914    52.3e3  45.7e3  39400\n",
      "1915    19.5e3  51.1e3  39000\n",
      "1916    11.2e3  29.7e3  36700\n",
      "1917    7.6e3   15.8e3  41800\n",
      "1918    14.6e3  9.7e3   43300\n",
      "1919    16.2e3  10.1e3  41300\n",
      "1920    24.7e3  8.6e3   47300\n"
     ]
    }
   ],
   "source": [
    "! more populations.txt"
   ]
  },
  {
   "cell_type": "code",
   "execution_count": 38,
   "metadata": {},
   "outputs": [
    {
     "data": {
      "text/plain": [
       "(('C:\\\\Users\\\\ADMINI~1\\\\AppData\\\\Local\\\\Temp\\\\tmpamq9o8sm',\n",
       "  <http.client.HTTPMessage at 0x1e4f5b0ffd0>),\n",
       " 'population.txt')"
      ]
     },
     "execution_count": 38,
     "metadata": {},
     "output_type": "execute_result"
    }
   ],
   "source": [
    "urllib.request.urlretrieve(\"http://www.scipy-lectures.org/_downloads/populations.txt\"),(\"population.txt\")"
   ]
  },
  {
   "cell_type": "code",
   "execution_count": 39,
   "metadata": {},
   "outputs": [
    {
     "name": "stderr",
     "output_type": "stream",
     "text": [
      "无法访问 C:\\Users\\Administrator\\Dropbox\\Media data analytics\\jupyter notebook\\population.txt 文件\n"
     ]
    }
   ],
   "source": [
    "! more population.txt"
   ]
  },
  {
   "cell_type": "code",
   "execution_count": 43,
   "metadata": {
    "collapsed": true
   },
   "outputs": [],
   "source": [
    "if not os.path.exists('populations.txt'):\n",
    "    urllib.request.urlretrieve(\"http://www.scipy-lectures.org/_downloads/populations.txt\"),(\"populations.txt\")"
   ]
  },
  {
   "cell_type": "code",
   "execution_count": 45,
   "metadata": {},
   "outputs": [
    {
     "name": "stdout",
     "output_type": "stream",
     "text": [
      "# year  hare    lynx    carrot\n",
      "1900    30e3    4e3     48300\n",
      "1901    47.2e3  6.1e3   48200\n",
      "1902    70.2e3  9.8e3   41500\n",
      "1903    77.4e3  35.2e3  38200\n",
      "1904    36.3e3  59.4e3  40600\n",
      "1905    20.6e3  41.7e3  39800\n",
      "1906    18.1e3  19e3    38600\n",
      "1907    21.4e3  13e3    42300\n",
      "1908    22e3    8.3e3   44500\n",
      "1909    25.4e3  9.1e3   42100\n",
      "1910    27.1e3  7.4e3   46000\n",
      "1911    40.3e3  8e3     46800\n",
      "1912    57e3    12.3e3  43800\n",
      "1913    76.6e3  19.5e3  40900\n",
      "1914    52.3e3  45.7e3  39400\n",
      "1915    19.5e3  51.1e3  39000\n",
      "1916    11.2e3  29.7e3  36700\n",
      "1917    7.6e3   15.8e3  41800\n",
      "1918    14.6e3  9.7e3   43300\n",
      "1919    16.2e3  10.1e3  41300\n",
      "1920    24.7e3  8.6e3   47300\n"
     ]
    }
   ],
   "source": [
    "! more populations.txt"
   ]
  },
  {
   "cell_type": "code",
   "execution_count": 46,
   "metadata": {},
   "outputs": [
    {
     "data": {
      "text/plain": [
       "array([[  1900.,  30000.,   4000.,  48300.],\n",
       "       [  1901.,  47200.,   6100.,  48200.],\n",
       "       [  1902.,  70200.,   9800.,  41500.],\n",
       "       [  1903.,  77400.,  35200.,  38200.],\n",
       "       [  1904.,  36300.,  59400.,  40600.],\n",
       "       [  1905.,  20600.,  41700.,  39800.],\n",
       "       [  1906.,  18100.,  19000.,  38600.],\n",
       "       [  1907.,  21400.,  13000.,  42300.],\n",
       "       [  1908.,  22000.,   8300.,  44500.],\n",
       "       [  1909.,  25400.,   9100.,  42100.],\n",
       "       [  1910.,  27100.,   7400.,  46000.],\n",
       "       [  1911.,  40300.,   8000.,  46800.],\n",
       "       [  1912.,  57000.,  12300.,  43800.],\n",
       "       [  1913.,  76600.,  19500.,  40900.],\n",
       "       [  1914.,  52300.,  45700.,  39400.],\n",
       "       [  1915.,  19500.,  51100.,  39000.],\n",
       "       [  1916.,  11200.,  29700.,  36700.],\n",
       "       [  1917.,   7600.,  15800.,  41800.],\n",
       "       [  1918.,  14600.,   9700.,  43300.],\n",
       "       [  1919.,  16200.,  10100.,  41300.],\n",
       "       [  1920.,  24700.,   8600.,  47300.]])"
      ]
     },
     "execution_count": 46,
     "metadata": {},
     "output_type": "execute_result"
    }
   ],
   "source": [
    "data=np.loadtxt('populations.txt',skiprows=0)\n",
    "data"
   ]
  },
  {
   "cell_type": "code",
   "execution_count": 47,
   "metadata": {},
   "outputs": [
    {
     "data": {
      "text/plain": [
       "array([[  1900.,  30000.,   4000.,  48300.],\n",
       "       [  1901.,  47200.,   6100.,  48200.],\n",
       "       [  1902.,  70200.,   9800.,  41500.],\n",
       "       [  1903.,  77400.,  35200.,  38200.],\n",
       "       [  1904.,  36300.,  59400.,  40600.],\n",
       "       [  1905.,  20600.,  41700.,  39800.],\n",
       "       [  1906.,  18100.,  19000.,  38600.],\n",
       "       [  1907.,  21400.,  13000.,  42300.],\n",
       "       [  1908.,  22000.,   8300.,  44500.],\n",
       "       [  1909.,  25400.,   9100.,  42100.],\n",
       "       [  1910.,  27100.,   7400.,  46000.],\n",
       "       [  1911.,  40300.,   8000.,  46800.],\n",
       "       [  1912.,  57000.,  12300.,  43800.],\n",
       "       [  1913.,  76600.,  19500.,  40900.],\n",
       "       [  1914.,  52300.,  45700.,  39400.],\n",
       "       [  1915.,  19500.,  51100.,  39000.],\n",
       "       [  1916.,  11200.,  29700.,  36700.],\n",
       "       [  1917.,   7600.,  15800.,  41800.],\n",
       "       [  1918.,  14600.,   9700.,  43300.],\n",
       "       [  1919.,  16200.,  10100.,  41300.],\n",
       "       [  1920.,  24700.,   8600.,  47300.]])"
      ]
     },
     "execution_count": 47,
     "metadata": {},
     "output_type": "execute_result"
    }
   ],
   "source": [
    "data=np.loadtxt('populations.txt',skiprows=1)\n",
    "data"
   ]
  },
  {
   "cell_type": "code",
   "execution_count": 48,
   "metadata": {},
   "outputs": [
    {
     "data": {
      "text/plain": [
       "array([[  1901.,  47200.,   6100.,  48200.],\n",
       "       [  1902.,  70200.,   9800.,  41500.],\n",
       "       [  1903.,  77400.,  35200.,  38200.],\n",
       "       [  1904.,  36300.,  59400.,  40600.],\n",
       "       [  1905.,  20600.,  41700.,  39800.],\n",
       "       [  1906.,  18100.,  19000.,  38600.],\n",
       "       [  1907.,  21400.,  13000.,  42300.],\n",
       "       [  1908.,  22000.,   8300.,  44500.],\n",
       "       [  1909.,  25400.,   9100.,  42100.],\n",
       "       [  1910.,  27100.,   7400.,  46000.],\n",
       "       [  1911.,  40300.,   8000.,  46800.],\n",
       "       [  1912.,  57000.,  12300.,  43800.],\n",
       "       [  1913.,  76600.,  19500.,  40900.],\n",
       "       [  1914.,  52300.,  45700.,  39400.],\n",
       "       [  1915.,  19500.,  51100.,  39000.],\n",
       "       [  1916.,  11200.,  29700.,  36700.],\n",
       "       [  1917.,   7600.,  15800.,  41800.],\n",
       "       [  1918.,  14600.,   9700.,  43300.],\n",
       "       [  1919.,  16200.,  10100.,  41300.],\n",
       "       [  1920.,  24700.,   8600.,  47300.]])"
      ]
     },
     "execution_count": 48,
     "metadata": {},
     "output_type": "execute_result"
    }
   ],
   "source": [
    "data=np.loadtxt('populations.txt',skiprows=2)\n",
    "data"
   ]
  },
  {
   "cell_type": "code",
   "execution_count": 49,
   "metadata": {
    "collapsed": true
   },
   "outputs": [],
   "source": [
    "np.savetxt('hare.txt',data[:,1])"
   ]
  },
  {
   "cell_type": "code",
   "execution_count": 50,
   "metadata": {},
   "outputs": [
    {
     "name": "stdout",
     "output_type": "stream",
     "text": [
      "4.720000000000000000e+04\n",
      "7.020000000000000000e+04\n",
      "7.740000000000000000e+04\n",
      "3.630000000000000000e+04\n",
      "2.060000000000000000e+04\n",
      "1.810000000000000000e+04\n",
      "2.140000000000000000e+04\n",
      "2.200000000000000000e+04\n",
      "2.540000000000000000e+04\n",
      "2.710000000000000000e+04\n",
      "4.030000000000000000e+04\n",
      "5.700000000000000000e+04\n",
      "7.660000000000000000e+04\n",
      "5.230000000000000000e+04\n",
      "1.950000000000000000e+04\n",
      "1.120000000000000000e+04\n",
      "7.600000000000000000e+03\n",
      "1.460000000000000000e+04\n",
      "1.620000000000000000e+04\n",
      "2.470000000000000000e+04\n"
     ]
    }
   ],
   "source": [
    "! more hare.txt"
   ]
  },
  {
   "cell_type": "code",
   "execution_count": 51,
   "metadata": {},
   "outputs": [
    {
     "data": {
      "text/plain": [
       "array([[ 1900, 30000,  4000, 48300],\n",
       "       [ 1901, 47200,  6100, 48200],\n",
       "       [ 1902, 70200,  9800, 41500],\n",
       "       [ 1903, 77400, 35200, 38200],\n",
       "       [ 1904, 36300, 59400, 40600],\n",
       "       [ 1905, 20600, 41700, 39800],\n",
       "       [ 1906, 18100, 19000, 38600],\n",
       "       [ 1907, 21400, 13000, 42300],\n",
       "       [ 1908, 22000,  8300, 44500],\n",
       "       [ 1909, 25400,  9100, 42100],\n",
       "       [ 1910, 27100,  7400, 46000],\n",
       "       [ 1911, 40300,  8000, 46800],\n",
       "       [ 1912, 57000, 12300, 43800],\n",
       "       [ 1913, 76600, 19500, 40900],\n",
       "       [ 1914, 52300, 45700, 39400],\n",
       "       [ 1915, 19500, 51100, 39000],\n",
       "       [ 1916, 11200, 29700, 36700],\n",
       "       [ 1917,  7600, 15800, 41800],\n",
       "       [ 1918, 14600,  9700, 43300],\n",
       "       [ 1919, 16200, 10100, 41300],\n",
       "       [ 1920, 24700,  8600, 47300]])"
      ]
     },
     "execution_count": 51,
     "metadata": {},
     "output_type": "execute_result"
    }
   ],
   "source": [
    "data=np.loadtxt('populations.txt').astype('int')\n",
    "data"
   ]
  },
  {
   "cell_type": "code",
   "execution_count": 55,
   "metadata": {},
   "outputs": [
    {
     "data": {
      "text/plain": [
       "array([ 1910, 34080, 20166, 42400])"
      ]
     },
     "execution_count": 55,
     "metadata": {},
     "output_type": "execute_result"
    }
   ],
   "source": [
    "data.mean(axis=0).astype('int')"
   ]
  },
  {
   "cell_type": "code",
   "execution_count": 56,
   "metadata": {},
   "outputs": [
    {
     "data": {
      "text/plain": [
       "array([ 1920, 77400, 59400, 48300])"
      ]
     },
     "execution_count": 56,
     "metadata": {},
     "output_type": "execute_result"
    }
   ],
   "source": [
    "data.max(axis=0).astype('int')"
   ]
  },
  {
   "cell_type": "code",
   "execution_count": 57,
   "metadata": {},
   "outputs": [
    {
     "data": {
      "text/plain": [
       "array([[30000,  4000, 48300],\n",
       "       [47200,  6100, 48200],\n",
       "       [70200,  9800, 41500],\n",
       "       [77400, 35200, 38200],\n",
       "       [36300, 59400, 40600],\n",
       "       [20600, 41700, 39800],\n",
       "       [18100, 19000, 38600],\n",
       "       [21400, 13000, 42300],\n",
       "       [22000,  8300, 44500],\n",
       "       [25400,  9100, 42100],\n",
       "       [27100,  7400, 46000],\n",
       "       [40300,  8000, 46800],\n",
       "       [57000, 12300, 43800],\n",
       "       [76600, 19500, 40900],\n",
       "       [52300, 45700, 39400],\n",
       "       [19500, 51100, 39000],\n",
       "       [11200, 29700, 36700],\n",
       "       [ 7600, 15800, 41800],\n",
       "       [14600,  9700, 43300],\n",
       "       [16200, 10100, 41300],\n",
       "       [24700,  8600, 47300]])"
      ]
     },
     "execution_count": 57,
     "metadata": {},
     "output_type": "execute_result"
    }
   ],
   "source": [
    "populations=data[:,1:]\n",
    "populations"
   ]
  },
  {
   "cell_type": "code",
   "execution_count": 58,
   "metadata": {
    "collapsed": true
   },
   "outputs": [],
   "source": [
    "np.savetxt('populations.txt',data[:,1:])"
   ]
  },
  {
   "cell_type": "code",
   "execution_count": 59,
   "metadata": {},
   "outputs": [
    {
     "name": "stdout",
     "output_type": "stream",
     "text": [
      "3.000000000000000000e+04 4.000000000000000000e+03 4.830000000000000000e+04\n",
      "4.720000000000000000e+04 6.100000000000000000e+03 4.820000000000000000e+04\n",
      "7.020000000000000000e+04 9.800000000000000000e+03 4.150000000000000000e+04\n",
      "7.740000000000000000e+04 3.520000000000000000e+04 3.820000000000000000e+04\n",
      "3.630000000000000000e+04 5.940000000000000000e+04 4.060000000000000000e+04\n",
      "2.060000000000000000e+04 4.170000000000000000e+04 3.980000000000000000e+04\n",
      "1.810000000000000000e+04 1.900000000000000000e+04 3.860000000000000000e+04\n",
      "2.140000000000000000e+04 1.300000000000000000e+04 4.230000000000000000e+04\n",
      "2.200000000000000000e+04 8.300000000000000000e+03 4.450000000000000000e+04\n",
      "2.540000000000000000e+04 9.100000000000000000e+03 4.210000000000000000e+04\n",
      "2.710000000000000000e+04 7.400000000000000000e+03 4.600000000000000000e+04\n",
      "4.030000000000000000e+04 8.000000000000000000e+03 4.680000000000000000e+04\n",
      "5.700000000000000000e+04 1.230000000000000000e+04 4.380000000000000000e+04\n",
      "7.660000000000000000e+04 1.950000000000000000e+04 4.090000000000000000e+04\n",
      "5.230000000000000000e+04 4.570000000000000000e+04 3.940000000000000000e+04\n",
      "1.950000000000000000e+04 5.110000000000000000e+04 3.900000000000000000e+04\n",
      "1.120000000000000000e+04 2.970000000000000000e+04 3.670000000000000000e+04\n",
      "7.600000000000000000e+03 1.580000000000000000e+04 4.180000000000000000e+04\n",
      "1.460000000000000000e+04 9.700000000000000000e+03 4.330000000000000000e+04\n",
      "1.620000000000000000e+04 1.010000000000000000e+04 4.130000000000000000e+04\n",
      "2.470000000000000000e+04 8.600000000000000000e+03 4.730000000000000000e+04\n"
     ]
    }
   ],
   "source": [
    "! more populations.txt"
   ]
  },
  {
   "cell_type": "code",
   "execution_count": 60,
   "metadata": {
    "collapsed": true
   },
   "outputs": [],
   "source": [
    "year,hare,lynx,carrot=data.T"
   ]
  },
  {
   "cell_type": "code",
   "execution_count": 61,
   "metadata": {},
   "outputs": [
    {
     "data": {
      "text/plain": [
       "array([1900, 1901, 1902, 1903, 1904, 1905, 1906, 1907, 1908, 1909, 1910,\n",
       "       1911, 1912, 1913, 1914, 1915, 1916, 1917, 1918, 1919, 1920])"
      ]
     },
     "execution_count": 61,
     "metadata": {},
     "output_type": "execute_result"
    }
   ],
   "source": [
    "year"
   ]
  },
  {
   "cell_type": "code",
   "execution_count": 62,
   "metadata": {},
   "outputs": [
    {
     "data": {
      "text/plain": [
       "array([20,  3,  4,  0], dtype=int64)"
      ]
     },
     "execution_count": 62,
     "metadata": {},
     "output_type": "execute_result"
    }
   ],
   "source": [
    "np.argmax(data,axis=0)"
   ]
  },
  {
   "cell_type": "code",
   "execution_count": 65,
   "metadata": {},
   "outputs": [
    {
     "data": {
      "text/plain": [
       "array([1920, 1903, 1904, 1900])"
      ]
     },
     "execution_count": 65,
     "metadata": {},
     "output_type": "execute_result"
    }
   ],
   "source": [
    "year[np.argmax(data,axis=0)]"
   ]
  },
  {
   "cell_type": "code",
   "execution_count": 66,
   "metadata": {},
   "outputs": [
    {
     "data": {
      "text/plain": [
       "array([1901, 1902, 1903, 1911, 1912, 1913, 1914])"
      ]
     },
     "execution_count": 66,
     "metadata": {},
     "output_type": "execute_result"
    }
   ],
   "source": [
    "year[hare>40000]"
   ]
  },
  {
   "cell_type": "code",
   "execution_count": 70,
   "metadata": {},
   "outputs": [
    {
     "data": {
      "text/plain": [
       "array([1900, 1901, 1902, 1903, 1904, 1905, 1906, 1907, 1908, 1909, 1910,\n",
       "       1911, 1912, 1913, 1914, 1915, 1916, 1917, 1918, 1919, 1920])"
      ]
     },
     "execution_count": 70,
     "metadata": {},
     "output_type": "execute_result"
    }
   ],
   "source": [
    "year[np.any(populations>5000,axis=1)]"
   ]
  },
  {
   "cell_type": "code",
   "execution_count": 71,
   "metadata": {},
   "outputs": [
    {
     "data": {
      "text/plain": [
       "array([[1900, 1901, 1902, 1903, 1904, 1905, 1906, 1907, 1908, 1909, 1910,\n",
       "        1911, 1912, 1913, 1914, 1915, 1916, 1917, 1918, 1919, 1920]])"
      ]
     },
     "execution_count": 71,
     "metadata": {},
     "output_type": "execute_result"
    }
   ],
   "source": [
    "year[np.any(populations>5000)]"
   ]
  },
  {
   "cell_type": "code",
   "execution_count": 73,
   "metadata": {},
   "outputs": [],
   "source": [
    "import pandas as pd"
   ]
  },
  {
   "cell_type": "code",
   "execution_count": 74,
   "metadata": {
    "collapsed": true
   },
   "outputs": [],
   "source": [
    "import numpy as np"
   ]
  },
  {
   "cell_type": "code",
   "execution_count": 75,
   "metadata": {
    "collapsed": true
   },
   "outputs": [],
   "source": [
    "from pandas import Series, DataFrame"
   ]
  },
  {
   "cell_type": "code",
   "execution_count": 77,
   "metadata": {},
   "outputs": [
    {
     "data": {
      "text/plain": [
       "array([ 0.96045547,  0.2593673 ,  0.64643588,  0.98699508,  0.78794969])"
      ]
     },
     "execution_count": 77,
     "metadata": {},
     "output_type": "execute_result"
    }
   ],
   "source": [
    "a=np.random.rand(5)\n",
    "a"
   ]
  },
  {
   "cell_type": "code",
   "execution_count": 79,
   "metadata": {},
   "outputs": [
    {
     "data": {
      "text/plain": [
       "0    0.960455\n",
       "1    0.259367\n",
       "2    0.646436\n",
       "3    0.986995\n",
       "4    0.787950\n",
       "dtype: float64"
      ]
     },
     "execution_count": 79,
     "metadata": {},
     "output_type": "execute_result"
    }
   ],
   "source": [
    "s=Series(a)\n",
    "s"
   ]
  },
  {
   "cell_type": "code",
   "execution_count": 80,
   "metadata": {},
   "outputs": [
    {
     "data": {
      "text/plain": [
       "a    0.627337\n",
       "b    0.931358\n",
       "c    0.162133\n",
       "d    0.669119\n",
       "e    0.945303\n",
       "dtype: float64"
      ]
     },
     "execution_count": 80,
     "metadata": {},
     "output_type": "execute_result"
    }
   ],
   "source": [
    "s=Series(np.random.rand(5),index=['a','b','c','d','e'])\n",
    "s"
   ]
  },
  {
   "cell_type": "code",
   "execution_count": 81,
   "metadata": {},
   "outputs": [
    {
     "data": {
      "text/plain": [
       "Index(['a', 'b', 'c', 'd', 'e'], dtype='object')"
      ]
     },
     "execution_count": 81,
     "metadata": {},
     "output_type": "execute_result"
    }
   ],
   "source": [
    "s.index"
   ]
  },
  {
   "cell_type": "code",
   "execution_count": 82,
   "metadata": {},
   "outputs": [
    {
     "data": {
      "text/plain": [
       "array([ 0.62733693,  0.93135816,  0.16213305,  0.66911869,  0.9453034 ])"
      ]
     },
     "execution_count": 82,
     "metadata": {},
     "output_type": "execute_result"
    }
   ],
   "source": [
    "s.values"
   ]
  },
  {
   "cell_type": "code",
   "execution_count": 83,
   "metadata": {},
   "outputs": [
    {
     "data": {
      "text/plain": [
       "a    0.995915\n",
       "b    0.667462\n",
       "c    0.161438\n",
       "d    0.314497\n",
       "e    0.588242\n",
       "Name: my series, dtype: float64"
      ]
     },
     "execution_count": 83,
     "metadata": {},
     "output_type": "execute_result"
    }
   ],
   "source": [
    "s=Series(np.random.rand(5),index=['a','b','c','d','e'],name='my series')\n",
    "s"
   ]
  },
  {
   "cell_type": "code",
   "execution_count": 84,
   "metadata": {},
   "outputs": [
    {
     "name": "stdout",
     "output_type": "stream",
     "text": [
      "{'a': 0, 'b': 1, 'c': 2}\n"
     ]
    }
   ],
   "source": [
    "d={'a':0,'b':1,'c':2}\n",
    "print(d)"
   ]
  },
  {
   "cell_type": "code",
   "execution_count": 86,
   "metadata": {},
   "outputs": [
    {
     "data": {
      "text/plain": [
       "c    2.0\n",
       "b    1.0\n",
       "d    NaN\n",
       "dtype: float64"
      ]
     },
     "execution_count": 86,
     "metadata": {},
     "output_type": "execute_result"
    }
   ],
   "source": [
    "s=Series(d,index=['c','b','d'])\n",
    "s"
   ]
  },
  {
   "cell_type": "code",
   "execution_count": 88,
   "metadata": {},
   "outputs": [
    {
     "data": {
      "text/plain": [
       "a    100\n",
       "b    100\n",
       "c    100\n",
       "d    100\n",
       "e    100\n",
       "dtype: int64"
      ]
     },
     "execution_count": 88,
     "metadata": {},
     "output_type": "execute_result"
    }
   ],
   "source": [
    "s=Series(100,index=['a','b','c','d','e'])\n",
    "s"
   ]
  },
  {
   "cell_type": "code",
   "execution_count": 89,
   "metadata": {},
   "outputs": [
    {
     "data": {
      "text/plain": [
       "a    100\n",
       "b    200\n",
       "c    300\n",
       "d    400\n",
       "e    500\n",
       "dtype: int64"
      ]
     },
     "execution_count": 89,
     "metadata": {},
     "output_type": "execute_result"
    }
   ],
   "source": [
    "s=Series([100,200,300,400,500],index=['a','b','c','d','e'])\n",
    "s"
   ]
  },
  {
   "cell_type": "code",
   "execution_count": 90,
   "metadata": {},
   "outputs": [
    {
     "data": {
      "text/plain": [
       "a    0.810396\n",
       "b    0.179873\n",
       "c    0.524020\n",
       "d    0.207219\n",
       "e    0.758489\n",
       "dtype: float64"
      ]
     },
     "execution_count": 90,
     "metadata": {},
     "output_type": "execute_result"
    }
   ],
   "source": [
    "s=Series(np.random.rand(5),index=['a','b','c','d','e'])\n",
    "s"
   ]
  },
  {
   "cell_type": "code",
   "execution_count": 91,
   "metadata": {},
   "outputs": [
    {
     "data": {
      "text/plain": [
       "0.81039563738093878"
      ]
     },
     "execution_count": 91,
     "metadata": {},
     "output_type": "execute_result"
    }
   ],
   "source": [
    "s[0]"
   ]
  },
  {
   "cell_type": "code",
   "execution_count": 92,
   "metadata": {},
   "outputs": [
    {
     "data": {
      "text/plain": [
       "a    0.810396\n",
       "b    0.179873\n",
       "dtype: float64"
      ]
     },
     "execution_count": 92,
     "metadata": {},
     "output_type": "execute_result"
    }
   ],
   "source": [
    "s[:2]"
   ]
  },
  {
   "cell_type": "code",
   "execution_count": 93,
   "metadata": {},
   "outputs": [
    {
     "data": {
      "text/plain": [
       "a    0.810396\n",
       "dtype: float64"
      ]
     },
     "execution_count": 93,
     "metadata": {},
     "output_type": "execute_result"
    }
   ],
   "source": [
    "s[:1]"
   ]
  },
  {
   "cell_type": "code",
   "execution_count": 94,
   "metadata": {},
   "outputs": [
    {
     "data": {
      "text/plain": [
       "a    0.810396\n",
       "dtype: float64"
      ]
     },
     "execution_count": 94,
     "metadata": {},
     "output_type": "execute_result"
    }
   ],
   "source": [
    "s[[0]]"
   ]
  },
  {
   "cell_type": "code",
   "execution_count": 95,
   "metadata": {},
   "outputs": [
    {
     "data": {
      "text/plain": [
       "a    0.810396\n",
       "c    0.524020\n",
       "e    0.758489\n",
       "dtype: float64"
      ]
     },
     "execution_count": 95,
     "metadata": {},
     "output_type": "execute_result"
    }
   ],
   "source": [
    "s[[0,2,4]]"
   ]
  },
  {
   "cell_type": "code",
   "execution_count": 96,
   "metadata": {},
   "outputs": [
    {
     "data": {
      "text/plain": [
       "e    0.758489\n",
       "a    0.810396\n",
       "dtype: float64"
      ]
     },
     "execution_count": 96,
     "metadata": {},
     "output_type": "execute_result"
    }
   ],
   "source": [
    "s[['e','a']]"
   ]
  },
  {
   "cell_type": "code",
   "execution_count": 97,
   "metadata": {},
   "outputs": [
    {
     "data": {
      "text/plain": [
       "a    0.810396\n",
       "c    0.524020\n",
       "e    0.758489\n",
       "dtype: float64"
      ]
     },
     "execution_count": 97,
     "metadata": {},
     "output_type": "execute_result"
    }
   ],
   "source": [
    "s[s>0.5]"
   ]
  },
  {
   "cell_type": "code",
   "execution_count": 99,
   "metadata": {},
   "outputs": [
    {
     "data": {
      "text/plain": [
       "True"
      ]
     },
     "execution_count": 99,
     "metadata": {},
     "output_type": "execute_result"
    }
   ],
   "source": [
    "'d' in s"
   ]
  },
  {
   "cell_type": "code",
   "execution_count": 102,
   "metadata": {},
   "outputs": [
    {
     "data": {
      "text/html": [
       "<div>\n",
       "<style>\n",
       "    .dataframe thead tr:only-child th {\n",
       "        text-align: right;\n",
       "    }\n",
       "\n",
       "    .dataframe thead th {\n",
       "        text-align: left;\n",
       "    }\n",
       "\n",
       "    .dataframe tbody tr th {\n",
       "        vertical-align: top;\n",
       "    }\n",
       "</style>\n",
       "<table border=\"1\" class=\"dataframe\">\n",
       "  <thead>\n",
       "    <tr style=\"text-align: right;\">\n",
       "      <th></th>\n",
       "      <th>Lucas</th>\n",
       "      <th>Serena</th>\n",
       "    </tr>\n",
       "  </thead>\n",
       "  <tbody>\n",
       "    <tr>\n",
       "      <th>Height</th>\n",
       "      <td>101</td>\n",
       "      <td>163</td>\n",
       "    </tr>\n",
       "    <tr>\n",
       "      <th>Weight</th>\n",
       "      <td>15</td>\n",
       "      <td>50</td>\n",
       "    </tr>\n",
       "    <tr>\n",
       "      <th>BMI</th>\n",
       "      <td>25</td>\n",
       "      <td>22</td>\n",
       "    </tr>\n",
       "  </tbody>\n",
       "</table>\n",
       "</div>"
      ],
      "text/plain": [
       "        Lucas  Serena\n",
       "Height    101     163\n",
       "Weight     15      50\n",
       "BMI        25      22"
      ]
     },
     "execution_count": 102,
     "metadata": {},
     "output_type": "execute_result"
    }
   ],
   "source": [
    "x={'Serena':Series([163,50,22],index=['Height','Weight','BMI']),'Lucas':Series([101,15,25],index=['Height','Weight','BMI'])}\n",
    "fam=DataFrame(x)\n",
    "fam"
   ]
  },
  {
   "cell_type": "code",
   "execution_count": 105,
   "metadata": {},
   "outputs": [
    {
     "data": {
      "text/html": [
       "<div>\n",
       "<style>\n",
       "    .dataframe thead tr:only-child th {\n",
       "        text-align: right;\n",
       "    }\n",
       "\n",
       "    .dataframe thead th {\n",
       "        text-align: left;\n",
       "    }\n",
       "\n",
       "    .dataframe tbody tr th {\n",
       "        vertical-align: top;\n",
       "    }\n",
       "</style>\n",
       "<table border=\"1\" class=\"dataframe\">\n",
       "  <thead>\n",
       "    <tr style=\"text-align: right;\">\n",
       "      <th></th>\n",
       "      <th>Lucas</th>\n",
       "      <th>Serena</th>\n",
       "      <th>Ian</th>\n",
       "    </tr>\n",
       "  </thead>\n",
       "  <tbody>\n",
       "    <tr>\n",
       "      <th>Height</th>\n",
       "      <td>101.0</td>\n",
       "      <td>163.0</td>\n",
       "      <td>NaN</td>\n",
       "    </tr>\n",
       "    <tr>\n",
       "      <th>Weight</th>\n",
       "      <td>15.0</td>\n",
       "      <td>50.0</td>\n",
       "      <td>NaN</td>\n",
       "    </tr>\n",
       "    <tr>\n",
       "      <th>Shoulder</th>\n",
       "      <td>NaN</td>\n",
       "      <td>NaN</td>\n",
       "      <td>NaN</td>\n",
       "    </tr>\n",
       "  </tbody>\n",
       "</table>\n",
       "</div>"
      ],
      "text/plain": [
       "          Lucas  Serena  Ian\n",
       "Height    101.0   163.0  NaN\n",
       "Weight     15.0    50.0  NaN\n",
       "Shoulder    NaN     NaN  NaN"
      ]
     },
     "execution_count": 105,
     "metadata": {},
     "output_type": "execute_result"
    }
   ],
   "source": [
    "fam2=DataFrame(fam,['Height','Weight','Shoulder'],columns=['Lucas','Serena','Ian'])\n",
    "fam2"
   ]
  },
  {
   "cell_type": "code",
   "execution_count": 107,
   "metadata": {},
   "outputs": [
    {
     "data": {
      "text/plain": [
       "Index(['Height', 'Weight', 'Shoulder'], dtype='object')"
      ]
     },
     "execution_count": 107,
     "metadata": {},
     "output_type": "execute_result"
    }
   ],
   "source": [
    "fam2.index"
   ]
  },
  {
   "cell_type": "code",
   "execution_count": 108,
   "metadata": {},
   "outputs": [
    {
     "data": {
      "text/plain": [
       "Index(['Lucas', 'Serena', 'Ian'], dtype='object')"
      ]
     },
     "execution_count": 108,
     "metadata": {},
     "output_type": "execute_result"
    }
   ],
   "source": [
    "fam2.columns"
   ]
  },
  {
   "cell_type": "code",
   "execution_count": 109,
   "metadata": {},
   "outputs": [
    {
     "data": {
      "text/plain": [
       "array([[ 101.,  163.,   nan],\n",
       "       [  15.,   50.,   nan],\n",
       "       [  nan,   nan,   nan]])"
      ]
     },
     "execution_count": 109,
     "metadata": {},
     "output_type": "execute_result"
    }
   ],
   "source": [
    "fam2.values"
   ]
  },
  {
   "cell_type": "code",
   "execution_count": 110,
   "metadata": {},
   "outputs": [
    {
     "data": {
      "text/html": [
       "<div>\n",
       "<style>\n",
       "    .dataframe thead tr:only-child th {\n",
       "        text-align: right;\n",
       "    }\n",
       "\n",
       "    .dataframe thead th {\n",
       "        text-align: left;\n",
       "    }\n",
       "\n",
       "    .dataframe tbody tr th {\n",
       "        vertical-align: top;\n",
       "    }\n",
       "</style>\n",
       "<table border=\"1\" class=\"dataframe\">\n",
       "  <thead>\n",
       "    <tr style=\"text-align: right;\">\n",
       "      <th></th>\n",
       "      <th>0</th>\n",
       "      <th>1</th>\n",
       "    </tr>\n",
       "  </thead>\n",
       "  <tbody>\n",
       "    <tr>\n",
       "      <th>0</th>\n",
       "      <td>163</td>\n",
       "      <td>50</td>\n",
       "    </tr>\n",
       "    <tr>\n",
       "      <th>1</th>\n",
       "      <td>180</td>\n",
       "      <td>77</td>\n",
       "    </tr>\n",
       "    <tr>\n",
       "      <th>2</th>\n",
       "      <td>101</td>\n",
       "      <td>15</td>\n",
       "    </tr>\n",
       "  </tbody>\n",
       "</table>\n",
       "</div>"
      ],
      "text/plain": [
       "     0   1\n",
       "0  163  50\n",
       "1  180  77\n",
       "2  101  15"
      ]
     },
     "execution_count": 110,
     "metadata": {},
     "output_type": "execute_result"
    }
   ],
   "source": [
    "a=Series([163,180,101])\n",
    "b=Series([50,77,15])\n",
    "fam=pd.concat([a,b],axis=1)\n",
    "fam"
   ]
  },
  {
   "cell_type": "code",
   "execution_count": 119,
   "metadata": {},
   "outputs": [
    {
     "data": {
      "text/html": [
       "<div>\n",
       "<style>\n",
       "    .dataframe thead tr:only-child th {\n",
       "        text-align: right;\n",
       "    }\n",
       "\n",
       "    .dataframe thead th {\n",
       "        text-align: left;\n",
       "    }\n",
       "\n",
       "    .dataframe tbody tr th {\n",
       "        vertical-align: top;\n",
       "    }\n",
       "</style>\n",
       "<table border=\"1\" class=\"dataframe\">\n",
       "  <thead>\n",
       "    <tr style=\"text-align: right;\">\n",
       "      <th></th>\n",
       "      <th>Serena</th>\n",
       "      <th>Ian</th>\n",
       "      <th>Lucas</th>\n",
       "    </tr>\n",
       "  </thead>\n",
       "  <tbody>\n",
       "    <tr>\n",
       "      <th>Shoulders</th>\n",
       "      <td>2.0</td>\n",
       "      <td>4.0</td>\n",
       "      <td>6.0</td>\n",
       "    </tr>\n",
       "    <tr>\n",
       "      <th>Weight</th>\n",
       "      <td>1.0</td>\n",
       "      <td>2.0</td>\n",
       "      <td>3.0</td>\n",
       "    </tr>\n",
       "    <tr>\n",
       "      <th>Height</th>\n",
       "      <td>0.0</td>\n",
       "      <td>0.0</td>\n",
       "      <td>0.0</td>\n",
       "    </tr>\n",
       "  </tbody>\n",
       "</table>\n",
       "</div>"
      ],
      "text/plain": [
       "           Serena  Ian  Lucas\n",
       "Shoulders     2.0  4.0    6.0\n",
       "Weight        1.0  2.0    3.0\n",
       "Height        0.0  0.0    0.0"
      ]
     },
     "execution_count": 119,
     "metadata": {},
     "output_type": "execute_result"
    }
   ],
   "source": [
    "fam=DataFrame()\n",
    "index=['Height','Weight','Shoulders']\n",
    "for i in range(3):\n",
    "    a=DataFrame([np.linspace(i,3*i,3)],index=[index[i]],columns=['Serena','Ian','Lucas'])\n",
    "    fam=pd.concat([a,fam],axis=0)\n",
    "fam"
   ]
  },
  {
   "cell_type": "code",
   "execution_count": 121,
   "metadata": {},
   "outputs": [
    {
     "data": {
      "text/plain": [
       "Shoulders    2.0\n",
       "Weight       1.0\n",
       "Height       0.0\n",
       "Name: Serena, dtype: float64"
      ]
     },
     "execution_count": 121,
     "metadata": {},
     "output_type": "execute_result"
    }
   ],
   "source": [
    "fam['Serena']"
   ]
  },
  {
   "cell_type": "code",
   "execution_count": 122,
   "metadata": {},
   "outputs": [
    {
     "data": {
      "text/plain": [
       "Index(['Serena', 'Ian', 'Lucas'], dtype='object')"
      ]
     },
     "execution_count": 122,
     "metadata": {},
     "output_type": "execute_result"
    }
   ],
   "source": [
    "fam.columns"
   ]
  },
  {
   "cell_type": "code",
   "execution_count": 124,
   "metadata": {},
   "outputs": [
    {
     "data": {
      "text/html": [
       "<div>\n",
       "<style>\n",
       "    .dataframe thead tr:only-child th {\n",
       "        text-align: right;\n",
       "    }\n",
       "\n",
       "    .dataframe thead th {\n",
       "        text-align: left;\n",
       "    }\n",
       "\n",
       "    .dataframe tbody tr th {\n",
       "        vertical-align: top;\n",
       "    }\n",
       "</style>\n",
       "<table border=\"1\" class=\"dataframe\">\n",
       "  <thead>\n",
       "    <tr style=\"text-align: right;\">\n",
       "      <th></th>\n",
       "      <th>Ian</th>\n",
       "      <th>Serena</th>\n",
       "      <th>Lucas</th>\n",
       "    </tr>\n",
       "  </thead>\n",
       "  <tbody>\n",
       "    <tr>\n",
       "      <th>Shoulders</th>\n",
       "      <td>2.0</td>\n",
       "      <td>4.0</td>\n",
       "      <td>6.0</td>\n",
       "    </tr>\n",
       "    <tr>\n",
       "      <th>Weight</th>\n",
       "      <td>1.0</td>\n",
       "      <td>2.0</td>\n",
       "      <td>3.0</td>\n",
       "    </tr>\n",
       "    <tr>\n",
       "      <th>Height</th>\n",
       "      <td>0.0</td>\n",
       "      <td>0.0</td>\n",
       "      <td>0.0</td>\n",
       "    </tr>\n",
       "  </tbody>\n",
       "</table>\n",
       "</div>"
      ],
      "text/plain": [
       "           Ian  Serena  Lucas\n",
       "Shoulders  2.0     4.0    6.0\n",
       "Weight     1.0     2.0    3.0\n",
       "Height     0.0     0.0    0.0"
      ]
     },
     "execution_count": 124,
     "metadata": {},
     "output_type": "execute_result"
    }
   ],
   "source": [
    "fam.columns=['Ian','Serena','Lucas']\n",
    "fam"
   ]
  },
  {
   "cell_type": "code",
   "execution_count": 126,
   "metadata": {},
   "outputs": [
    {
     "data": {
      "text/html": [
       "<div>\n",
       "<style>\n",
       "    .dataframe thead tr:only-child th {\n",
       "        text-align: right;\n",
       "    }\n",
       "\n",
       "    .dataframe thead th {\n",
       "        text-align: left;\n",
       "    }\n",
       "\n",
       "    .dataframe tbody tr th {\n",
       "        vertical-align: top;\n",
       "    }\n",
       "</style>\n",
       "<table border=\"1\" class=\"dataframe\">\n",
       "  <thead>\n",
       "    <tr style=\"text-align: right;\">\n",
       "      <th></th>\n",
       "      <th>Serena</th>\n",
       "      <th>Lucas</th>\n",
       "    </tr>\n",
       "  </thead>\n",
       "  <tbody>\n",
       "    <tr>\n",
       "      <th>Shoulders</th>\n",
       "      <td>4.0</td>\n",
       "      <td>6.0</td>\n",
       "    </tr>\n",
       "    <tr>\n",
       "      <th>Weight</th>\n",
       "      <td>2.0</td>\n",
       "      <td>3.0</td>\n",
       "    </tr>\n",
       "    <tr>\n",
       "      <th>Height</th>\n",
       "      <td>0.0</td>\n",
       "      <td>0.0</td>\n",
       "    </tr>\n",
       "  </tbody>\n",
       "</table>\n",
       "</div>"
      ],
      "text/plain": [
       "           Serena  Lucas\n",
       "Shoulders     4.0    6.0\n",
       "Weight        2.0    3.0\n",
       "Height        0.0    0.0"
      ]
     },
     "execution_count": 126,
     "metadata": {},
     "output_type": "execute_result"
    }
   ],
   "source": [
    "fam[['Serena','Lucas']]"
   ]
  },
  {
   "cell_type": "code",
   "execution_count": 128,
   "metadata": {},
   "outputs": [
    {
     "data": {
      "text/plain": [
       "Shoulders    4.0\n",
       "Weight       2.0\n",
       "Height       0.0\n",
       "Name: Serena, dtype: float64"
      ]
     },
     "execution_count": 128,
     "metadata": {},
     "output_type": "execute_result"
    }
   ],
   "source": [
    "fam.Serena"
   ]
  },
  {
   "cell_type": "code",
   "execution_count": 130,
   "metadata": {},
   "outputs": [
    {
     "data": {
      "text/plain": [
       "0.0"
      ]
     },
     "execution_count": 130,
     "metadata": {},
     "output_type": "execute_result"
    }
   ],
   "source": [
    "fam['Serena']['Height']"
   ]
  },
  {
   "cell_type": "code",
   "execution_count": 132,
   "metadata": {},
   "outputs": [
    {
     "data": {
      "text/plain": [
       "2.0"
      ]
     },
     "execution_count": 132,
     "metadata": {},
     "output_type": "execute_result"
    }
   ],
   "source": [
    "fam['Serena'][1]"
   ]
  },
  {
   "cell_type": "code",
   "execution_count": 136,
   "metadata": {},
   "outputs": [
    {
     "data": {
      "text/plain": [
       "Ian       1.0\n",
       "Serena    2.0\n",
       "Lucas     3.0\n",
       "Name: Weight, dtype: float64"
      ]
     },
     "execution_count": 136,
     "metadata": {},
     "output_type": "execute_result"
    }
   ],
   "source": [
    "fam.iloc[1]"
   ]
  },
  {
   "cell_type": "code",
   "execution_count": 141,
   "metadata": {},
   "outputs": [
    {
     "data": {
      "text/html": [
       "<div>\n",
       "<style>\n",
       "    .dataframe thead tr:only-child th {\n",
       "        text-align: right;\n",
       "    }\n",
       "\n",
       "    .dataframe thead th {\n",
       "        text-align: left;\n",
       "    }\n",
       "\n",
       "    .dataframe tbody tr th {\n",
       "        vertical-align: top;\n",
       "    }\n",
       "</style>\n",
       "<table border=\"1\" class=\"dataframe\">\n",
       "  <thead>\n",
       "    <tr style=\"text-align: right;\">\n",
       "      <th></th>\n",
       "      <th>Ian</th>\n",
       "      <th>Serena</th>\n",
       "      <th>Lucas</th>\n",
       "    </tr>\n",
       "  </thead>\n",
       "  <tbody>\n",
       "    <tr>\n",
       "      <th>Weight</th>\n",
       "      <td>1.0</td>\n",
       "      <td>2.0</td>\n",
       "      <td>3.0</td>\n",
       "    </tr>\n",
       "    <tr>\n",
       "      <th>Height</th>\n",
       "      <td>0.0</td>\n",
       "      <td>0.0</td>\n",
       "      <td>0.0</td>\n",
       "    </tr>\n",
       "  </tbody>\n",
       "</table>\n",
       "</div>"
      ],
      "text/plain": [
       "        Ian  Serena  Lucas\n",
       "Weight  1.0     2.0    3.0\n",
       "Height  0.0     0.0    0.0"
      ]
     },
     "execution_count": 141,
     "metadata": {},
     "output_type": "execute_result"
    }
   ],
   "source": [
    "fam[1:3]"
   ]
  },
  {
   "cell_type": "code",
   "execution_count": 145,
   "metadata": {},
   "outputs": [
    {
     "data": {
      "text/html": [
       "<div>\n",
       "<style>\n",
       "    .dataframe thead tr:only-child th {\n",
       "        text-align: right;\n",
       "    }\n",
       "\n",
       "    .dataframe thead th {\n",
       "        text-align: left;\n",
       "    }\n",
       "\n",
       "    .dataframe tbody tr th {\n",
       "        vertical-align: top;\n",
       "    }\n",
       "</style>\n",
       "<table border=\"1\" class=\"dataframe\">\n",
       "  <thead>\n",
       "    <tr style=\"text-align: right;\">\n",
       "      <th></th>\n",
       "      <th>Ian</th>\n",
       "      <th>Serena</th>\n",
       "      <th>Lucas</th>\n",
       "    </tr>\n",
       "  </thead>\n",
       "  <tbody>\n",
       "    <tr>\n",
       "      <th>Height</th>\n",
       "      <td>0.0</td>\n",
       "      <td>0.0</td>\n",
       "      <td>0.0</td>\n",
       "    </tr>\n",
       "  </tbody>\n",
       "</table>\n",
       "</div>"
      ],
      "text/plain": [
       "        Ian  Serena  Lucas\n",
       "Height  0.0     0.0    0.0"
      ]
     },
     "execution_count": 145,
     "metadata": {},
     "output_type": "execute_result"
    }
   ],
   "source": [
    "bv=[False, False, True]\n",
    "fam[bv]"
   ]
  },
  {
   "cell_type": "code",
   "execution_count": 150,
   "metadata": {},
   "outputs": [
    {
     "data": {
      "text/html": [
       "<div>\n",
       "<style>\n",
       "    .dataframe thead tr:only-child th {\n",
       "        text-align: right;\n",
       "    }\n",
       "\n",
       "    .dataframe thead th {\n",
       "        text-align: left;\n",
       "    }\n",
       "\n",
       "    .dataframe tbody tr th {\n",
       "        vertical-align: top;\n",
       "    }\n",
       "</style>\n",
       "<table border=\"1\" class=\"dataframe\">\n",
       "  <thead>\n",
       "    <tr style=\"text-align: right;\">\n",
       "      <th></th>\n",
       "      <th>Ian</th>\n",
       "      <th>Serena</th>\n",
       "    </tr>\n",
       "  </thead>\n",
       "  <tbody>\n",
       "    <tr>\n",
       "      <th>Weight</th>\n",
       "      <td>1.0</td>\n",
       "      <td>2.0</td>\n",
       "    </tr>\n",
       "    <tr>\n",
       "      <th>Height</th>\n",
       "      <td>0.0</td>\n",
       "      <td>0.0</td>\n",
       "    </tr>\n",
       "  </tbody>\n",
       "</table>\n",
       "</div>"
      ],
      "text/plain": [
       "        Ian  Serena\n",
       "Weight  1.0     2.0\n",
       "Height  0.0     0.0"
      ]
     },
     "execution_count": 150,
     "metadata": {},
     "output_type": "execute_result"
    }
   ],
   "source": [
    "fam[['Ian','Serena']].iloc[[1,2]]"
   ]
  },
  {
   "cell_type": "code",
   "execution_count": 158,
   "metadata": {},
   "outputs": [
    {
     "name": "stdout",
     "output_type": "stream",
     "text": [
      "           Ian  Serena  Lucas\n",
      "Shoulders  2.0     4.0    6.0\n",
      "Weight     1.0     2.0    3.0\n",
      "Height     0.0     0.0    0.0\n"
     ]
    },
    {
     "data": {
      "text/plain": [
       "3.0"
      ]
     },
     "execution_count": 158,
     "metadata": {},
     "output_type": "execute_result"
    }
   ],
   "source": [
    "print(fam)\n",
    "fam.iat[1,2]"
   ]
  },
  {
   "cell_type": "code",
   "execution_count": 159,
   "metadata": {},
   "outputs": [
    {
     "data": {
      "text/plain": [
       "2.0"
      ]
     },
     "execution_count": 159,
     "metadata": {},
     "output_type": "execute_result"
    }
   ],
   "source": [
    "fam.at['Weight','Serena']"
   ]
  },
  {
   "cell_type": "code",
   "execution_count": 157,
   "metadata": {},
   "outputs": [
    {
     "name": "stderr",
     "output_type": "stream",
     "text": [
      "C:\\Users\\Administrator\\Anaconda3\\lib\\site-packages\\ipykernel_launcher.py:1: DeprecationWarning: \n",
      ".ix is deprecated. Please use\n",
      ".loc for label based indexing or\n",
      ".iloc for positional indexing\n",
      "\n",
      "See the documentation here:\n",
      "http://pandas.pydata.org/pandas-docs/stable/indexing.html#ix-indexer-is-deprecated\n",
      "  \"\"\"Entry point for launching an IPython kernel.\n"
     ]
    },
    {
     "data": {
      "text/plain": [
       "1.0"
      ]
     },
     "execution_count": 157,
     "metadata": {},
     "output_type": "execute_result"
    }
   ],
   "source": [
    "fam.ix['Weight',0]"
   ]
  },
  {
   "cell_type": "code",
   "execution_count": 165,
   "metadata": {},
   "outputs": [
    {
     "data": {
      "text/html": [
       "<div>\n",
       "<style>\n",
       "    .dataframe thead tr:only-child th {\n",
       "        text-align: right;\n",
       "    }\n",
       "\n",
       "    .dataframe thead th {\n",
       "        text-align: left;\n",
       "    }\n",
       "\n",
       "    .dataframe tbody tr th {\n",
       "        vertical-align: top;\n",
       "    }\n",
       "</style>\n",
       "<table border=\"1\" class=\"dataframe\">\n",
       "  <thead>\n",
       "    <tr style=\"text-align: right;\">\n",
       "      <th></th>\n",
       "      <th>Ian</th>\n",
       "      <th>Lucas</th>\n",
       "    </tr>\n",
       "  </thead>\n",
       "  <tbody>\n",
       "    <tr>\n",
       "      <th>Weight</th>\n",
       "      <td>1.0</td>\n",
       "      <td>3.0</td>\n",
       "    </tr>\n",
       "    <tr>\n",
       "      <th>Height</th>\n",
       "      <td>0.0</td>\n",
       "      <td>0.0</td>\n",
       "    </tr>\n",
       "  </tbody>\n",
       "</table>\n",
       "</div>"
      ],
      "text/plain": [
       "        Ian  Lucas\n",
       "Weight  1.0    3.0\n",
       "Height  0.0    0.0"
      ]
     },
     "execution_count": 165,
     "metadata": {},
     "output_type": "execute_result"
    }
   ],
   "source": [
    "fam.ix[['Weight','Height'],[0,2]]"
   ]
  },
  {
   "cell_type": "code",
   "execution_count": 168,
   "metadata": {},
   "outputs": [
    {
     "data": {
      "text/html": [
       "<div>\n",
       "<style>\n",
       "    .dataframe thead tr:only-child th {\n",
       "        text-align: right;\n",
       "    }\n",
       "\n",
       "    .dataframe thead th {\n",
       "        text-align: left;\n",
       "    }\n",
       "\n",
       "    .dataframe tbody tr th {\n",
       "        vertical-align: top;\n",
       "    }\n",
       "</style>\n",
       "<table border=\"1\" class=\"dataframe\">\n",
       "  <thead>\n",
       "    <tr style=\"text-align: right;\">\n",
       "      <th></th>\n",
       "      <th>1</th>\n",
       "      <th>Lucas</th>\n",
       "    </tr>\n",
       "  </thead>\n",
       "  <tbody>\n",
       "    <tr>\n",
       "      <th>1</th>\n",
       "      <td>NaN</td>\n",
       "      <td>NaN</td>\n",
       "    </tr>\n",
       "    <tr>\n",
       "      <th>Height</th>\n",
       "      <td>NaN</td>\n",
       "      <td>0.0</td>\n",
       "    </tr>\n",
       "  </tbody>\n",
       "</table>\n",
       "</div>"
      ],
      "text/plain": [
       "         1  Lucas\n",
       "1      NaN    NaN\n",
       "Height NaN    0.0"
      ]
     },
     "execution_count": 168,
     "metadata": {},
     "output_type": "execute_result"
    }
   ],
   "source": [
    "fam.ix[[1,'Height'],[1,'Lucas']]"
   ]
  },
  {
   "cell_type": "code",
   "execution_count": 172,
   "metadata": {},
   "outputs": [
    {
     "data": {
      "text/plain": [
       "DatetimeIndex(['2017-01-31', '2017-02-28', '2017-03-31', '2017-04-30',\n",
       "               '2017-05-31', '2017-06-30'],\n",
       "              dtype='datetime64[ns]', freq='M')"
      ]
     },
     "execution_count": 172,
     "metadata": {},
     "output_type": "execute_result"
    }
   ],
   "source": [
    "dates=pd.date_range('20170101',freq='M',periods=6)\n",
    "dates"
   ]
  },
  {
   "cell_type": "code",
   "execution_count": 175,
   "metadata": {},
   "outputs": [
    {
     "data": {
      "text/plain": [
       "DatetimeIndex(['2017-12-31', '2018-12-31'], dtype='datetime64[ns]', freq='A-DEC')"
      ]
     },
     "execution_count": 175,
     "metadata": {},
     "output_type": "execute_result"
    }
   ],
   "source": [
    "dates=pd.date_range('20170101',freq='A',periods=2)\n",
    "dates"
   ]
  },
  {
   "cell_type": "code",
   "execution_count": 177,
   "metadata": {},
   "outputs": [
    {
     "data": {
      "text/plain": [
       "DatetimeIndex(['2015-01-01', '2015-01-02', '2015-01-03', '2015-01-04',\n",
       "               '2015-01-05', '2015-01-06', '2015-01-07'],\n",
       "              dtype='datetime64[ns]', freq='D')"
      ]
     },
     "execution_count": 177,
     "metadata": {},
     "output_type": "execute_result"
    }
   ],
   "source": [
    "dates=pd.date_range(start='20150101',end='20150107')\n",
    "dates"
   ]
  },
  {
   "cell_type": "code",
   "execution_count": 180,
   "metadata": {},
   "outputs": [
    {
     "data": {
      "text/html": [
       "<div>\n",
       "<style>\n",
       "    .dataframe thead tr:only-child th {\n",
       "        text-align: right;\n",
       "    }\n",
       "\n",
       "    .dataframe thead th {\n",
       "        text-align: left;\n",
       "    }\n",
       "\n",
       "    .dataframe tbody tr th {\n",
       "        vertical-align: top;\n",
       "    }\n",
       "</style>\n",
       "<table border=\"1\" class=\"dataframe\">\n",
       "  <thead>\n",
       "    <tr style=\"text-align: right;\">\n",
       "      <th></th>\n",
       "      <th>A</th>\n",
       "      <th>B</th>\n",
       "      <th>C</th>\n",
       "      <th>D</th>\n",
       "      <th>E</th>\n",
       "      <th>F</th>\n",
       "      <th>G</th>\n",
       "    </tr>\n",
       "  </thead>\n",
       "  <tbody>\n",
       "    <tr>\n",
       "      <th>2015-01-01</th>\n",
       "      <td>0.416320</td>\n",
       "      <td>0.097253</td>\n",
       "      <td>0.751964</td>\n",
       "      <td>0.152854</td>\n",
       "      <td>0.671645</td>\n",
       "      <td>0.017727</td>\n",
       "      <td>0.253576</td>\n",
       "    </tr>\n",
       "    <tr>\n",
       "      <th>2015-01-02</th>\n",
       "      <td>0.184298</td>\n",
       "      <td>0.786021</td>\n",
       "      <td>0.608242</td>\n",
       "      <td>0.972175</td>\n",
       "      <td>0.300115</td>\n",
       "      <td>0.404478</td>\n",
       "      <td>0.559179</td>\n",
       "    </tr>\n",
       "    <tr>\n",
       "      <th>2015-01-03</th>\n",
       "      <td>0.624478</td>\n",
       "      <td>0.342559</td>\n",
       "      <td>0.866948</td>\n",
       "      <td>0.426475</td>\n",
       "      <td>0.300125</td>\n",
       "      <td>0.870027</td>\n",
       "      <td>0.654730</td>\n",
       "    </tr>\n",
       "    <tr>\n",
       "      <th>2015-01-04</th>\n",
       "      <td>0.294050</td>\n",
       "      <td>0.413746</td>\n",
       "      <td>0.465717</td>\n",
       "      <td>0.770863</td>\n",
       "      <td>0.350963</td>\n",
       "      <td>0.851872</td>\n",
       "      <td>0.634365</td>\n",
       "    </tr>\n",
       "    <tr>\n",
       "      <th>2015-01-05</th>\n",
       "      <td>0.423223</td>\n",
       "      <td>0.324313</td>\n",
       "      <td>0.494108</td>\n",
       "      <td>0.934407</td>\n",
       "      <td>0.879381</td>\n",
       "      <td>0.864867</td>\n",
       "      <td>0.020720</td>\n",
       "    </tr>\n",
       "    <tr>\n",
       "      <th>2015-01-06</th>\n",
       "      <td>0.872500</td>\n",
       "      <td>0.244615</td>\n",
       "      <td>0.176887</td>\n",
       "      <td>0.944612</td>\n",
       "      <td>0.556042</td>\n",
       "      <td>0.635026</td>\n",
       "      <td>0.089163</td>\n",
       "    </tr>\n",
       "    <tr>\n",
       "      <th>2015-01-07</th>\n",
       "      <td>0.561765</td>\n",
       "      <td>0.578319</td>\n",
       "      <td>0.776931</td>\n",
       "      <td>0.498959</td>\n",
       "      <td>0.294968</td>\n",
       "      <td>0.292885</td>\n",
       "      <td>0.202227</td>\n",
       "    </tr>\n",
       "  </tbody>\n",
       "</table>\n",
       "</div>"
      ],
      "text/plain": [
       "                   A         B         C         D         E         F  \\\n",
       "2015-01-01  0.416320  0.097253  0.751964  0.152854  0.671645  0.017727   \n",
       "2015-01-02  0.184298  0.786021  0.608242  0.972175  0.300115  0.404478   \n",
       "2015-01-03  0.624478  0.342559  0.866948  0.426475  0.300125  0.870027   \n",
       "2015-01-04  0.294050  0.413746  0.465717  0.770863  0.350963  0.851872   \n",
       "2015-01-05  0.423223  0.324313  0.494108  0.934407  0.879381  0.864867   \n",
       "2015-01-06  0.872500  0.244615  0.176887  0.944612  0.556042  0.635026   \n",
       "2015-01-07  0.561765  0.578319  0.776931  0.498959  0.294968  0.292885   \n",
       "\n",
       "                   G  \n",
       "2015-01-01  0.253576  \n",
       "2015-01-02  0.559179  \n",
       "2015-01-03  0.654730  \n",
       "2015-01-04  0.634365  \n",
       "2015-01-05  0.020720  \n",
       "2015-01-06  0.089163  \n",
       "2015-01-07  0.202227  "
      ]
     },
     "execution_count": 180,
     "metadata": {},
     "output_type": "execute_result"
    }
   ],
   "source": [
    "df=pd.DataFrame(np.random.rand(7,7),index=dates,columns=list('ABCDEFG'))\n",
    "df"
   ]
  },
  {
   "cell_type": "code",
   "execution_count": 182,
   "metadata": {},
   "outputs": [
    {
     "name": "stdout",
     "output_type": "stream",
     "text": [
      "Requirement already satisfied: pandas-datareader in c:\\users\\administrator\\anaconda3\\lib\\site-packages\n",
      "Requirement already satisfied: requests-ftp in c:\\users\\administrator\\anaconda3\\lib\\site-packages (from pandas-datareader)\n",
      "Requirement already satisfied: requests>=2.3.0 in c:\\users\\administrator\\anaconda3\\lib\\site-packages (from pandas-datareader)\n",
      "Requirement already satisfied: pandas>=0.19.2 in c:\\users\\administrator\\anaconda3\\lib\\site-packages (from pandas-datareader)\n",
      "Requirement already satisfied: lxml in c:\\users\\administrator\\anaconda3\\lib\\site-packages (from pandas-datareader)\n",
      "Requirement already satisfied: requests-file in c:\\users\\administrator\\anaconda3\\lib\\site-packages (from pandas-datareader)\n",
      "Requirement already satisfied: wrapt in c:\\users\\administrator\\anaconda3\\lib\\site-packages (from pandas-datareader)\n",
      "Requirement already satisfied: chardet<3.1.0,>=3.0.2 in c:\\users\\administrator\\anaconda3\\lib\\site-packages (from requests>=2.3.0->pandas-datareader)\n",
      "Requirement already satisfied: idna<2.7,>=2.5 in c:\\users\\administrator\\anaconda3\\lib\\site-packages (from requests>=2.3.0->pandas-datareader)\n",
      "Requirement already satisfied: urllib3<1.23,>=1.21.1 in c:\\users\\administrator\\anaconda3\\lib\\site-packages (from requests>=2.3.0->pandas-datareader)\n",
      "Requirement already satisfied: certifi>=2017.4.17 in c:\\users\\administrator\\anaconda3\\lib\\site-packages (from requests>=2.3.0->pandas-datareader)\n",
      "Requirement already satisfied: python-dateutil>=2 in c:\\users\\administrator\\anaconda3\\lib\\site-packages (from pandas>=0.19.2->pandas-datareader)\n",
      "Requirement already satisfied: pytz>=2011k in c:\\users\\administrator\\anaconda3\\lib\\site-packages (from pandas>=0.19.2->pandas-datareader)\n",
      "Requirement already satisfied: numpy>=1.7.0 in c:\\users\\administrator\\anaconda3\\lib\\site-packages (from pandas>=0.19.2->pandas-datareader)\n",
      "Requirement already satisfied: six in c:\\users\\administrator\\anaconda3\\lib\\site-packages (from requests-file->pandas-datareader)\n"
     ]
    }
   ],
   "source": [
    "! pip install pandas-datareader"
   ]
  },
  {
   "cell_type": "code",
   "execution_count": 183,
   "metadata": {
    "collapsed": true
   },
   "outputs": [],
   "source": [
    "from pandas_datareader import data"
   ]
  },
  {
   "cell_type": "code",
   "execution_count": 185,
   "metadata": {
    "collapsed": true
   },
   "outputs": [],
   "source": [
    "import datetime"
   ]
  },
  {
   "cell_type": "code",
   "execution_count": 187,
   "metadata": {},
   "outputs": [],
   "source": [
    "start=datetime.datetime(2017,1,1)\n",
    "end=datetime.datetime(2017,1,21)"
   ]
  },
  {
   "cell_type": "code",
   "execution_count": 189,
   "metadata": {},
   "outputs": [
    {
     "data": {
      "text/html": [
       "<div>\n",
       "<style>\n",
       "    .dataframe thead tr:only-child th {\n",
       "        text-align: right;\n",
       "    }\n",
       "\n",
       "    .dataframe thead th {\n",
       "        text-align: left;\n",
       "    }\n",
       "\n",
       "    .dataframe tbody tr th {\n",
       "        vertical-align: top;\n",
       "    }\n",
       "</style>\n",
       "<table border=\"1\" class=\"dataframe\">\n",
       "  <thead>\n",
       "    <tr style=\"text-align: right;\">\n",
       "      <th></th>\n",
       "      <th>Open</th>\n",
       "      <th>High</th>\n",
       "      <th>Low</th>\n",
       "      <th>Close</th>\n",
       "      <th>Volume</th>\n",
       "      <th>ExDividend</th>\n",
       "      <th>SplitRatio</th>\n",
       "      <th>AdjOpen</th>\n",
       "      <th>AdjHigh</th>\n",
       "      <th>AdjLow</th>\n",
       "      <th>AdjClose</th>\n",
       "      <th>AdjVolume</th>\n",
       "    </tr>\n",
       "    <tr>\n",
       "      <th>Date</th>\n",
       "      <th></th>\n",
       "      <th></th>\n",
       "      <th></th>\n",
       "      <th></th>\n",
       "      <th></th>\n",
       "      <th></th>\n",
       "      <th></th>\n",
       "      <th></th>\n",
       "      <th></th>\n",
       "      <th></th>\n",
       "      <th></th>\n",
       "      <th></th>\n",
       "    </tr>\n",
       "  </thead>\n",
       "  <tbody>\n",
       "    <tr>\n",
       "      <th>2017-01-20</th>\n",
       "      <td>120.450</td>\n",
       "      <td>120.4500</td>\n",
       "      <td>119.7346</td>\n",
       "      <td>120.00</td>\n",
       "      <td>32597892.0</td>\n",
       "      <td>0.0</td>\n",
       "      <td>1.0</td>\n",
       "      <td>118.962267</td>\n",
       "      <td>118.962267</td>\n",
       "      <td>118.255703</td>\n",
       "      <td>118.517825</td>\n",
       "      <td>32597892.0</td>\n",
       "    </tr>\n",
       "    <tr>\n",
       "      <th>2017-01-19</th>\n",
       "      <td>119.400</td>\n",
       "      <td>120.0900</td>\n",
       "      <td>119.3700</td>\n",
       "      <td>119.78</td>\n",
       "      <td>25597291.0</td>\n",
       "      <td>0.0</td>\n",
       "      <td>1.0</td>\n",
       "      <td>117.925236</td>\n",
       "      <td>118.606713</td>\n",
       "      <td>117.895606</td>\n",
       "      <td>118.300542</td>\n",
       "      <td>25597291.0</td>\n",
       "    </tr>\n",
       "    <tr>\n",
       "      <th>2017-01-18</th>\n",
       "      <td>120.000</td>\n",
       "      <td>120.5000</td>\n",
       "      <td>119.7100</td>\n",
       "      <td>119.99</td>\n",
       "      <td>23712961.0</td>\n",
       "      <td>0.0</td>\n",
       "      <td>1.0</td>\n",
       "      <td>118.517825</td>\n",
       "      <td>119.011649</td>\n",
       "      <td>118.231407</td>\n",
       "      <td>118.507948</td>\n",
       "      <td>23712961.0</td>\n",
       "    </tr>\n",
       "    <tr>\n",
       "      <th>2017-01-17</th>\n",
       "      <td>118.340</td>\n",
       "      <td>120.2400</td>\n",
       "      <td>118.2200</td>\n",
       "      <td>120.00</td>\n",
       "      <td>34439843.0</td>\n",
       "      <td>0.0</td>\n",
       "      <td>1.0</td>\n",
       "      <td>116.878328</td>\n",
       "      <td>118.754860</td>\n",
       "      <td>116.759810</td>\n",
       "      <td>118.517825</td>\n",
       "      <td>34439843.0</td>\n",
       "    </tr>\n",
       "    <tr>\n",
       "      <th>2017-01-13</th>\n",
       "      <td>119.110</td>\n",
       "      <td>119.6200</td>\n",
       "      <td>118.8100</td>\n",
       "      <td>119.04</td>\n",
       "      <td>26111948.0</td>\n",
       "      <td>0.0</td>\n",
       "      <td>1.0</td>\n",
       "      <td>117.638817</td>\n",
       "      <td>118.142518</td>\n",
       "      <td>117.342523</td>\n",
       "      <td>117.569682</td>\n",
       "      <td>26111948.0</td>\n",
       "    </tr>\n",
       "    <tr>\n",
       "      <th>2017-01-12</th>\n",
       "      <td>118.895</td>\n",
       "      <td>119.3000</td>\n",
       "      <td>118.2100</td>\n",
       "      <td>119.25</td>\n",
       "      <td>27086220.0</td>\n",
       "      <td>0.0</td>\n",
       "      <td>1.0</td>\n",
       "      <td>117.426473</td>\n",
       "      <td>117.826471</td>\n",
       "      <td>116.749934</td>\n",
       "      <td>117.777088</td>\n",
       "      <td>27086220.0</td>\n",
       "    </tr>\n",
       "    <tr>\n",
       "      <th>2017-01-11</th>\n",
       "      <td>118.740</td>\n",
       "      <td>119.9300</td>\n",
       "      <td>118.6000</td>\n",
       "      <td>119.75</td>\n",
       "      <td>27588593.0</td>\n",
       "      <td>0.0</td>\n",
       "      <td>1.0</td>\n",
       "      <td>117.273388</td>\n",
       "      <td>118.448689</td>\n",
       "      <td>117.135117</td>\n",
       "      <td>118.270913</td>\n",
       "      <td>27588593.0</td>\n",
       "    </tr>\n",
       "    <tr>\n",
       "      <th>2017-01-10</th>\n",
       "      <td>118.770</td>\n",
       "      <td>119.3800</td>\n",
       "      <td>118.3000</td>\n",
       "      <td>119.11</td>\n",
       "      <td>24462051.0</td>\n",
       "      <td>0.0</td>\n",
       "      <td>1.0</td>\n",
       "      <td>117.303017</td>\n",
       "      <td>117.905483</td>\n",
       "      <td>116.838822</td>\n",
       "      <td>117.638817</td>\n",
       "      <td>24462051.0</td>\n",
       "    </tr>\n",
       "    <tr>\n",
       "      <th>2017-01-09</th>\n",
       "      <td>117.950</td>\n",
       "      <td>119.4300</td>\n",
       "      <td>117.9400</td>\n",
       "      <td>118.99</td>\n",
       "      <td>33561948.0</td>\n",
       "      <td>0.0</td>\n",
       "      <td>1.0</td>\n",
       "      <td>116.493145</td>\n",
       "      <td>117.954865</td>\n",
       "      <td>116.483269</td>\n",
       "      <td>117.520300</td>\n",
       "      <td>33561948.0</td>\n",
       "    </tr>\n",
       "    <tr>\n",
       "      <th>2017-01-06</th>\n",
       "      <td>116.780</td>\n",
       "      <td>118.1600</td>\n",
       "      <td>116.4700</td>\n",
       "      <td>117.91</td>\n",
       "      <td>31751900.0</td>\n",
       "      <td>0.0</td>\n",
       "      <td>1.0</td>\n",
       "      <td>115.337596</td>\n",
       "      <td>116.700551</td>\n",
       "      <td>115.031425</td>\n",
       "      <td>116.453639</td>\n",
       "      <td>31751900.0</td>\n",
       "    </tr>\n",
       "    <tr>\n",
       "      <th>2017-01-05</th>\n",
       "      <td>115.920</td>\n",
       "      <td>116.8642</td>\n",
       "      <td>115.8100</td>\n",
       "      <td>116.61</td>\n",
       "      <td>22193587.0</td>\n",
       "      <td>0.0</td>\n",
       "      <td>1.0</td>\n",
       "      <td>114.488219</td>\n",
       "      <td>115.420756</td>\n",
       "      <td>114.379577</td>\n",
       "      <td>115.169696</td>\n",
       "      <td>22193587.0</td>\n",
       "    </tr>\n",
       "    <tr>\n",
       "      <th>2017-01-04</th>\n",
       "      <td>115.850</td>\n",
       "      <td>116.5100</td>\n",
       "      <td>115.7500</td>\n",
       "      <td>116.02</td>\n",
       "      <td>21118116.0</td>\n",
       "      <td>0.0</td>\n",
       "      <td>1.0</td>\n",
       "      <td>114.419083</td>\n",
       "      <td>115.070931</td>\n",
       "      <td>114.320318</td>\n",
       "      <td>114.586983</td>\n",
       "      <td>21118116.0</td>\n",
       "    </tr>\n",
       "    <tr>\n",
       "      <th>2017-01-03</th>\n",
       "      <td>115.800</td>\n",
       "      <td>116.3300</td>\n",
       "      <td>114.7600</td>\n",
       "      <td>116.15</td>\n",
       "      <td>28781865.0</td>\n",
       "      <td>0.0</td>\n",
       "      <td>1.0</td>\n",
       "      <td>114.369701</td>\n",
       "      <td>114.893155</td>\n",
       "      <td>113.342546</td>\n",
       "      <td>114.715378</td>\n",
       "      <td>28781865.0</td>\n",
       "    </tr>\n",
       "  </tbody>\n",
       "</table>\n",
       "</div>"
      ],
      "text/plain": [
       "               Open      High       Low   Close      Volume  ExDividend  \\\n",
       "Date                                                                      \n",
       "2017-01-20  120.450  120.4500  119.7346  120.00  32597892.0         0.0   \n",
       "2017-01-19  119.400  120.0900  119.3700  119.78  25597291.0         0.0   \n",
       "2017-01-18  120.000  120.5000  119.7100  119.99  23712961.0         0.0   \n",
       "2017-01-17  118.340  120.2400  118.2200  120.00  34439843.0         0.0   \n",
       "2017-01-13  119.110  119.6200  118.8100  119.04  26111948.0         0.0   \n",
       "2017-01-12  118.895  119.3000  118.2100  119.25  27086220.0         0.0   \n",
       "2017-01-11  118.740  119.9300  118.6000  119.75  27588593.0         0.0   \n",
       "2017-01-10  118.770  119.3800  118.3000  119.11  24462051.0         0.0   \n",
       "2017-01-09  117.950  119.4300  117.9400  118.99  33561948.0         0.0   \n",
       "2017-01-06  116.780  118.1600  116.4700  117.91  31751900.0         0.0   \n",
       "2017-01-05  115.920  116.8642  115.8100  116.61  22193587.0         0.0   \n",
       "2017-01-04  115.850  116.5100  115.7500  116.02  21118116.0         0.0   \n",
       "2017-01-03  115.800  116.3300  114.7600  116.15  28781865.0         0.0   \n",
       "\n",
       "            SplitRatio     AdjOpen     AdjHigh      AdjLow    AdjClose  \\\n",
       "Date                                                                     \n",
       "2017-01-20         1.0  118.962267  118.962267  118.255703  118.517825   \n",
       "2017-01-19         1.0  117.925236  118.606713  117.895606  118.300542   \n",
       "2017-01-18         1.0  118.517825  119.011649  118.231407  118.507948   \n",
       "2017-01-17         1.0  116.878328  118.754860  116.759810  118.517825   \n",
       "2017-01-13         1.0  117.638817  118.142518  117.342523  117.569682   \n",
       "2017-01-12         1.0  117.426473  117.826471  116.749934  117.777088   \n",
       "2017-01-11         1.0  117.273388  118.448689  117.135117  118.270913   \n",
       "2017-01-10         1.0  117.303017  117.905483  116.838822  117.638817   \n",
       "2017-01-09         1.0  116.493145  117.954865  116.483269  117.520300   \n",
       "2017-01-06         1.0  115.337596  116.700551  115.031425  116.453639   \n",
       "2017-01-05         1.0  114.488219  115.420756  114.379577  115.169696   \n",
       "2017-01-04         1.0  114.419083  115.070931  114.320318  114.586983   \n",
       "2017-01-03         1.0  114.369701  114.893155  113.342546  114.715378   \n",
       "\n",
       "             AdjVolume  \n",
       "Date                    \n",
       "2017-01-20  32597892.0  \n",
       "2017-01-19  25597291.0  \n",
       "2017-01-18  23712961.0  \n",
       "2017-01-17  34439843.0  \n",
       "2017-01-13  26111948.0  \n",
       "2017-01-12  27086220.0  \n",
       "2017-01-11  27588593.0  \n",
       "2017-01-10  24462051.0  \n",
       "2017-01-09  33561948.0  \n",
       "2017-01-06  31751900.0  \n",
       "2017-01-05  22193587.0  \n",
       "2017-01-04  21118116.0  \n",
       "2017-01-03  28781865.0  "
      ]
     },
     "execution_count": 189,
     "metadata": {},
     "output_type": "execute_result"
    }
   ],
   "source": [
    "df=data.DataReader('AAPL','quandl',start,end)\n",
    "df"
   ]
  },
  {
   "cell_type": "code",
   "execution_count": 191,
   "metadata": {},
   "outputs": [
    {
     "data": {
      "text/plain": [
       "pandas.core.frame.DataFrame"
      ]
     },
     "execution_count": 191,
     "metadata": {},
     "output_type": "execute_result"
    }
   ],
   "source": [
    "type(df)"
   ]
  },
  {
   "cell_type": "code",
   "execution_count": 193,
   "metadata": {},
   "outputs": [
    {
     "data": {
      "text/plain": [
       "(13, 12)"
      ]
     },
     "execution_count": 193,
     "metadata": {},
     "output_type": "execute_result"
    }
   ],
   "source": [
    "df.shape"
   ]
  },
  {
   "cell_type": "code",
   "execution_count": 195,
   "metadata": {},
   "outputs": [
    {
     "data": {
      "text/html": [
       "<div>\n",
       "<style>\n",
       "    .dataframe thead tr:only-child th {\n",
       "        text-align: right;\n",
       "    }\n",
       "\n",
       "    .dataframe thead th {\n",
       "        text-align: left;\n",
       "    }\n",
       "\n",
       "    .dataframe tbody tr th {\n",
       "        vertical-align: top;\n",
       "    }\n",
       "</style>\n",
       "<table border=\"1\" class=\"dataframe\">\n",
       "  <thead>\n",
       "    <tr style=\"text-align: right;\">\n",
       "      <th></th>\n",
       "      <th>Open</th>\n",
       "      <th>High</th>\n",
       "      <th>Low</th>\n",
       "      <th>Close</th>\n",
       "      <th>Volume</th>\n",
       "      <th>ExDividend</th>\n",
       "      <th>SplitRatio</th>\n",
       "      <th>AdjOpen</th>\n",
       "      <th>AdjHigh</th>\n",
       "      <th>AdjLow</th>\n",
       "      <th>AdjClose</th>\n",
       "      <th>AdjVolume</th>\n",
       "    </tr>\n",
       "    <tr>\n",
       "      <th>Date</th>\n",
       "      <th></th>\n",
       "      <th></th>\n",
       "      <th></th>\n",
       "      <th></th>\n",
       "      <th></th>\n",
       "      <th></th>\n",
       "      <th></th>\n",
       "      <th></th>\n",
       "      <th></th>\n",
       "      <th></th>\n",
       "      <th></th>\n",
       "      <th></th>\n",
       "    </tr>\n",
       "  </thead>\n",
       "  <tbody>\n",
       "    <tr>\n",
       "      <th>2017-01-20</th>\n",
       "      <td>120.45</td>\n",
       "      <td>120.45</td>\n",
       "      <td>119.7346</td>\n",
       "      <td>120.00</td>\n",
       "      <td>32597892.0</td>\n",
       "      <td>0.0</td>\n",
       "      <td>1.0</td>\n",
       "      <td>118.962267</td>\n",
       "      <td>118.962267</td>\n",
       "      <td>118.255703</td>\n",
       "      <td>118.517825</td>\n",
       "      <td>32597892.0</td>\n",
       "    </tr>\n",
       "    <tr>\n",
       "      <th>2017-01-19</th>\n",
       "      <td>119.40</td>\n",
       "      <td>120.09</td>\n",
       "      <td>119.3700</td>\n",
       "      <td>119.78</td>\n",
       "      <td>25597291.0</td>\n",
       "      <td>0.0</td>\n",
       "      <td>1.0</td>\n",
       "      <td>117.925236</td>\n",
       "      <td>118.606713</td>\n",
       "      <td>117.895606</td>\n",
       "      <td>118.300542</td>\n",
       "      <td>25597291.0</td>\n",
       "    </tr>\n",
       "    <tr>\n",
       "      <th>2017-01-18</th>\n",
       "      <td>120.00</td>\n",
       "      <td>120.50</td>\n",
       "      <td>119.7100</td>\n",
       "      <td>119.99</td>\n",
       "      <td>23712961.0</td>\n",
       "      <td>0.0</td>\n",
       "      <td>1.0</td>\n",
       "      <td>118.517825</td>\n",
       "      <td>119.011649</td>\n",
       "      <td>118.231407</td>\n",
       "      <td>118.507948</td>\n",
       "      <td>23712961.0</td>\n",
       "    </tr>\n",
       "  </tbody>\n",
       "</table>\n",
       "</div>"
      ],
      "text/plain": [
       "              Open    High       Low   Close      Volume  ExDividend  \\\n",
       "Date                                                                   \n",
       "2017-01-20  120.45  120.45  119.7346  120.00  32597892.0         0.0   \n",
       "2017-01-19  119.40  120.09  119.3700  119.78  25597291.0         0.0   \n",
       "2017-01-18  120.00  120.50  119.7100  119.99  23712961.0         0.0   \n",
       "\n",
       "            SplitRatio     AdjOpen     AdjHigh      AdjLow    AdjClose  \\\n",
       "Date                                                                     \n",
       "2017-01-20         1.0  118.962267  118.962267  118.255703  118.517825   \n",
       "2017-01-19         1.0  117.925236  118.606713  117.895606  118.300542   \n",
       "2017-01-18         1.0  118.517825  119.011649  118.231407  118.507948   \n",
       "\n",
       "             AdjVolume  \n",
       "Date                    \n",
       "2017-01-20  32597892.0  \n",
       "2017-01-19  25597291.0  \n",
       "2017-01-18  23712961.0  "
      ]
     },
     "execution_count": 195,
     "metadata": {},
     "output_type": "execute_result"
    }
   ],
   "source": [
    "df.head(3)"
   ]
  },
  {
   "cell_type": "code",
   "execution_count": 197,
   "metadata": {},
   "outputs": [
    {
     "data": {
      "text/html": [
       "<div>\n",
       "<style>\n",
       "    .dataframe thead tr:only-child th {\n",
       "        text-align: right;\n",
       "    }\n",
       "\n",
       "    .dataframe thead th {\n",
       "        text-align: left;\n",
       "    }\n",
       "\n",
       "    .dataframe tbody tr th {\n",
       "        vertical-align: top;\n",
       "    }\n",
       "</style>\n",
       "<table border=\"1\" class=\"dataframe\">\n",
       "  <thead>\n",
       "    <tr style=\"text-align: right;\">\n",
       "      <th></th>\n",
       "      <th>Open</th>\n",
       "      <th>High</th>\n",
       "      <th>Low</th>\n",
       "      <th>Close</th>\n",
       "      <th>Volume</th>\n",
       "      <th>ExDividend</th>\n",
       "      <th>SplitRatio</th>\n",
       "      <th>AdjOpen</th>\n",
       "      <th>AdjHigh</th>\n",
       "      <th>AdjLow</th>\n",
       "      <th>AdjClose</th>\n",
       "      <th>AdjVolume</th>\n",
       "    </tr>\n",
       "    <tr>\n",
       "      <th>Date</th>\n",
       "      <th></th>\n",
       "      <th></th>\n",
       "      <th></th>\n",
       "      <th></th>\n",
       "      <th></th>\n",
       "      <th></th>\n",
       "      <th></th>\n",
       "      <th></th>\n",
       "      <th></th>\n",
       "      <th></th>\n",
       "      <th></th>\n",
       "      <th></th>\n",
       "    </tr>\n",
       "  </thead>\n",
       "  <tbody>\n",
       "    <tr>\n",
       "      <th>2017-01-05</th>\n",
       "      <td>115.92</td>\n",
       "      <td>116.8642</td>\n",
       "      <td>115.81</td>\n",
       "      <td>116.61</td>\n",
       "      <td>22193587.0</td>\n",
       "      <td>0.0</td>\n",
       "      <td>1.0</td>\n",
       "      <td>114.488219</td>\n",
       "      <td>115.420756</td>\n",
       "      <td>114.379577</td>\n",
       "      <td>115.169696</td>\n",
       "      <td>22193587.0</td>\n",
       "    </tr>\n",
       "    <tr>\n",
       "      <th>2017-01-04</th>\n",
       "      <td>115.85</td>\n",
       "      <td>116.5100</td>\n",
       "      <td>115.75</td>\n",
       "      <td>116.02</td>\n",
       "      <td>21118116.0</td>\n",
       "      <td>0.0</td>\n",
       "      <td>1.0</td>\n",
       "      <td>114.419083</td>\n",
       "      <td>115.070931</td>\n",
       "      <td>114.320318</td>\n",
       "      <td>114.586983</td>\n",
       "      <td>21118116.0</td>\n",
       "    </tr>\n",
       "    <tr>\n",
       "      <th>2017-01-03</th>\n",
       "      <td>115.80</td>\n",
       "      <td>116.3300</td>\n",
       "      <td>114.76</td>\n",
       "      <td>116.15</td>\n",
       "      <td>28781865.0</td>\n",
       "      <td>0.0</td>\n",
       "      <td>1.0</td>\n",
       "      <td>114.369701</td>\n",
       "      <td>114.893155</td>\n",
       "      <td>113.342546</td>\n",
       "      <td>114.715378</td>\n",
       "      <td>28781865.0</td>\n",
       "    </tr>\n",
       "  </tbody>\n",
       "</table>\n",
       "</div>"
      ],
      "text/plain": [
       "              Open      High     Low   Close      Volume  ExDividend  \\\n",
       "Date                                                                   \n",
       "2017-01-05  115.92  116.8642  115.81  116.61  22193587.0         0.0   \n",
       "2017-01-04  115.85  116.5100  115.75  116.02  21118116.0         0.0   \n",
       "2017-01-03  115.80  116.3300  114.76  116.15  28781865.0         0.0   \n",
       "\n",
       "            SplitRatio     AdjOpen     AdjHigh      AdjLow    AdjClose  \\\n",
       "Date                                                                     \n",
       "2017-01-05         1.0  114.488219  115.420756  114.379577  115.169696   \n",
       "2017-01-04         1.0  114.419083  115.070931  114.320318  114.586983   \n",
       "2017-01-03         1.0  114.369701  114.893155  113.342546  114.715378   \n",
       "\n",
       "             AdjVolume  \n",
       "Date                    \n",
       "2017-01-05  22193587.0  \n",
       "2017-01-04  21118116.0  \n",
       "2017-01-03  28781865.0  "
      ]
     },
     "execution_count": 197,
     "metadata": {},
     "output_type": "execute_result"
    }
   ],
   "source": [
    "df.tail(3)"
   ]
  },
  {
   "cell_type": "code",
   "execution_count": 199,
   "metadata": {},
   "outputs": [
    {
     "data": {
      "text/html": [
       "<div>\n",
       "<style>\n",
       "    .dataframe thead tr:only-child th {\n",
       "        text-align: right;\n",
       "    }\n",
       "\n",
       "    .dataframe thead th {\n",
       "        text-align: left;\n",
       "    }\n",
       "\n",
       "    .dataframe tbody tr th {\n",
       "        vertical-align: top;\n",
       "    }\n",
       "</style>\n",
       "<table border=\"1\" class=\"dataframe\">\n",
       "  <thead>\n",
       "    <tr style=\"text-align: right;\">\n",
       "      <th></th>\n",
       "      <th>Open</th>\n",
       "      <th>High</th>\n",
       "      <th>Low</th>\n",
       "      <th>Close</th>\n",
       "      <th>Volume</th>\n",
       "      <th>ExDividend</th>\n",
       "      <th>SplitRatio</th>\n",
       "      <th>AdjOpen</th>\n",
       "      <th>AdjHigh</th>\n",
       "      <th>AdjLow</th>\n",
       "      <th>AdjClose</th>\n",
       "      <th>AdjVolume</th>\n",
       "    </tr>\n",
       "  </thead>\n",
       "  <tbody>\n",
       "    <tr>\n",
       "      <th>count</th>\n",
       "      <td>13.000000</td>\n",
       "      <td>13.000000</td>\n",
       "      <td>13.000000</td>\n",
       "      <td>13.000000</td>\n",
       "      <td>1.300000e+01</td>\n",
       "      <td>13.0</td>\n",
       "      <td>13.0</td>\n",
       "      <td>13.000000</td>\n",
       "      <td>13.000000</td>\n",
       "      <td>13.000000</td>\n",
       "      <td>13.000000</td>\n",
       "      <td>1.300000e+01</td>\n",
       "    </tr>\n",
       "    <tr>\n",
       "      <th>mean</th>\n",
       "      <td>118.154231</td>\n",
       "      <td>118.984938</td>\n",
       "      <td>117.821892</td>\n",
       "      <td>118.661538</td>\n",
       "      <td>2.761571e+07</td>\n",
       "      <td>0.0</td>\n",
       "      <td>1.0</td>\n",
       "      <td>116.694853</td>\n",
       "      <td>117.515301</td>\n",
       "      <td>116.366620</td>\n",
       "      <td>117.195895</td>\n",
       "      <td>2.761571e+07</td>\n",
       "    </tr>\n",
       "    <tr>\n",
       "      <th>std</th>\n",
       "      <td>1.586986</td>\n",
       "      <td>1.509417</td>\n",
       "      <td>1.614950</td>\n",
       "      <td>1.489999</td>\n",
       "      <td>4.364900e+06</td>\n",
       "      <td>0.0</td>\n",
       "      <td>0.0</td>\n",
       "      <td>1.567384</td>\n",
       "      <td>1.490774</td>\n",
       "      <td>1.595003</td>\n",
       "      <td>1.471595</td>\n",
       "      <td>4.364900e+06</td>\n",
       "    </tr>\n",
       "    <tr>\n",
       "      <th>min</th>\n",
       "      <td>115.800000</td>\n",
       "      <td>116.330000</td>\n",
       "      <td>114.760000</td>\n",
       "      <td>116.020000</td>\n",
       "      <td>2.111812e+07</td>\n",
       "      <td>0.0</td>\n",
       "      <td>1.0</td>\n",
       "      <td>114.369701</td>\n",
       "      <td>114.893155</td>\n",
       "      <td>113.342546</td>\n",
       "      <td>114.586983</td>\n",
       "      <td>2.111812e+07</td>\n",
       "    </tr>\n",
       "    <tr>\n",
       "      <th>25%</th>\n",
       "      <td>116.780000</td>\n",
       "      <td>118.160000</td>\n",
       "      <td>116.470000</td>\n",
       "      <td>117.910000</td>\n",
       "      <td>2.446205e+07</td>\n",
       "      <td>0.0</td>\n",
       "      <td>1.0</td>\n",
       "      <td>115.337596</td>\n",
       "      <td>116.700551</td>\n",
       "      <td>115.031425</td>\n",
       "      <td>116.453639</td>\n",
       "      <td>2.446205e+07</td>\n",
       "    </tr>\n",
       "    <tr>\n",
       "      <th>50%</th>\n",
       "      <td>118.740000</td>\n",
       "      <td>119.430000</td>\n",
       "      <td>118.220000</td>\n",
       "      <td>119.110000</td>\n",
       "      <td>2.708622e+07</td>\n",
       "      <td>0.0</td>\n",
       "      <td>1.0</td>\n",
       "      <td>117.273388</td>\n",
       "      <td>117.954865</td>\n",
       "      <td>116.759810</td>\n",
       "      <td>117.638817</td>\n",
       "      <td>2.708622e+07</td>\n",
       "    </tr>\n",
       "    <tr>\n",
       "      <th>75%</th>\n",
       "      <td>119.110000</td>\n",
       "      <td>120.090000</td>\n",
       "      <td>118.810000</td>\n",
       "      <td>119.780000</td>\n",
       "      <td>3.175190e+07</td>\n",
       "      <td>0.0</td>\n",
       "      <td>1.0</td>\n",
       "      <td>117.638817</td>\n",
       "      <td>118.606713</td>\n",
       "      <td>117.342523</td>\n",
       "      <td>118.300542</td>\n",
       "      <td>3.175190e+07</td>\n",
       "    </tr>\n",
       "    <tr>\n",
       "      <th>max</th>\n",
       "      <td>120.450000</td>\n",
       "      <td>120.500000</td>\n",
       "      <td>119.734600</td>\n",
       "      <td>120.000000</td>\n",
       "      <td>3.443984e+07</td>\n",
       "      <td>0.0</td>\n",
       "      <td>1.0</td>\n",
       "      <td>118.962267</td>\n",
       "      <td>119.011649</td>\n",
       "      <td>118.255703</td>\n",
       "      <td>118.517825</td>\n",
       "      <td>3.443984e+07</td>\n",
       "    </tr>\n",
       "  </tbody>\n",
       "</table>\n",
       "</div>"
      ],
      "text/plain": [
       "             Open        High         Low       Close        Volume  \\\n",
       "count   13.000000   13.000000   13.000000   13.000000  1.300000e+01   \n",
       "mean   118.154231  118.984938  117.821892  118.661538  2.761571e+07   \n",
       "std      1.586986    1.509417    1.614950    1.489999  4.364900e+06   \n",
       "min    115.800000  116.330000  114.760000  116.020000  2.111812e+07   \n",
       "25%    116.780000  118.160000  116.470000  117.910000  2.446205e+07   \n",
       "50%    118.740000  119.430000  118.220000  119.110000  2.708622e+07   \n",
       "75%    119.110000  120.090000  118.810000  119.780000  3.175190e+07   \n",
       "max    120.450000  120.500000  119.734600  120.000000  3.443984e+07   \n",
       "\n",
       "       ExDividend  SplitRatio     AdjOpen     AdjHigh      AdjLow    AdjClose  \\\n",
       "count        13.0        13.0   13.000000   13.000000   13.000000   13.000000   \n",
       "mean          0.0         1.0  116.694853  117.515301  116.366620  117.195895   \n",
       "std           0.0         0.0    1.567384    1.490774    1.595003    1.471595   \n",
       "min           0.0         1.0  114.369701  114.893155  113.342546  114.586983   \n",
       "25%           0.0         1.0  115.337596  116.700551  115.031425  116.453639   \n",
       "50%           0.0         1.0  117.273388  117.954865  116.759810  117.638817   \n",
       "75%           0.0         1.0  117.638817  118.606713  117.342523  118.300542   \n",
       "max           0.0         1.0  118.962267  119.011649  118.255703  118.517825   \n",
       "\n",
       "          AdjVolume  \n",
       "count  1.300000e+01  \n",
       "mean   2.761571e+07  \n",
       "std    4.364900e+06  \n",
       "min    2.111812e+07  \n",
       "25%    2.446205e+07  \n",
       "50%    2.708622e+07  \n",
       "75%    3.175190e+07  \n",
       "max    3.443984e+07  "
      ]
     },
     "execution_count": 199,
     "metadata": {},
     "output_type": "execute_result"
    }
   ],
   "source": [
    "df.describe()"
   ]
  },
  {
   "cell_type": "code",
   "execution_count": 204,
   "metadata": {},
   "outputs": [
    {
     "data": {
      "text/html": [
       "<div>\n",
       "<style>\n",
       "    .dataframe thead tr:only-child th {\n",
       "        text-align: right;\n",
       "    }\n",
       "\n",
       "    .dataframe thead th {\n",
       "        text-align: left;\n",
       "    }\n",
       "\n",
       "    .dataframe tbody tr th {\n",
       "        vertical-align: top;\n",
       "    }\n",
       "</style>\n",
       "<table border=\"1\" class=\"dataframe\">\n",
       "  <thead>\n",
       "    <tr style=\"text-align: right;\">\n",
       "      <th></th>\n",
       "      <th>AdjClose</th>\n",
       "      <th>AdjHigh</th>\n",
       "      <th>AdjLow</th>\n",
       "      <th>AdjOpen</th>\n",
       "      <th>AdjVolume</th>\n",
       "      <th>Close</th>\n",
       "      <th>ExDividend</th>\n",
       "      <th>High</th>\n",
       "      <th>Low</th>\n",
       "      <th>Open</th>\n",
       "      <th>SplitRatio</th>\n",
       "      <th>Volume</th>\n",
       "    </tr>\n",
       "    <tr>\n",
       "      <th>Date</th>\n",
       "      <th></th>\n",
       "      <th></th>\n",
       "      <th></th>\n",
       "      <th></th>\n",
       "      <th></th>\n",
       "      <th></th>\n",
       "      <th></th>\n",
       "      <th></th>\n",
       "      <th></th>\n",
       "      <th></th>\n",
       "      <th></th>\n",
       "      <th></th>\n",
       "    </tr>\n",
       "  </thead>\n",
       "  <tbody>\n",
       "    <tr>\n",
       "      <th>2017-01-20</th>\n",
       "      <td>118.517825</td>\n",
       "      <td>118.962267</td>\n",
       "      <td>118.255703</td>\n",
       "      <td>118.962267</td>\n",
       "      <td>32597892.0</td>\n",
       "      <td>120.00</td>\n",
       "      <td>0.0</td>\n",
       "      <td>120.45</td>\n",
       "      <td>119.7346</td>\n",
       "      <td>120.45</td>\n",
       "      <td>1.0</td>\n",
       "      <td>32597892.0</td>\n",
       "    </tr>\n",
       "    <tr>\n",
       "      <th>2017-01-19</th>\n",
       "      <td>118.300542</td>\n",
       "      <td>118.606713</td>\n",
       "      <td>117.895606</td>\n",
       "      <td>117.925236</td>\n",
       "      <td>25597291.0</td>\n",
       "      <td>119.78</td>\n",
       "      <td>0.0</td>\n",
       "      <td>120.09</td>\n",
       "      <td>119.3700</td>\n",
       "      <td>119.40</td>\n",
       "      <td>1.0</td>\n",
       "      <td>25597291.0</td>\n",
       "    </tr>\n",
       "    <tr>\n",
       "      <th>2017-01-18</th>\n",
       "      <td>118.507948</td>\n",
       "      <td>119.011649</td>\n",
       "      <td>118.231407</td>\n",
       "      <td>118.517825</td>\n",
       "      <td>23712961.0</td>\n",
       "      <td>119.99</td>\n",
       "      <td>0.0</td>\n",
       "      <td>120.50</td>\n",
       "      <td>119.7100</td>\n",
       "      <td>120.00</td>\n",
       "      <td>1.0</td>\n",
       "      <td>23712961.0</td>\n",
       "    </tr>\n",
       "  </tbody>\n",
       "</table>\n",
       "</div>"
      ],
      "text/plain": [
       "              AdjClose     AdjHigh      AdjLow     AdjOpen   AdjVolume  \\\n",
       "Date                                                                     \n",
       "2017-01-20  118.517825  118.962267  118.255703  118.962267  32597892.0   \n",
       "2017-01-19  118.300542  118.606713  117.895606  117.925236  25597291.0   \n",
       "2017-01-18  118.507948  119.011649  118.231407  118.517825  23712961.0   \n",
       "\n",
       "             Close  ExDividend    High       Low    Open  SplitRatio  \\\n",
       "Date                                                                   \n",
       "2017-01-20  120.00         0.0  120.45  119.7346  120.45         1.0   \n",
       "2017-01-19  119.78         0.0  120.09  119.3700  119.40         1.0   \n",
       "2017-01-18  119.99         0.0  120.50  119.7100  120.00         1.0   \n",
       "\n",
       "                Volume  \n",
       "Date                    \n",
       "2017-01-20  32597892.0  \n",
       "2017-01-19  25597291.0  \n",
       "2017-01-18  23712961.0  "
      ]
     },
     "execution_count": 204,
     "metadata": {},
     "output_type": "execute_result"
    }
   ],
   "source": [
    "df.sort_index(axis=1,ascending=True).head(3)"
   ]
  },
  {
   "cell_type": "code",
   "execution_count": 207,
   "metadata": {},
   "outputs": [
    {
     "data": {
      "text/html": [
       "<div>\n",
       "<style>\n",
       "    .dataframe thead tr:only-child th {\n",
       "        text-align: right;\n",
       "    }\n",
       "\n",
       "    .dataframe thead th {\n",
       "        text-align: left;\n",
       "    }\n",
       "\n",
       "    .dataframe tbody tr th {\n",
       "        vertical-align: top;\n",
       "    }\n",
       "</style>\n",
       "<table border=\"1\" class=\"dataframe\">\n",
       "  <thead>\n",
       "    <tr style=\"text-align: right;\">\n",
       "      <th></th>\n",
       "      <th>Open</th>\n",
       "      <th>High</th>\n",
       "      <th>Low</th>\n",
       "      <th>Close</th>\n",
       "      <th>Volume</th>\n",
       "      <th>ExDividend</th>\n",
       "      <th>SplitRatio</th>\n",
       "      <th>AdjOpen</th>\n",
       "      <th>AdjHigh</th>\n",
       "      <th>AdjLow</th>\n",
       "      <th>AdjClose</th>\n",
       "      <th>AdjVolume</th>\n",
       "    </tr>\n",
       "    <tr>\n",
       "      <th>Date</th>\n",
       "      <th></th>\n",
       "      <th></th>\n",
       "      <th></th>\n",
       "      <th></th>\n",
       "      <th></th>\n",
       "      <th></th>\n",
       "      <th></th>\n",
       "      <th></th>\n",
       "      <th></th>\n",
       "      <th></th>\n",
       "      <th></th>\n",
       "      <th></th>\n",
       "    </tr>\n",
       "  </thead>\n",
       "  <tbody>\n",
       "    <tr>\n",
       "      <th>2017-01-04</th>\n",
       "      <td>115.85</td>\n",
       "      <td>116.5100</td>\n",
       "      <td>115.75</td>\n",
       "      <td>116.02</td>\n",
       "      <td>21118116.0</td>\n",
       "      <td>0.0</td>\n",
       "      <td>1.0</td>\n",
       "      <td>114.419083</td>\n",
       "      <td>115.070931</td>\n",
       "      <td>114.320318</td>\n",
       "      <td>114.586983</td>\n",
       "      <td>21118116.0</td>\n",
       "    </tr>\n",
       "    <tr>\n",
       "      <th>2017-01-03</th>\n",
       "      <td>115.80</td>\n",
       "      <td>116.3300</td>\n",
       "      <td>114.76</td>\n",
       "      <td>116.15</td>\n",
       "      <td>28781865.0</td>\n",
       "      <td>0.0</td>\n",
       "      <td>1.0</td>\n",
       "      <td>114.369701</td>\n",
       "      <td>114.893155</td>\n",
       "      <td>113.342546</td>\n",
       "      <td>114.715378</td>\n",
       "      <td>28781865.0</td>\n",
       "    </tr>\n",
       "    <tr>\n",
       "      <th>2017-01-05</th>\n",
       "      <td>115.92</td>\n",
       "      <td>116.8642</td>\n",
       "      <td>115.81</td>\n",
       "      <td>116.61</td>\n",
       "      <td>22193587.0</td>\n",
       "      <td>0.0</td>\n",
       "      <td>1.0</td>\n",
       "      <td>114.488219</td>\n",
       "      <td>115.420756</td>\n",
       "      <td>114.379577</td>\n",
       "      <td>115.169696</td>\n",
       "      <td>22193587.0</td>\n",
       "    </tr>\n",
       "    <tr>\n",
       "      <th>2017-01-06</th>\n",
       "      <td>116.78</td>\n",
       "      <td>118.1600</td>\n",
       "      <td>116.47</td>\n",
       "      <td>117.91</td>\n",
       "      <td>31751900.0</td>\n",
       "      <td>0.0</td>\n",
       "      <td>1.0</td>\n",
       "      <td>115.337596</td>\n",
       "      <td>116.700551</td>\n",
       "      <td>115.031425</td>\n",
       "      <td>116.453639</td>\n",
       "      <td>31751900.0</td>\n",
       "    </tr>\n",
       "  </tbody>\n",
       "</table>\n",
       "</div>"
      ],
      "text/plain": [
       "              Open      High     Low   Close      Volume  ExDividend  \\\n",
       "Date                                                                   \n",
       "2017-01-04  115.85  116.5100  115.75  116.02  21118116.0         0.0   \n",
       "2017-01-03  115.80  116.3300  114.76  116.15  28781865.0         0.0   \n",
       "2017-01-05  115.92  116.8642  115.81  116.61  22193587.0         0.0   \n",
       "2017-01-06  116.78  118.1600  116.47  117.91  31751900.0         0.0   \n",
       "\n",
       "            SplitRatio     AdjOpen     AdjHigh      AdjLow    AdjClose  \\\n",
       "Date                                                                     \n",
       "2017-01-04         1.0  114.419083  115.070931  114.320318  114.586983   \n",
       "2017-01-03         1.0  114.369701  114.893155  113.342546  114.715378   \n",
       "2017-01-05         1.0  114.488219  115.420756  114.379577  115.169696   \n",
       "2017-01-06         1.0  115.337596  116.700551  115.031425  116.453639   \n",
       "\n",
       "             AdjVolume  \n",
       "Date                    \n",
       "2017-01-04  21118116.0  \n",
       "2017-01-03  28781865.0  \n",
       "2017-01-05  22193587.0  \n",
       "2017-01-06  31751900.0  "
      ]
     },
     "execution_count": 207,
     "metadata": {},
     "output_type": "execute_result"
    }
   ],
   "source": [
    "df.sort_values(by='AdjClose',axis=0,ascending=True).head(4)"
   ]
  },
  {
   "cell_type": "code",
   "execution_count": 208,
   "metadata": {},
   "outputs": [
    {
     "data": {
      "text/html": [
       "<div>\n",
       "<style>\n",
       "    .dataframe thead tr:only-child th {\n",
       "        text-align: right;\n",
       "    }\n",
       "\n",
       "    .dataframe thead th {\n",
       "        text-align: left;\n",
       "    }\n",
       "\n",
       "    .dataframe tbody tr th {\n",
       "        vertical-align: top;\n",
       "    }\n",
       "</style>\n",
       "<table border=\"1\" class=\"dataframe\">\n",
       "  <thead>\n",
       "    <tr style=\"text-align: right;\">\n",
       "      <th></th>\n",
       "      <th>Open</th>\n",
       "      <th>High</th>\n",
       "      <th>Low</th>\n",
       "      <th>Close</th>\n",
       "      <th>Volume</th>\n",
       "      <th>ExDividend</th>\n",
       "      <th>SplitRatio</th>\n",
       "      <th>AdjOpen</th>\n",
       "      <th>AdjHigh</th>\n",
       "      <th>AdjLow</th>\n",
       "      <th>AdjClose</th>\n",
       "      <th>AdjVolume</th>\n",
       "    </tr>\n",
       "    <tr>\n",
       "      <th>Date</th>\n",
       "      <th></th>\n",
       "      <th></th>\n",
       "      <th></th>\n",
       "      <th></th>\n",
       "      <th></th>\n",
       "      <th></th>\n",
       "      <th></th>\n",
       "      <th></th>\n",
       "      <th></th>\n",
       "      <th></th>\n",
       "      <th></th>\n",
       "      <th></th>\n",
       "    </tr>\n",
       "  </thead>\n",
       "  <tbody>\n",
       "    <tr>\n",
       "      <th>2017-01-17</th>\n",
       "      <td>118.34</td>\n",
       "      <td>120.24</td>\n",
       "      <td>118.2200</td>\n",
       "      <td>120.00</td>\n",
       "      <td>34439843.0</td>\n",
       "      <td>0.0</td>\n",
       "      <td>1.0</td>\n",
       "      <td>116.878328</td>\n",
       "      <td>118.754860</td>\n",
       "      <td>116.759810</td>\n",
       "      <td>118.517825</td>\n",
       "      <td>34439843.0</td>\n",
       "    </tr>\n",
       "    <tr>\n",
       "      <th>2017-01-09</th>\n",
       "      <td>117.95</td>\n",
       "      <td>119.43</td>\n",
       "      <td>117.9400</td>\n",
       "      <td>118.99</td>\n",
       "      <td>33561948.0</td>\n",
       "      <td>0.0</td>\n",
       "      <td>1.0</td>\n",
       "      <td>116.493145</td>\n",
       "      <td>117.954865</td>\n",
       "      <td>116.483269</td>\n",
       "      <td>117.520300</td>\n",
       "      <td>33561948.0</td>\n",
       "    </tr>\n",
       "    <tr>\n",
       "      <th>2017-01-20</th>\n",
       "      <td>120.45</td>\n",
       "      <td>120.45</td>\n",
       "      <td>119.7346</td>\n",
       "      <td>120.00</td>\n",
       "      <td>32597892.0</td>\n",
       "      <td>0.0</td>\n",
       "      <td>1.0</td>\n",
       "      <td>118.962267</td>\n",
       "      <td>118.962267</td>\n",
       "      <td>118.255703</td>\n",
       "      <td>118.517825</td>\n",
       "      <td>32597892.0</td>\n",
       "    </tr>\n",
       "    <tr>\n",
       "      <th>2017-01-06</th>\n",
       "      <td>116.78</td>\n",
       "      <td>118.16</td>\n",
       "      <td>116.4700</td>\n",
       "      <td>117.91</td>\n",
       "      <td>31751900.0</td>\n",
       "      <td>0.0</td>\n",
       "      <td>1.0</td>\n",
       "      <td>115.337596</td>\n",
       "      <td>116.700551</td>\n",
       "      <td>115.031425</td>\n",
       "      <td>116.453639</td>\n",
       "      <td>31751900.0</td>\n",
       "    </tr>\n",
       "    <tr>\n",
       "      <th>2017-01-03</th>\n",
       "      <td>115.80</td>\n",
       "      <td>116.33</td>\n",
       "      <td>114.7600</td>\n",
       "      <td>116.15</td>\n",
       "      <td>28781865.0</td>\n",
       "      <td>0.0</td>\n",
       "      <td>1.0</td>\n",
       "      <td>114.369701</td>\n",
       "      <td>114.893155</td>\n",
       "      <td>113.342546</td>\n",
       "      <td>114.715378</td>\n",
       "      <td>28781865.0</td>\n",
       "    </tr>\n",
       "  </tbody>\n",
       "</table>\n",
       "</div>"
      ],
      "text/plain": [
       "              Open    High       Low   Close      Volume  ExDividend  \\\n",
       "Date                                                                   \n",
       "2017-01-17  118.34  120.24  118.2200  120.00  34439843.0         0.0   \n",
       "2017-01-09  117.95  119.43  117.9400  118.99  33561948.0         0.0   \n",
       "2017-01-20  120.45  120.45  119.7346  120.00  32597892.0         0.0   \n",
       "2017-01-06  116.78  118.16  116.4700  117.91  31751900.0         0.0   \n",
       "2017-01-03  115.80  116.33  114.7600  116.15  28781865.0         0.0   \n",
       "\n",
       "            SplitRatio     AdjOpen     AdjHigh      AdjLow    AdjClose  \\\n",
       "Date                                                                     \n",
       "2017-01-17         1.0  116.878328  118.754860  116.759810  118.517825   \n",
       "2017-01-09         1.0  116.493145  117.954865  116.483269  117.520300   \n",
       "2017-01-20         1.0  118.962267  118.962267  118.255703  118.517825   \n",
       "2017-01-06         1.0  115.337596  116.700551  115.031425  116.453639   \n",
       "2017-01-03         1.0  114.369701  114.893155  113.342546  114.715378   \n",
       "\n",
       "             AdjVolume  \n",
       "Date                    \n",
       "2017-01-17  34439843.0  \n",
       "2017-01-09  33561948.0  \n",
       "2017-01-20  32597892.0  \n",
       "2017-01-06  31751900.0  \n",
       "2017-01-03  28781865.0  "
      ]
     },
     "execution_count": 208,
     "metadata": {},
     "output_type": "execute_result"
    }
   ],
   "source": [
    "df.sort_values(by=['Volume','AdjClose'],ascending=[False,True]).head()"
   ]
  },
  {
   "cell_type": "code",
   "execution_count": 220,
   "metadata": {},
   "outputs": [
    {
     "data": {
      "text/html": [
       "<div>\n",
       "<style>\n",
       "    .dataframe thead tr:only-child th {\n",
       "        text-align: right;\n",
       "    }\n",
       "\n",
       "    .dataframe thead th {\n",
       "        text-align: left;\n",
       "    }\n",
       "\n",
       "    .dataframe tbody tr th {\n",
       "        vertical-align: top;\n",
       "    }\n",
       "</style>\n",
       "<table border=\"1\" class=\"dataframe\">\n",
       "  <thead>\n",
       "    <tr style=\"text-align: right;\">\n",
       "      <th></th>\n",
       "      <th>Open</th>\n",
       "      <th>High</th>\n",
       "      <th>Low</th>\n",
       "      <th>Close</th>\n",
       "      <th>Volume</th>\n",
       "      <th>ExDividend</th>\n",
       "      <th>SplitRatio</th>\n",
       "      <th>AdjOpen</th>\n",
       "      <th>AdjHigh</th>\n",
       "      <th>AdjLow</th>\n",
       "      <th>AdjClose</th>\n",
       "      <th>AdjVolume</th>\n",
       "    </tr>\n",
       "    <tr>\n",
       "      <th>Date</th>\n",
       "      <th></th>\n",
       "      <th></th>\n",
       "      <th></th>\n",
       "      <th></th>\n",
       "      <th></th>\n",
       "      <th></th>\n",
       "      <th></th>\n",
       "      <th></th>\n",
       "      <th></th>\n",
       "      <th></th>\n",
       "      <th></th>\n",
       "      <th></th>\n",
       "    </tr>\n",
       "  </thead>\n",
       "  <tbody>\n",
       "  </tbody>\n",
       "</table>\n",
       "</div>"
      ],
      "text/plain": [
       "Empty DataFrame\n",
       "Columns: [Open, High, Low, Close, Volume, ExDividend, SplitRatio, AdjOpen, AdjHigh, AdjLow, AdjClose, AdjVolume]\n",
       "Index: []"
      ]
     },
     "execution_count": 220,
     "metadata": {},
     "output_type": "execute_result"
    }
   ],
   "source": [
    "df.iloc[1:4][1:4][1:1]"
   ]
  },
  {
   "cell_type": "code",
   "execution_count": 223,
   "metadata": {},
   "outputs": [
    {
     "data": {
      "text/html": [
       "<div>\n",
       "<style>\n",
       "    .dataframe thead tr:only-child th {\n",
       "        text-align: right;\n",
       "    }\n",
       "\n",
       "    .dataframe thead th {\n",
       "        text-align: left;\n",
       "    }\n",
       "\n",
       "    .dataframe tbody tr th {\n",
       "        vertical-align: top;\n",
       "    }\n",
       "</style>\n",
       "<table border=\"1\" class=\"dataframe\">\n",
       "  <thead>\n",
       "    <tr style=\"text-align: right;\">\n",
       "      <th></th>\n",
       "      <th>Open</th>\n",
       "      <th>High</th>\n",
       "      <th>Low</th>\n",
       "      <th>Close</th>\n",
       "      <th>Volume</th>\n",
       "      <th>ExDividend</th>\n",
       "      <th>SplitRatio</th>\n",
       "      <th>AdjOpen</th>\n",
       "      <th>AdjHigh</th>\n",
       "      <th>AdjLow</th>\n",
       "      <th>AdjClose</th>\n",
       "      <th>AdjVolume</th>\n",
       "    </tr>\n",
       "    <tr>\n",
       "      <th>Date</th>\n",
       "      <th></th>\n",
       "      <th></th>\n",
       "      <th></th>\n",
       "      <th></th>\n",
       "      <th></th>\n",
       "      <th></th>\n",
       "      <th></th>\n",
       "      <th></th>\n",
       "      <th></th>\n",
       "      <th></th>\n",
       "      <th></th>\n",
       "      <th></th>\n",
       "    </tr>\n",
       "  </thead>\n",
       "  <tbody>\n",
       "    <tr>\n",
       "      <th>2017-01-20</th>\n",
       "      <td>120.450</td>\n",
       "      <td>120.45</td>\n",
       "      <td>119.7346</td>\n",
       "      <td>120.00</td>\n",
       "      <td>32597892.0</td>\n",
       "      <td>0.0</td>\n",
       "      <td>1.0</td>\n",
       "      <td>118.962267</td>\n",
       "      <td>118.962267</td>\n",
       "      <td>118.255703</td>\n",
       "      <td>118.517825</td>\n",
       "      <td>32597892.0</td>\n",
       "    </tr>\n",
       "    <tr>\n",
       "      <th>2017-01-19</th>\n",
       "      <td>119.400</td>\n",
       "      <td>120.09</td>\n",
       "      <td>119.3700</td>\n",
       "      <td>119.78</td>\n",
       "      <td>25597291.0</td>\n",
       "      <td>0.0</td>\n",
       "      <td>1.0</td>\n",
       "      <td>117.925236</td>\n",
       "      <td>118.606713</td>\n",
       "      <td>117.895606</td>\n",
       "      <td>118.300542</td>\n",
       "      <td>25597291.0</td>\n",
       "    </tr>\n",
       "    <tr>\n",
       "      <th>2017-01-18</th>\n",
       "      <td>120.000</td>\n",
       "      <td>120.50</td>\n",
       "      <td>119.7100</td>\n",
       "      <td>119.99</td>\n",
       "      <td>23712961.0</td>\n",
       "      <td>0.0</td>\n",
       "      <td>1.0</td>\n",
       "      <td>118.517825</td>\n",
       "      <td>119.011649</td>\n",
       "      <td>118.231407</td>\n",
       "      <td>118.507948</td>\n",
       "      <td>23712961.0</td>\n",
       "    </tr>\n",
       "    <tr>\n",
       "      <th>2017-01-17</th>\n",
       "      <td>118.340</td>\n",
       "      <td>120.24</td>\n",
       "      <td>118.2200</td>\n",
       "      <td>120.00</td>\n",
       "      <td>34439843.0</td>\n",
       "      <td>0.0</td>\n",
       "      <td>1.0</td>\n",
       "      <td>116.878328</td>\n",
       "      <td>118.754860</td>\n",
       "      <td>116.759810</td>\n",
       "      <td>118.517825</td>\n",
       "      <td>34439843.0</td>\n",
       "    </tr>\n",
       "    <tr>\n",
       "      <th>2017-01-13</th>\n",
       "      <td>119.110</td>\n",
       "      <td>119.62</td>\n",
       "      <td>118.8100</td>\n",
       "      <td>119.04</td>\n",
       "      <td>26111948.0</td>\n",
       "      <td>0.0</td>\n",
       "      <td>1.0</td>\n",
       "      <td>117.638817</td>\n",
       "      <td>118.142518</td>\n",
       "      <td>117.342523</td>\n",
       "      <td>117.569682</td>\n",
       "      <td>26111948.0</td>\n",
       "    </tr>\n",
       "    <tr>\n",
       "      <th>2017-01-12</th>\n",
       "      <td>118.895</td>\n",
       "      <td>119.30</td>\n",
       "      <td>118.2100</td>\n",
       "      <td>119.25</td>\n",
       "      <td>27086220.0</td>\n",
       "      <td>0.0</td>\n",
       "      <td>1.0</td>\n",
       "      <td>117.426473</td>\n",
       "      <td>117.826471</td>\n",
       "      <td>116.749934</td>\n",
       "      <td>117.777088</td>\n",
       "      <td>27086220.0</td>\n",
       "    </tr>\n",
       "    <tr>\n",
       "      <th>2017-01-11</th>\n",
       "      <td>118.740</td>\n",
       "      <td>119.93</td>\n",
       "      <td>118.6000</td>\n",
       "      <td>119.75</td>\n",
       "      <td>27588593.0</td>\n",
       "      <td>0.0</td>\n",
       "      <td>1.0</td>\n",
       "      <td>117.273388</td>\n",
       "      <td>118.448689</td>\n",
       "      <td>117.135117</td>\n",
       "      <td>118.270913</td>\n",
       "      <td>27588593.0</td>\n",
       "    </tr>\n",
       "    <tr>\n",
       "      <th>2017-01-10</th>\n",
       "      <td>118.770</td>\n",
       "      <td>119.38</td>\n",
       "      <td>118.3000</td>\n",
       "      <td>119.11</td>\n",
       "      <td>24462051.0</td>\n",
       "      <td>0.0</td>\n",
       "      <td>1.0</td>\n",
       "      <td>117.303017</td>\n",
       "      <td>117.905483</td>\n",
       "      <td>116.838822</td>\n",
       "      <td>117.638817</td>\n",
       "      <td>24462051.0</td>\n",
       "    </tr>\n",
       "  </tbody>\n",
       "</table>\n",
       "</div>"
      ],
      "text/plain": [
       "               Open    High       Low   Close      Volume  ExDividend  \\\n",
       "Date                                                                    \n",
       "2017-01-20  120.450  120.45  119.7346  120.00  32597892.0         0.0   \n",
       "2017-01-19  119.400  120.09  119.3700  119.78  25597291.0         0.0   \n",
       "2017-01-18  120.000  120.50  119.7100  119.99  23712961.0         0.0   \n",
       "2017-01-17  118.340  120.24  118.2200  120.00  34439843.0         0.0   \n",
       "2017-01-13  119.110  119.62  118.8100  119.04  26111948.0         0.0   \n",
       "2017-01-12  118.895  119.30  118.2100  119.25  27086220.0         0.0   \n",
       "2017-01-11  118.740  119.93  118.6000  119.75  27588593.0         0.0   \n",
       "2017-01-10  118.770  119.38  118.3000  119.11  24462051.0         0.0   \n",
       "\n",
       "            SplitRatio     AdjOpen     AdjHigh      AdjLow    AdjClose  \\\n",
       "Date                                                                     \n",
       "2017-01-20         1.0  118.962267  118.962267  118.255703  118.517825   \n",
       "2017-01-19         1.0  117.925236  118.606713  117.895606  118.300542   \n",
       "2017-01-18         1.0  118.517825  119.011649  118.231407  118.507948   \n",
       "2017-01-17         1.0  116.878328  118.754860  116.759810  118.517825   \n",
       "2017-01-13         1.0  117.638817  118.142518  117.342523  117.569682   \n",
       "2017-01-12         1.0  117.426473  117.826471  116.749934  117.777088   \n",
       "2017-01-11         1.0  117.273388  118.448689  117.135117  118.270913   \n",
       "2017-01-10         1.0  117.303017  117.905483  116.838822  117.638817   \n",
       "\n",
       "             AdjVolume  \n",
       "Date                    \n",
       "2017-01-20  32597892.0  \n",
       "2017-01-19  25597291.0  \n",
       "2017-01-18  23712961.0  \n",
       "2017-01-17  34439843.0  \n",
       "2017-01-13  26111948.0  \n",
       "2017-01-12  27086220.0  \n",
       "2017-01-11  27588593.0  \n",
       "2017-01-10  24462051.0  "
      ]
     },
     "execution_count": 223,
     "metadata": {},
     "output_type": "execute_result"
    }
   ],
   "source": [
    "df[df.Open>df.Open.mean()]"
   ]
  }
 ],
 "metadata": {
  "kernelspec": {
   "display_name": "Python 3",
   "language": "python",
   "name": "python3"
  },
  "language_info": {
   "codemirror_mode": {
    "name": "ipython",
    "version": 3
   },
   "file_extension": ".py",
   "mimetype": "text/x-python",
   "name": "python",
   "nbconvert_exporter": "python",
   "pygments_lexer": "ipython3",
   "version": "3.6.3"
  }
 },
 "nbformat": 4,
 "nbformat_minor": 2
}
