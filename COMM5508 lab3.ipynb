{
 "cells": [
  {
   "cell_type": "code",
   "execution_count": 1,
   "metadata": {
    "collapsed": true
   },
   "outputs": [],
   "source": [
    "import numpy as np"
   ]
  },
  {
   "cell_type": "code",
   "execution_count": 2,
   "metadata": {},
   "outputs": [
    {
     "data": {
      "text/plain": [
       "array([[ 0,  1,  2,  3],\n",
       "       [ 4,  5,  6,  7],\n",
       "       [ 8,  9, 10, 11],\n",
       "       [12, 13, 14, 15]])"
      ]
     },
     "execution_count": 2,
     "metadata": {},
     "output_type": "execute_result"
    }
   ],
   "source": [
    "a=np.arange(16).reshape(4,4)\n",
    "a"
   ]
  },
  {
   "cell_type": "code",
   "execution_count": 3,
   "metadata": {},
   "outputs": [
    {
     "data": {
      "text/plain": [
       "array([[ 0,  0,  0,  0],\n",
       "       [ 4,  5,  0,  0],\n",
       "       [ 8,  9, 10,  0],\n",
       "       [12, 13, 14, 15]])"
      ]
     },
     "execution_count": 3,
     "metadata": {},
     "output_type": "execute_result"
    }
   ],
   "source": [
    "np.tril(a)"
   ]
  },
  {
   "cell_type": "code",
   "execution_count": 4,
   "metadata": {},
   "outputs": [
    {
     "data": {
      "text/plain": [
       "array([[ 0,  0,  0,  0],\n",
       "       [ 4,  0,  0,  0],\n",
       "       [ 8,  9,  0,  0],\n",
       "       [12, 13, 14,  0]])"
      ]
     },
     "execution_count": 4,
     "metadata": {},
     "output_type": "execute_result"
    }
   ],
   "source": [
    "# what if you only want the lower triangle\n",
    "np.tril(a,-1)"
   ]
  },
  {
   "cell_type": "code",
   "execution_count": 5,
   "metadata": {},
   "outputs": [
    {
     "data": {
      "text/plain": [
       "array([[ 0,  1,  2,  3],\n",
       "       [ 0,  5,  6,  7],\n",
       "       [ 0,  0, 10, 11],\n",
       "       [ 0,  0,  0, 15]])"
      ]
     },
     "execution_count": 5,
     "metadata": {},
     "output_type": "execute_result"
    }
   ],
   "source": [
    "np.triu(a)"
   ]
  },
  {
   "cell_type": "code",
   "execution_count": 6,
   "metadata": {},
   "outputs": [
    {
     "data": {
      "text/plain": [
       "array([ 0,  5, 10, 15])"
      ]
     },
     "execution_count": 6,
     "metadata": {},
     "output_type": "execute_result"
    }
   ],
   "source": [
    "np.diag(a)"
   ]
  },
  {
   "cell_type": "code",
   "execution_count": 7,
   "metadata": {},
   "outputs": [
    {
     "data": {
      "text/plain": [
       "array([[ 0,  0,  0,  0],\n",
       "       [ 0,  5,  0,  0],\n",
       "       [ 0,  0, 10,  0],\n",
       "       [ 0,  0,  0, 15]])"
      ]
     },
     "execution_count": 7,
     "metadata": {},
     "output_type": "execute_result"
    }
   ],
   "source": [
    "np.diag(np.diag(a))"
   ]
  },
  {
   "cell_type": "code",
   "execution_count": 8,
   "metadata": {},
   "outputs": [
    {
     "data": {
      "text/plain": [
       "(array([2], dtype=int64), array([3], dtype=int64))"
      ]
     },
     "execution_count": 8,
     "metadata": {},
     "output_type": "execute_result"
    }
   ],
   "source": [
    "# where\n",
    "\n",
    "np.where(a==11)"
   ]
  },
  {
   "cell_type": "code",
   "execution_count": 9,
   "metadata": {},
   "outputs": [
    {
     "data": {
      "text/plain": [
       "tuple"
      ]
     },
     "execution_count": 9,
     "metadata": {},
     "output_type": "execute_result"
    }
   ],
   "source": [
    "loc=np.where(a==11)\n",
    "type(loc)"
   ]
  },
  {
   "cell_type": "code",
   "execution_count": 34,
   "metadata": {},
   "outputs": [
    {
     "name": "stdout",
     "output_type": "stream",
     "text": [
      "[2] [3]\n"
     ]
    }
   ],
   "source": [
    "print(*loc)# *:去掉dtype"
   ]
  },
  {
   "cell_type": "code",
   "execution_count": 11,
   "metadata": {},
   "outputs": [
    {
     "data": {
      "text/plain": [
       "matrix([[ 0.75785151,  0.58777708],\n",
       "        [ 0.98046399,  0.41725257]])"
      ]
     },
     "execution_count": 11,
     "metadata": {},
     "output_type": "execute_result"
    }
   ],
   "source": [
    "# ndarray's matrix operation\n",
    "\n",
    "a=np.random.rand(2,2)\n",
    "a=np.mat(a)\n",
    "a"
   ]
  },
  {
   "cell_type": "code",
   "execution_count": 36,
   "metadata": {},
   "outputs": [
    {
     "name": "stdout",
     "output_type": "stream",
     "text": [
      "[[ 1.15119376 -1.49095002]\n",
      " [-0.46747587  5.77747264]]\n"
     ]
    }
   ],
   "source": [
    "ia=np.linalg.inv(a)"
   ]
  },
  {
   "cell_type": "code",
   "execution_count": 13,
   "metadata": {},
   "outputs": [
    {
     "name": "stdout",
     "output_type": "stream",
     "text": [
      "[[  1.00000000e+00   2.22044605e-16]\n",
      " [  0.00000000e+00   1.00000000e+00]]\n"
     ]
    }
   ],
   "source": [
    "print(a*ia)# ndarray's matrix operation\n",
    "\n",
    "a=np.random.rand(2,2)\n",
    "a=np.mat(a)\n",
    "a"
   ]
  },
  {
   "cell_type": "code",
   "execution_count": 14,
   "metadata": {
    "collapsed": true
   },
   "outputs": [],
   "source": [
    "# in list or string, 'add ' concatenation, what if you really want to contenation\n",
    "# using ndarray or matrix\n",
    "\n",
    "a=np.array((1,2,3))\n",
    "b=np.array((4,5,6))\n"
   ]
  },
  {
   "cell_type": "code",
   "execution_count": 15,
   "metadata": {},
   "outputs": [
    {
     "data": {
      "text/plain": [
       "array([[1, 4],\n",
       "       [2, 5],\n",
       "       [3, 6]])"
      ]
     },
     "execution_count": 15,
     "metadata": {},
     "output_type": "execute_result"
    }
   ],
   "source": [
    "c=np.column_stack((a,b))\n",
    "c"
   ]
  },
  {
   "cell_type": "code",
   "execution_count": 16,
   "metadata": {},
   "outputs": [
    {
     "data": {
      "text/plain": [
       "array([[1, 2, 3],\n",
       "       [4, 5, 6]])"
      ]
     },
     "execution_count": 16,
     "metadata": {},
     "output_type": "execute_result"
    }
   ],
   "source": [
    "d=np.row_stack((a,b))\n",
    "d"
   ]
  },
  {
   "cell_type": "code",
   "execution_count": 17,
   "metadata": {},
   "outputs": [
    {
     "name": "stdout",
     "output_type": "stream",
     "text": [
      "[[ 0.97035028  0.25041118]\n",
      " [ 0.07851449  0.19334772]]\n",
      "[[ 0.77492189  0.2039282 ]\n",
      " [ 0.10193652  0.41169606]]\n"
     ]
    }
   ],
   "source": [
    "# for ndarray with multiple dimension\n",
    "a=np.random.rand(2,2)\n",
    "b=np.random.rand(2,2)\n",
    "print(a)\n",
    "print(b)"
   ]
  },
  {
   "cell_type": "code",
   "execution_count": 18,
   "metadata": {},
   "outputs": [
    {
     "data": {
      "text/plain": [
       "array([[ 0.97035028,  0.25041118,  0.77492189,  0.2039282 ],\n",
       "       [ 0.07851449,  0.19334772,  0.10193652,  0.41169606]])"
      ]
     },
     "execution_count": 18,
     "metadata": {},
     "output_type": "execute_result"
    }
   ],
   "source": [
    "c=np.hstack([a,b])\n",
    "c"
   ]
  },
  {
   "cell_type": "code",
   "execution_count": 19,
   "metadata": {},
   "outputs": [
    {
     "data": {
      "text/plain": [
       "array([[ 0.97035028,  0.25041118],\n",
       "       [ 0.07851449,  0.19334772],\n",
       "       [ 0.77492189,  0.2039282 ],\n",
       "       [ 0.10193652,  0.41169606]])"
      ]
     },
     "execution_count": 19,
     "metadata": {},
     "output_type": "execute_result"
    }
   ],
   "source": [
    "d=np.vstack([a,b])\n",
    "d"
   ]
  },
  {
   "cell_type": "code",
   "execution_count": 20,
   "metadata": {
    "collapsed": true
   },
   "outputs": [],
   "source": [
    "# look at a real example\n",
    "\n",
    "import urllib #get data from the web"
   ]
  },
  {
   "cell_type": "code",
   "execution_count": 21,
   "metadata": {
    "collapsed": true
   },
   "outputs": [],
   "source": [
    "import os"
   ]
  },
  {
   "cell_type": "code",
   "execution_count": 22,
   "metadata": {
    "collapsed": true
   },
   "outputs": [],
   "source": [
    "if not os.path.exists('populations.txt'):# check if the file exists\n",
    "    urllib.request.urlretrieve(\"http://www.scipy-lectures.org/_downloads/populations.txt\",\"populations.txt\")"
   ]
  },
  {
   "cell_type": "code",
   "execution_count": 23,
   "metadata": {},
   "outputs": [
    {
     "name": "stdout",
     "output_type": "stream",
     "text": [
      "3.000000000000000000e+04 4.000000000000000000e+03 4.830000000000000000e+04\n",
      "4.720000000000000000e+04 6.100000000000000000e+03 4.820000000000000000e+04\n",
      "7.020000000000000000e+04 9.800000000000000000e+03 4.150000000000000000e+04\n",
      "7.740000000000000000e+04 3.520000000000000000e+04 3.820000000000000000e+04\n",
      "3.630000000000000000e+04 5.940000000000000000e+04 4.060000000000000000e+04\n",
      "2.060000000000000000e+04 4.170000000000000000e+04 3.980000000000000000e+04\n",
      "1.810000000000000000e+04 1.900000000000000000e+04 3.860000000000000000e+04\n",
      "2.140000000000000000e+04 1.300000000000000000e+04 4.230000000000000000e+04\n",
      "2.200000000000000000e+04 8.300000000000000000e+03 4.450000000000000000e+04\n",
      "2.540000000000000000e+04 9.100000000000000000e+03 4.210000000000000000e+04\n",
      "2.710000000000000000e+04 7.400000000000000000e+03 4.600000000000000000e+04\n",
      "4.030000000000000000e+04 8.000000000000000000e+03 4.680000000000000000e+04\n",
      "5.700000000000000000e+04 1.230000000000000000e+04 4.380000000000000000e+04\n",
      "7.660000000000000000e+04 1.950000000000000000e+04 4.090000000000000000e+04\n",
      "5.230000000000000000e+04 4.570000000000000000e+04 3.940000000000000000e+04\n",
      "1.950000000000000000e+04 5.110000000000000000e+04 3.900000000000000000e+04\n",
      "1.120000000000000000e+04 2.970000000000000000e+04 3.670000000000000000e+04\n",
      "7.600000000000000000e+03 1.580000000000000000e+04 4.180000000000000000e+04\n",
      "1.460000000000000000e+04 9.700000000000000000e+03 4.330000000000000000e+04\n",
      "1.620000000000000000e+04 1.010000000000000000e+04 4.130000000000000000e+04\n",
      "2.470000000000000000e+04 8.600000000000000000e+03 4.730000000000000000e+04\n"
     ]
    }
   ],
   "source": [
    "! more populations.txt"
   ]
  },
  {
   "cell_type": "code",
   "execution_count": 24,
   "metadata": {
    "collapsed": true
   },
   "outputs": [],
   "source": [
    "# #is for notation  % is a magic function, provided by jupyter notebook  ! external command sign symbol for mac, ! head -n 6 population.txt"
   ]
  },
  {
   "cell_type": "code",
   "execution_count": 25,
   "metadata": {},
   "outputs": [
    {
     "data": {
      "text/plain": [
       "array([[ 47200.,   6100.,  48200.],\n",
       "       [ 70200.,   9800.,  41500.],\n",
       "       [ 77400.,  35200.,  38200.],\n",
       "       [ 36300.,  59400.,  40600.],\n",
       "       [ 20600.,  41700.,  39800.],\n",
       "       [ 18100.,  19000.,  38600.],\n",
       "       [ 21400.,  13000.,  42300.],\n",
       "       [ 22000.,   8300.,  44500.],\n",
       "       [ 25400.,   9100.,  42100.],\n",
       "       [ 27100.,   7400.,  46000.],\n",
       "       [ 40300.,   8000.,  46800.],\n",
       "       [ 57000.,  12300.,  43800.],\n",
       "       [ 76600.,  19500.,  40900.],\n",
       "       [ 52300.,  45700.,  39400.],\n",
       "       [ 19500.,  51100.,  39000.],\n",
       "       [ 11200.,  29700.,  36700.],\n",
       "       [  7600.,  15800.,  41800.],\n",
       "       [ 14600.,   9700.,  43300.],\n",
       "       [ 16200.,  10100.,  41300.],\n",
       "       [ 24700.,   8600.,  47300.]])"
      ]
     },
     "execution_count": 25,
     "metadata": {},
     "output_type": "execute_result"
    }
   ],
   "source": [
    "# np can load tab delimited data\n",
    "# automatically skip the first line if it is text\n",
    "\n",
    "data=np.loadtxt('populations.txt',skiprows=1)\n",
    "data"
   ]
  },
  {
   "cell_type": "code",
   "execution_count": 26,
   "metadata": {
    "collapsed": true
   },
   "outputs": [],
   "source": [
    "np.savetxt('hare.txt',data[:,1])"
   ]
  },
  {
   "cell_type": "code",
   "execution_count": 27,
   "metadata": {},
   "outputs": [
    {
     "name": "stdout",
     "output_type": "stream",
     "text": [
      "6.100000000000000000e+03\n",
      "9.800000000000000000e+03\n",
      "3.520000000000000000e+04\n",
      "5.940000000000000000e+04\n",
      "4.170000000000000000e+04\n",
      "1.900000000000000000e+04\n",
      "1.300000000000000000e+04\n",
      "8.300000000000000000e+03\n",
      "9.100000000000000000e+03\n",
      "7.400000000000000000e+03\n",
      "8.000000000000000000e+03\n",
      "1.230000000000000000e+04\n",
      "1.950000000000000000e+04\n",
      "4.570000000000000000e+04\n",
      "5.110000000000000000e+04\n",
      "2.970000000000000000e+04\n",
      "1.580000000000000000e+04\n",
      "9.700000000000000000e+03\n",
      "1.010000000000000000e+04\n",
      "8.600000000000000000e+03\n"
     ]
    }
   ],
   "source": [
    "! more hare.txt"
   ]
  },
  {
   "cell_type": "code",
   "execution_count": 28,
   "metadata": {},
   "outputs": [
    {
     "data": {
      "text/plain": [
       "array([[30000,  4000, 48300],\n",
       "       [47200,  6100, 48200],\n",
       "       [70200,  9800, 41500],\n",
       "       [77400, 35200, 38200],\n",
       "       [36300, 59400, 40600],\n",
       "       [20600, 41700, 39800],\n",
       "       [18100, 19000, 38600],\n",
       "       [21400, 13000, 42300],\n",
       "       [22000,  8300, 44500],\n",
       "       [25400,  9100, 42100],\n",
       "       [27100,  7400, 46000],\n",
       "       [40300,  8000, 46800],\n",
       "       [57000, 12300, 43800],\n",
       "       [76600, 19500, 40900],\n",
       "       [52300, 45700, 39400],\n",
       "       [19500, 51100, 39000],\n",
       "       [11200, 29700, 36700],\n",
       "       [ 7600, 15800, 41800],\n",
       "       [14600,  9700, 43300],\n",
       "       [16200, 10100, 41300],\n",
       "       [24700,  8600, 47300]])"
      ]
     },
     "execution_count": 28,
     "metadata": {},
     "output_type": "execute_result"
    }
   ],
   "source": [
    "data=np.loadtxt('populations.txt').astype('int')\n",
    "data"
   ]
  },
  {
   "cell_type": "code",
   "execution_count": 29,
   "metadata": {},
   "outputs": [
    {
     "data": {
      "text/plain": [
       "array([34080, 20166, 42400])"
      ]
     },
     "execution_count": 29,
     "metadata": {},
     "output_type": "execute_result"
    }
   ],
   "source": [
    "# the mean of the populations for each species\n",
    "data.mean(axis=0).astype('int')"
   ]
  },
  {
   "cell_type": "code",
   "execution_count": 30,
   "metadata": {},
   "outputs": [
    {
     "data": {
      "text/plain": [
       "array([77400, 59400, 48300])"
      ]
     },
     "execution_count": 30,
     "metadata": {},
     "output_type": "execute_result"
    }
   ],
   "source": [
    "# which year each species had the largest population\n",
    "data.max(axis=0)"
   ]
  },
  {
   "cell_type": "code",
   "execution_count": 31,
   "metadata": {},
   "outputs": [
    {
     "data": {
      "text/plain": [
       "array([[ 4000, 48300],\n",
       "       [ 6100, 48200],\n",
       "       [ 9800, 41500],\n",
       "       [35200, 38200],\n",
       "       [59400, 40600],\n",
       "       [41700, 39800],\n",
       "       [19000, 38600],\n",
       "       [13000, 42300],\n",
       "       [ 8300, 44500],\n",
       "       [ 9100, 42100],\n",
       "       [ 7400, 46000],\n",
       "       [ 8000, 46800],\n",
       "       [12300, 43800],\n",
       "       [19500, 40900],\n",
       "       [45700, 39400],\n",
       "       [51100, 39000],\n",
       "       [29700, 36700],\n",
       "       [15800, 41800],\n",
       "       [ 9700, 43300],\n",
       "       [10100, 41300],\n",
       "       [ 8600, 47300]])"
      ]
     },
     "execution_count": 31,
     "metadata": {},
     "output_type": "execute_result"
    }
   ],
   "source": [
    "populations=data[:,1:]\n",
    "populations"
   ]
  },
  {
   "cell_type": "code",
   "execution_count": 32,
   "metadata": {},
   "outputs": [
    {
     "ename": "ValueError",
     "evalue": "not enough values to unpack (expected 4, got 3)",
     "output_type": "error",
     "traceback": [
      "\u001b[1;31m---------------------------------------------------------------------------\u001b[0m",
      "\u001b[1;31mValueError\u001b[0m                                Traceback (most recent call last)",
      "\u001b[1;32m<ipython-input-32-62736b1f4813>\u001b[0m in \u001b[0;36m<module>\u001b[1;34m()\u001b[0m\n\u001b[1;32m----> 1\u001b[1;33m \u001b[0myear\u001b[0m\u001b[1;33m,\u001b[0m\u001b[0mhare\u001b[0m\u001b[1;33m,\u001b[0m\u001b[0mlynx\u001b[0m\u001b[1;33m,\u001b[0m\u001b[0mcarrot\u001b[0m\u001b[1;33m=\u001b[0m\u001b[0mdata\u001b[0m\u001b[1;33m.\u001b[0m\u001b[0mT\u001b[0m\u001b[1;33m\u001b[0m\u001b[0m\n\u001b[0m",
      "\u001b[1;31mValueError\u001b[0m: not enough values to unpack (expected 4, got 3)"
     ]
    }
   ],
   "source": [
    "year,hare,lynx,carrot=data.T"
   ]
  },
  {
   "cell_type": "code",
   "execution_count": null,
   "metadata": {},
   "outputs": [],
   "source": [
    "year"
   ]
  },
  {
   "cell_type": "code",
   "execution_count": null,
   "metadata": {},
   "outputs": [],
   "source": [
    "hare"
   ]
  },
  {
   "cell_type": "code",
   "execution_count": null,
   "metadata": {},
   "outputs": [],
   "source": [
    "lynx"
   ]
  },
  {
   "cell_type": "code",
   "execution_count": null,
   "metadata": {},
   "outputs": [],
   "source": [
    "carrot"
   ]
  },
  {
   "cell_type": "code",
   "execution_count": null,
   "metadata": {},
   "outputs": [],
   "source": [
    "np.argmax(data,axis=0)"
   ]
  },
  {
   "cell_type": "code",
   "execution_count": null,
   "metadata": {},
   "outputs": [],
   "source": [
    "year[np.argmax(populations,axis=0)] # the location of the largest element"
   ]
  },
  {
   "cell_type": "code",
   "execution_count": null,
   "metadata": {},
   "outputs": [],
   "source": [
    "# which year hare is above 50000\n",
    "year[hare>50000]"
   ]
  },
  {
   "cell_type": "code",
   "execution_count": null,
   "metadata": {
    "collapsed": true
   },
   "outputs": [],
   "source": [
    "# which years any of the populations is above 50000"
   ]
  },
  {
   "cell_type": "code",
   "execution_count": null,
   "metadata": {},
   "outputs": [],
   "source": [
    "year[np.any(populations>50000,axis=1)]"
   ]
  },
  {
   "cell_type": "code",
   "execution_count": null,
   "metadata": {
    "collapsed": true
   },
   "outputs": [],
   "source": [
    "# panda is python package for data analysis\n",
    "# the name has nothing to do with panda bear,but derived from the term \"panel data\"\n",
    "\n",
    "# Essential concepts:\n",
    "# a dictionary is a key-value pair\n",
    "# \"breakfast\":\"ham\"\n",
    "\n",
    "# A series is a named python list(dict with list as value)\n",
    "# 'grades':[50,90,100,45]\n",
    "\n",
    "# A data frame is a dictionary of Series(dict of series)\n",
    "#"
   ]
  }
 ],
 "metadata": {
  "kernelspec": {
   "display_name": "Python 3",
   "language": "python",
   "name": "python3"
  },
  "language_info": {
   "codemirror_mode": {
    "name": "ipython",
    "version": 3
   },
   "file_extension": ".py",
   "mimetype": "text/x-python",
   "name": "python",
   "nbconvert_exporter": "python",
   "pygments_lexer": "ipython3",
   "version": "3.6.3"
  }
 },
 "nbformat": 4,
 "nbformat_minor": 2
}
