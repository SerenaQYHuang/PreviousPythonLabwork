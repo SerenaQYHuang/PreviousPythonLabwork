{
 "cells": [
  {
   "cell_type": "markdown",
   "metadata": {},
   "source": [
    "# instructions: you only need numpy for the following questions, no need to use pandas. "
   ]
  },
  {
   "cell_type": "code",
   "execution_count": 1,
   "metadata": {},
   "outputs": [
    {
     "name": "stdout",
     "output_type": "stream",
     "text": [
      "[[ 0  1  2  3]\n",
      " [ 4  5  6  7]\n",
      " [ 8  9 10 11]]\n",
      "OVerall 5.5\n",
      "Row [ 1.5  5.5  9.5]\n",
      "Columne [ 4.  5.  6.  7.]\n"
     ]
    }
   ],
   "source": [
    "# 1. Find the row, column and overall means for the following matrix:\n",
    "import numpy as np\n",
    "m = np.arange(12).reshape((3,4))\n",
    "\n",
    "# answer \n",
    "\n",
    "m = np.arange(12).reshape((3,4))\n",
    "print(m)\n",
    "print (\"OVerall\", m.mean())\n",
    "print (\"Row\", m.mean(1))\n",
    "print (\"Columne\", m.mean(0))"
   ]
  },
  {
   "cell_type": "code",
   "execution_count": 2,
   "metadata": {},
   "outputs": [
    {
     "name": "stdout",
     "output_type": "stream",
     "text": [
      "[[ 0.21720105  0.51675971  0.90888221  0.23018026  0.4687185   0.26359687]\n",
      " [ 0.03379953  0.61398597  0.76895385  0.11031804  0.88617518  0.2699013 ]\n",
      " [ 0.37993079  0.53920915  0.61772441  0.53023903  0.3050967   0.57257161]\n",
      " [ 0.59914669  0.25760562  0.64932417  0.26492232  0.65888631  0.07849046]\n",
      " [ 0.71398899  0.07559732  0.12621428  0.76748486  0.02167162  0.97779157]\n",
      " [ 0.45470256  0.79608937  0.01179232  0.75031065  0.59151595  0.48758594]\n",
      " [ 0.06065284  0.76404225  0.13141284  0.73573864  0.60998548  0.34705671]\n",
      " [ 0.42330583  0.16881465  0.64007765  0.21880995  0.80559531  0.29505957]\n",
      " [ 0.38906356  0.18462025  0.3418836   0.45806974  0.85902863  0.09928069]\n",
      " [ 0.19746893  0.77069249  0.0864474   0.41178439  0.45903042  0.79592313]]\n",
      "[[ 0.21720105  0.51675971  0.90888221  0.23018026  0.4687185   0.26359687]\n",
      " [ 0.          0.          0.          0.          0.          0.        ]\n",
      " [ 0.37993079  0.53920915  0.61772441  0.53023903  0.3050967   0.57257161]\n",
      " [ 0.          0.          0.          0.          0.          0.        ]\n",
      " [ 0.          0.          0.          0.          0.          0.        ]\n",
      " [ 0.          0.          0.          0.          0.          0.        ]\n",
      " [ 0.          0.          0.          0.          0.          0.        ]\n",
      " [ 0.42330583  0.16881465  0.64007765  0.21880995  0.80559531  0.29505957]\n",
      " [ 0.          0.          0.          0.          0.          0.        ]\n",
      " [ 0.          0.          0.          0.          0.          0.        ]]\n"
     ]
    }
   ],
   "source": [
    "# 2. Create a 10 by 6 matrix of random uniform numbers. Set all rows with any entry less than 0.1 to be zero.\n",
    "\n",
    "# answer\n",
    "\n",
    "xs= np.random.random((10,6))\n",
    "print (xs)\n",
    "xs[(xs < 0.1).any(axis=1), :] = 0\n",
    "print (xs)\n"
   ]
  },
  {
   "cell_type": "code",
   "execution_count": 3,
   "metadata": {},
   "outputs": [
    {
     "name": "stdout",
     "output_type": "stream",
     "text": [
      "[15 19 18 15 13 17]\n"
     ]
    }
   ],
   "source": [
    "# 3. Generate six random integer numbers between 10 and 20.\n",
    "\n",
    "# answer \n",
    "\n",
    "x = np.random.randint(low=10, high=20, size=6)\n",
    "print(x)"
   ]
  },
  {
   "cell_type": "code",
   "execution_count": 4,
   "metadata": {},
   "outputs": [
    {
     "name": "stdout",
     "output_type": "stream",
     "text": [
      "Original array:\n",
      "[ 0.03754453  0.87678822  0.92794915  0.10904789  0.48388853  0.88475643\n",
      "  0.54832051  0.57991033]\n",
      "Sorted array:\n",
      "[ 0.03754453  0.10904789  0.48388853  0.54832051  0.57991033  0.87678822\n",
      "  0.88475643  0.92794915]\n"
     ]
    }
   ],
   "source": [
    "# 4. Create an array of 8 random numbers and sort it. \n",
    "\n",
    "# answer\n",
    "\n",
    "import numpy as np\n",
    "x = np.random.random(8)\n",
    "print(\"Original array:\")\n",
    "print(x)\n",
    "x.sort()\n",
    "print(\"Sorted array:\")\n",
    "print(x)"
   ]
  },
  {
   "cell_type": "code",
   "execution_count": 5,
   "metadata": {},
   "outputs": [
    {
     "name": "stdout",
     "output_type": "stream",
     "text": [
      "3.1415952\n"
     ]
    }
   ],
   "source": [
    "# 5. Create a program to calculate pi - tip: make use of random number and calculation to do this. Do NOT use building functions \n",
    "# or libraries. need 3 decimal points accuracy. \n",
    "\n",
    "\n",
    "s=20000000\n",
    "data=np.random.uniform(-1,1,s).reshape(10000000,2)\n",
    "count=0\n",
    "\n",
    "for i in data:\n",
    "    if np.square(i[0])+np.square(i[1])<1:\n",
    "        count+=1\n",
    "pi=8*count/s\n",
    "\n",
    "print(pi)"
   ]
  },
  {
   "cell_type": "markdown",
   "metadata": {},
   "source": [
    "##  Just insert your answer and ouput into this notebook file and then print out a hardcopy, bring it to class next Monday. \n",
    "##  Enjoy your assignment 1. "
   ]
  }
 ],
 "metadata": {
  "kernelspec": {
   "display_name": "Python 3",
   "language": "python",
   "name": "python3"
  },
  "language_info": {
   "codemirror_mode": {
    "name": "ipython",
    "version": 3
   },
   "file_extension": ".py",
   "mimetype": "text/x-python",
   "name": "python",
   "nbconvert_exporter": "python",
   "pygments_lexer": "ipython3",
   "version": "3.6.3"
  }
 },
 "nbformat": 4,
 "nbformat_minor": 2
}
