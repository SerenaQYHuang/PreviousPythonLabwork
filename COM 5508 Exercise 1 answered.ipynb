{
 "cells": [
  {
   "cell_type": "markdown",
   "metadata": {},
   "source": [
    "# instructions: you only need numpy for the following questions, no need to use pandas. "
   ]
  },
  {
   "cell_type": "code",
   "execution_count": 2,
   "metadata": {},
   "outputs": [
    {
     "data": {
      "text/plain": [
       "matrix([[ 0,  1,  2,  3],\n",
       "        [ 4,  5,  6,  7],\n",
       "        [ 8,  9, 10, 11]])"
      ]
     },
     "execution_count": 2,
     "metadata": {},
     "output_type": "execute_result"
    }
   ],
   "source": [
    "# 1. Find the row, column and overall means for the following matrix:\n",
    "\n",
    "# m = np.arange(12).reshape((3,4))\n",
    "import numpy as np\n",
    "a=np.mat(np.arange(12).reshape((3,4)))\n",
    "a"
   ]
  },
  {
   "cell_type": "code",
   "execution_count": 3,
   "metadata": {},
   "outputs": [
    {
     "data": {
      "text/plain": [
       "matrix([[ 4.,  5.,  6.,  7.]])"
      ]
     },
     "execution_count": 3,
     "metadata": {},
     "output_type": "execute_result"
    }
   ],
   "source": [
    "a.mean(axis=0)"
   ]
  },
  {
   "cell_type": "code",
   "execution_count": 4,
   "metadata": {},
   "outputs": [
    {
     "data": {
      "text/plain": [
       "matrix([[ 1.5],\n",
       "        [ 5.5],\n",
       "        [ 9.5]])"
      ]
     },
     "execution_count": 4,
     "metadata": {},
     "output_type": "execute_result"
    }
   ],
   "source": [
    "a.mean(axis=1)"
   ]
  },
  {
   "cell_type": "code",
   "execution_count": 5,
   "metadata": {},
   "outputs": [
    {
     "data": {
      "text/plain": [
       "5.5"
      ]
     },
     "execution_count": 5,
     "metadata": {},
     "output_type": "execute_result"
    }
   ],
   "source": [
    "np.mean(a)"
   ]
  },
  {
   "cell_type": "code",
   "execution_count": 1,
   "metadata": {},
   "outputs": [
    {
     "data": {
      "text/plain": [
       "matrix([[ 0.        ,  0.        ,  0.        ,  0.        ,  0.        ,\n",
       "          0.        ],\n",
       "        [ 0.68731098,  0.46255716,  0.67888263,  0.56194737,  0.61664749,\n",
       "          0.14860609],\n",
       "        [ 0.25795482,  0.51095828,  0.24689155,  0.11747582,  0.80973925,\n",
       "          0.55984854],\n",
       "        [ 0.89179377,  0.69366818,  0.58610626,  0.96851222,  0.29588872,\n",
       "          0.97612051],\n",
       "        [ 0.70318405,  0.72858551,  0.69509749,  0.42383789,  0.14478219,\n",
       "          0.99027574],\n",
       "        [ 0.        ,  0.        ,  0.        ,  0.        ,  0.        ,\n",
       "          0.        ],\n",
       "        [ 0.14376146,  0.24235961,  0.26253559,  0.62287732,  0.79828315,\n",
       "          0.73065787],\n",
       "        [ 0.89946889,  0.92776705,  0.11342903,  0.17225967,  0.90327691,\n",
       "          0.16496797],\n",
       "        [ 0.        ,  0.        ,  0.        ,  0.        ,  0.        ,\n",
       "          0.        ],\n",
       "        [ 0.        ,  0.        ,  0.        ,  0.        ,  0.        ,\n",
       "          0.        ]])"
      ]
     },
     "execution_count": 1,
     "metadata": {},
     "output_type": "execute_result"
    }
   ],
   "source": [
    "# 2. Create a 10 by 6 matrix of random uniform numbers. Set all rows with any entry less than 0.1 to be zero.\n",
    "import numpy as np\n",
    "a=np.random.uniform(size=60).reshape(10,6)\n",
    "a[np.any(a<.1,axis=1)]=0\n",
    "b=np.mat(a)\n",
    "b"
   ]
  },
  {
   "cell_type": "code",
   "execution_count": 8,
   "metadata": {},
   "outputs": [
    {
     "data": {
      "text/plain": [
       "matrix([[13, 14, 15, 17, 14, 18]])"
      ]
     },
     "execution_count": 8,
     "metadata": {},
     "output_type": "execute_result"
    }
   ],
   "source": [
    "# 3. Generate six random integer numbers between 10 and 20.\n",
    "\n",
    "c=np.mat(np.random.randint(10,20,6))\n",
    "c"
   ]
  },
  {
   "cell_type": "code",
   "execution_count": 25,
   "metadata": {},
   "outputs": [
    {
     "data": {
      "text/plain": [
       "array([ 0.1503579 ,  0.2461864 ,  0.38088025,  0.41589685,  0.46324174,\n",
       "        0.61014634,  0.76844917,  0.95402776])"
      ]
     },
     "execution_count": 25,
     "metadata": {},
     "output_type": "execute_result"
    }
   ],
   "source": [
    "# 4. Create an array of 8 random numbers and sort it. \n",
    "\n",
    "d=np.random.rand(8)\n",
    "np.sort(d)"
   ]
  },
  {
   "cell_type": "code",
   "execution_count": 16,
   "metadata": {},
   "outputs": [
    {
     "data": {
      "text/plain": [
       "3.142"
      ]
     },
     "execution_count": 16,
     "metadata": {},
     "output_type": "execute_result"
    }
   ],
   "source": [
    "# 5. Create a program to calculate pi - tip: make use of random number and calculation to do this. Do NOT use building functions \n",
    "# or libraries. need 3 decimal points accuracy. \n",
    "\n",
    "import math\n",
    "p=np.random.uniform(0,100000)\n",
    "pi=math.radians(p)*(math.sin(math.radians(180)/math.radians(p)))\n",
    "round(pi,3)"
   ]
  },
  {
   "cell_type": "code",
   "execution_count": 121,
   "metadata": {},
   "outputs": [
    {
     "data": {
      "text/plain": [
       "3.142"
      ]
     },
     "execution_count": 121,
     "metadata": {},
     "output_type": "execute_result"
    }
   ],
   "source": [
    "import random\n",
    "n=10000000\n",
    "a=0\n",
    "for i in range(n):\n",
    "    x=random.random()\n",
    "    y=random.random()\n",
    "    if x**2 + y**2 <= 1.000:\n",
    "        a+=1\n",
    "pi=(a/n)*4\n",
    "round(pi,3)"
   ]
  },
  {
   "cell_type": "markdown",
   "metadata": {},
   "source": [
    "##  Just insert your answer and ouput into this notebook file and then print out a hardcopy, bring it to class next Monday. \n",
    "##  Enjoy your assignment 1. "
   ]
  }
 ],
 "metadata": {
  "kernelspec": {
   "display_name": "Python 3",
   "language": "python",
   "name": "python3"
  },
  "language_info": {
   "codemirror_mode": {
    "name": "ipython",
    "version": 3
   },
   "file_extension": ".py",
   "mimetype": "text/x-python",
   "name": "python",
   "nbconvert_exporter": "python",
   "pygments_lexer": "ipython3",
   "version": "3.6.3"
  }
 },
 "nbformat": 4,
 "nbformat_minor": 2
}
